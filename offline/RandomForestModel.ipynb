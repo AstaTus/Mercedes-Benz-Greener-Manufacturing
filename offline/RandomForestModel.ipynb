{
 "cells": [
  {
   "cell_type": "code",
   "execution_count": 1,
   "metadata": {
    "collapsed": false
   },
   "outputs": [
    {
     "name": "stderr",
     "output_type": "stream",
     "text": [
      "C:\\Program Files\\Anaconda3\\lib\\site-packages\\sklearn\\cross_validation.py:44: DeprecationWarning: This module was deprecated in version 0.18 in favor of the model_selection module into which all the refactored classes and functions are moved. Also note that the interface of the new CV iterators are different from that of this module. This module will be removed in 0.20.\n",
      "  \"This module will be removed in 0.20.\", DeprecationWarning)\n",
      "C:\\Program Files\\Anaconda3\\lib\\site-packages\\sklearn\\grid_search.py:43: DeprecationWarning: This module was deprecated in version 0.18 in favor of the model_selection module into which all the refactored classes and functions are moved. This module will be removed in 0.20.\n",
      "  DeprecationWarning)\n"
     ]
    }
   ],
   "source": [
    "import pandas as pd\n",
    "import numpy as np\n",
    "\n",
    "from sklearn.ensemble import RandomForestRegressor\n",
    "from sklearn.model_selection import train_test_split\n",
    "from sklearn.metrics import classification_report\n",
    "from sklearn.model_selection import validation_curve\n",
    "from sklearn.model_selection import learning_curve\n",
    "from sklearn import metrics\n",
    "from sklearn.metrics import fbeta_score, make_scorer\n",
    "from sklearn.grid_search import GridSearchCV\n",
    "from sklearn.metrics import r2_score\n",
    "\n",
    "\n",
    "import matplotlib\n",
    "import matplotlib.pyplot as plt"
   ]
  },
  {
   "cell_type": "code",
   "execution_count": 2,
   "metadata": {
    "collapsed": true
   },
   "outputs": [],
   "source": [
    "import sys\n",
    "sys.path.append('../lib')\n",
    "\n",
    "import XgbAdjustmentHelper as xgbhelper"
   ]
  },
  {
   "cell_type": "code",
   "execution_count": null,
   "metadata": {
    "collapsed": true
   },
   "outputs": [],
   "source": []
  },
  {
   "cell_type": "code",
   "execution_count": 3,
   "metadata": {
    "collapsed": true
   },
   "outputs": [],
   "source": [
    "munged_train_df = pd.read_csv('../data/offline/train.csv', index_col=0)\n",
    "munged_test_df = pd.read_csv('../data/offline/test.csv', index_col=0)\n",
    "y_train_df = pd.read_csv('../data/offline/y_train.csv', index_col=0)\n",
    "\n",
    "X_train, X_test, y_train, y_test = train_test_split(munged_train_df.values, y_train_df.values, test_size=0.5, random_state=1729)\n",
    "X_all_train = munged_train_df.values\n",
    "y_all_train = y_train_df['y'].values"
   ]
  },
  {
   "cell_type": "code",
   "execution_count": 4,
   "metadata": {
    "collapsed": true
   },
   "outputs": [],
   "source": [
    "feature_names = munged_train_df.columns"
   ]
  },
  {
   "cell_type": "code",
   "execution_count": 8,
   "metadata": {
    "collapsed": false
   },
   "outputs": [
    {
     "name": "stdout",
     "output_type": "stream",
     "text": [
      "\n",
      "grid_scores\n",
      "mean: 0.56001, std: 0.07409, params: {'n_estimators': 60}\n",
      "mean: 0.56025, std: 0.07427, params: {'n_estimators': 80}\n",
      "\n",
      "best_params\n",
      "{'n_estimators': 80}\n",
      "\n",
      "best_score\n",
      "0.5602485988823588\n"
     ]
    }
   ],
   "source": [
    "#粗调\n",
    "rf_model = RandomForestRegressor(n_estimators=70, criterion='mse', max_depth=3, min_samples_split=2, \n",
    "                                  min_samples_leaf=1, min_weight_fraction_leaf=0.0, max_features='auto', \n",
    "                                  max_leaf_nodes=None, min_impurity_split=1e-07, bootstrap=True, \n",
    "                                  oob_score=False, n_jobs=-1, random_state=1729, verbose=0, warm_start=False)\n",
    "\n",
    "params1 = {\n",
    " 'n_estimators':[60, 80]\n",
    "}\n",
    "search = xgbhelper.ModelParamSearch(rf_model, params1, X_all_train, y_all_train, 'r2')"
   ]
  },
  {
   "cell_type": "code",
   "execution_count": null,
   "metadata": {
    "collapsed": true
   },
   "outputs": [],
   "source": [
    "# grid_scores\n",
    "# mean: 0.56011, std: 0.07412, params: {'n_estimators': 50}\n",
    "# mean: 0.56033, std: 0.07440, params: {'n_estimators': 70}\n",
    "# mean: 0.56016, std: 0.07428, params: {'n_estimators': 90}\n",
    "\n",
    "# best_params\n",
    "# {'n_estimators': 70}\n",
    "\n",
    "# best_score\n",
    "# 0.5603298962758696\n",
    "\n",
    "# grid_scores\n",
    "# mean: 0.48948, std: 0.05201, params: {'n_estimators': 100, 'max_depth': 2}\n",
    "# mean: 0.48950, std: 0.05206, params: {'n_estimators': 500, 'max_depth': 2}\n",
    "# mean: 0.48948, std: 0.05206, params: {'n_estimators': 1000, 'max_depth': 2}\n",
    "# mean: 0.55987, std: 0.07416, params: {'n_estimators': 100, 'max_depth': 3}\n",
    "# mean: 0.55979, std: 0.07420, params: {'n_estimators': 500, 'max_depth': 3}\n",
    "# mean: 0.55979, std: 0.07429, params: {'n_estimators': 1000, 'max_depth': 3}\n",
    "# mean: 0.55580, std: 0.07147, params: {'n_estimators': 100, 'max_depth': 4}\n",
    "# mean: 0.55556, std: 0.07210, params: {'n_estimators': 500, 'max_depth': 4}\n",
    "# mean: 0.55574, std: 0.07233, params: {'n_estimators': 1000, 'max_depth': 4}\n",
    "\n",
    "# best_params\n",
    "# {'n_estimators': 100, 'max_depth': 3}\n",
    "\n",
    "# best_score\n",
    "# 0.5598719501150295"
   ]
  },
  {
   "cell_type": "code",
   "execution_count": 9,
   "metadata": {
    "collapsed": false
   },
   "outputs": [
    {
     "name": "stdout",
     "output_type": "stream",
     "text": [
      "\n",
      "grid_scores\n",
      "mean: 0.55988, std: 0.07342, params: {'min_samples_leaf': 2, 'min_samples_split': 2}\n",
      "mean: 0.55988, std: 0.07342, params: {'min_samples_leaf': 2, 'min_samples_split': 3}\n",
      "mean: 0.55988, std: 0.07342, params: {'min_samples_leaf': 2, 'min_samples_split': 4}\n",
      "mean: 0.56034, std: 0.07332, params: {'min_samples_leaf': 3, 'min_samples_split': 2}\n",
      "mean: 0.56034, std: 0.07332, params: {'min_samples_leaf': 3, 'min_samples_split': 3}\n",
      "mean: 0.56034, std: 0.07332, params: {'min_samples_leaf': 3, 'min_samples_split': 4}\n",
      "mean: 0.56047, std: 0.07372, params: {'min_samples_leaf': 4, 'min_samples_split': 2}\n",
      "mean: 0.56047, std: 0.07372, params: {'min_samples_leaf': 4, 'min_samples_split': 3}\n",
      "mean: 0.56047, std: 0.07372, params: {'min_samples_leaf': 4, 'min_samples_split': 4}\n",
      "\n",
      "best_params\n",
      "{'min_samples_leaf': 4, 'min_samples_split': 2}\n",
      "\n",
      "best_score\n",
      "0.5604697459218239\n"
     ]
    }
   ],
   "source": [
    "rf_model = RandomForestRegressor(n_estimators=70, criterion='mse', max_depth=3, min_samples_split=2, \n",
    "                                  min_samples_leaf=1, min_weight_fraction_leaf=0.0, max_features='auto', \n",
    "                                  max_leaf_nodes=None, min_impurity_split=1e-07, bootstrap=True, \n",
    "                                  oob_score=False, n_jobs=-1, random_state=1729, verbose=0, warm_start=False)\n",
    "\n",
    "params2 = {\n",
    " 'min_samples_split':[2, 3, 4],\n",
    " 'min_samples_leaf':[2, 3, 4]\n",
    "}\n",
    "search = xgbhelper.ModelParamSearch(rf_model, params2, X_all_train, y_all_train, 'r2')"
   ]
  },
  {
   "cell_type": "code",
   "execution_count": null,
   "metadata": {
    "collapsed": true
   },
   "outputs": [],
   "source": [
    "rf_model = RandomForestRegressor(n_estimators=70, criterion='mse', max_depth=3, min_samples_split=2, \n",
    "                                  min_samples_leaf=4, min_weight_fraction_leaf=0.0, max_features='auto', \n",
    "                                  max_leaf_nodes=None, min_impurity_split=1e-07, bootstrap=True, \n",
    "                                  oob_score=False, n_jobs=-1, random_state=1729, verbose=0, warm_start=False)\n",
    "\n",
    "params2 = {\n",
    " 'min_samples_split':[2, 3, 4],\n",
    " 'min_samples_leaf':[2, 3, 4]\n",
    "}\n",
    "search = xgbhelper.ModelParamSearch(rf_model, params2, X_all_train, y_all_train, 'r2')"
   ]
  },
  {
   "cell_type": "code",
   "execution_count": 11,
   "metadata": {
    "collapsed": false
   },
   "outputs": [
    {
     "name": "stdout",
     "output_type": "stream",
     "text": [
      "0.56432460285\n",
      "0.602345742843\n",
      "0.462076281792\n",
      "0.574173571767\n",
      "0.445149671041\n",
      "0.618533919336\n",
      "0.556877713499\n",
      "0.609562882493\n",
      "0.589494949172\n",
      "0.585703249393\n",
      "0.560824258419\n"
     ]
    }
   ],
   "source": [
    "avg_score = 0\n",
    "\n",
    "rf_model = RandomForestRegressor(n_estimators=70, criterion='mse', max_depth=3, min_samples_split=2, \n",
    "                                  min_samples_leaf=4, min_weight_fraction_leaf=0.0, max_features='auto', \n",
    "                                  max_leaf_nodes=None, min_impurity_split=1e-07, bootstrap=True, \n",
    "                                  oob_score=False, n_jobs=-1, random_state=1729, verbose=0, warm_start=False)\n",
    "\n",
    "for i in range(10,20):\n",
    "    X_train, X_test, y_train, y_test = train_test_split(X_all_train, y_all_train, test_size=0.19, random_state=i)\n",
    "    rf_model.fit(X_train, y_train)\n",
    "    y_pred = rf_model.predict(X_test)\n",
    "    \n",
    "    score = r2_score(y_test, y_pred)\n",
    "    avg_score += score\n",
    "    print(score)\n",
    "    \n",
    "print(avg_score / 10)"
   ]
  },
  {
   "cell_type": "code",
   "execution_count": null,
   "metadata": {
    "collapsed": true
   },
   "outputs": [],
   "source": [
    "0.560824258419"
   ]
  }
 ],
 "metadata": {
  "anaconda-cloud": {},
  "kernelspec": {
   "display_name": "Python [conda root]",
   "language": "python",
   "name": "conda-root-py"
  },
  "language_info": {
   "codemirror_mode": {
    "name": "ipython",
    "version": 3
   },
   "file_extension": ".py",
   "mimetype": "text/x-python",
   "name": "python",
   "nbconvert_exporter": "python",
   "pygments_lexer": "ipython3",
   "version": "3.5.2"
  }
 },
 "nbformat": 4,
 "nbformat_minor": 1
}
