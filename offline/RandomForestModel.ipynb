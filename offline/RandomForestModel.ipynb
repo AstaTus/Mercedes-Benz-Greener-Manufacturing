{
 "cells": [
  {
   "cell_type": "code",
   "execution_count": 29,
   "metadata": {
    "collapsed": false
   },
   "outputs": [],
   "source": [
    "import pandas as pd\n",
    "import numpy as np\n",
    "\n",
    "from sklearn.ensemble import RandomForestRegressor\n",
    "from sklearn.model_selection import train_test_split\n",
    "from sklearn.metrics import classification_report\n",
    "from sklearn.model_selection import validation_curve\n",
    "from sklearn.model_selection import learning_curve\n",
    "from sklearn import metrics\n",
    "from sklearn.metrics import fbeta_score, make_scorer\n",
    "from sklearn.grid_search import GridSearchCV\n",
    "from sklearn.metrics import r2_score\n",
    "\n",
    "\n",
    "import matplotlib\n",
    "import matplotlib.pyplot as plt"
   ]
  },
  {
   "cell_type": "code",
   "execution_count": 30,
   "metadata": {
    "collapsed": true
   },
   "outputs": [],
   "source": [
    "import sys\n",
    "sys.path.append('../lib')\n",
    "\n",
    "import XgbAdjustmentHelper as xgbhelper\n",
    "import SklearnModelCurve as curve_helper"
   ]
  },
  {
   "cell_type": "code",
   "execution_count": null,
   "metadata": {
    "collapsed": true
   },
   "outputs": [],
   "source": []
  },
  {
   "cell_type": "code",
   "execution_count": 42,
   "metadata": {
    "collapsed": true
   },
   "outputs": [],
   "source": [
    "munged_train_df = pd.read_csv('../data/offline/train.csv', index_col=0)\n",
    "munged_test_df = pd.read_csv('../data/offline/test.csv', index_col=0)\n",
    "y_train_df = pd.read_csv('../data/offline/y_train.csv', index_col=0)\n",
    "\n",
    "X_train, X_test, y_train, y_test = train_test_split(munged_train_df.values, y_train_df.values, test_size=0.5, random_state=1729)\n",
    "X_all_train = munged_train_df.values\n",
    "y_all_train = y_train_df['y'].values"
   ]
  },
  {
   "cell_type": "code",
   "execution_count": 43,
   "metadata": {
    "collapsed": true
   },
   "outputs": [],
   "source": [
    "feature_names = munged_train_df.columns"
   ]
  },
  {
   "cell_type": "code",
   "execution_count": 44,
   "metadata": {
    "collapsed": false
   },
   "outputs": [
    {
     "name": "stdout",
     "output_type": "stream",
     "text": [
      "\n",
      "grid_scores\n",
      "mean: 0.56005, std: 0.07581, params: {'n_estimators': 60}\n",
      "mean: 0.56033, std: 0.07592, params: {'n_estimators': 70}\n",
      "mean: 0.56026, std: 0.07581, params: {'n_estimators': 80}\n",
      "\n",
      "best_params\n",
      "{'n_estimators': 70}\n",
      "\n",
      "best_score\n",
      "0.5603287075036253\n"
     ]
    }
   ],
   "source": [
    "#粗调\n",
    "rf_model = RandomForestRegressor(n_estimators=70, criterion='mse', max_depth=3, min_samples_split=2, \n",
    "                                  min_samples_leaf=1, min_weight_fraction_leaf=0.0, max_features='auto', \n",
    "                                  max_leaf_nodes=None, min_impurity_split=1e-07, bootstrap=True, \n",
    "                                  oob_score=False, n_jobs=-1, random_state=1729, verbose=0, warm_start=False)\n",
    "\n",
    "params1 = {\n",
    " 'n_estimators':[60,70, 80]\n",
    "}\n",
    "search = xgbhelper.ModelParamSearch(rf_model, params1, X_all_train, y_all_train, 'r2')"
   ]
  },
  {
   "cell_type": "code",
   "execution_count": null,
   "metadata": {
    "collapsed": true
   },
   "outputs": [],
   "source": [
    "0.5596029436752745\n",
    "0.5592231432414312"
   ]
  },
  {
   "cell_type": "code",
   "execution_count": 34,
   "metadata": {
    "collapsed": true
   },
   "outputs": [],
   "source": [
    "# grid_scores\n",
    "# mean: 0.56011, std: 0.07412, params: {'n_estimators': 50}\n",
    "# mean: 0.56033, std: 0.07440, params: {'n_estimators': 70}\n",
    "# mean: 0.56016, std: 0.07428, params: {'n_estimators': 90}\n",
    "\n",
    "# best_params\n",
    "# {'n_estimators': 70}\n",
    "\n",
    "# best_score\n",
    "# 0.5603298962758696\n",
    "\n",
    "# grid_scores\n",
    "# mean: 0.48948, std: 0.05201, params: {'n_estimators': 100, 'max_depth': 2}\n",
    "# mean: 0.48950, std: 0.05206, params: {'n_estimators': 500, 'max_depth': 2}\n",
    "# mean: 0.48948, std: 0.05206, params: {'n_estimators': 1000, 'max_depth': 2}\n",
    "# mean: 0.55987, std: 0.07416, params: {'n_estimators': 100, 'max_depth': 3}\n",
    "# mean: 0.55979, std: 0.07420, params: {'n_estimators': 500, 'max_depth': 3}\n",
    "# mean: 0.55979, std: 0.07429, params: {'n_estimators': 1000, 'max_depth': 3}\n",
    "# mean: 0.55580, std: 0.07147, params: {'n_estimators': 100, 'max_depth': 4}\n",
    "# mean: 0.55556, std: 0.07210, params: {'n_estimators': 500, 'max_depth': 4}\n",
    "# mean: 0.55574, std: 0.07233, params: {'n_estimators': 1000, 'max_depth': 4}\n",
    "\n",
    "# best_params\n",
    "# {'n_estimators': 100, 'max_depth': 3}\n",
    "\n",
    "# best_score\n",
    "# 0.5598719501150295"
   ]
  },
  {
   "cell_type": "code",
   "execution_count": 45,
   "metadata": {
    "collapsed": false
   },
   "outputs": [
    {
     "name": "stdout",
     "output_type": "stream",
     "text": [
      "\n",
      "grid_scores\n",
      "mean: 0.56033, std: 0.07592, params: {'min_samples_leaf': 1, 'min_samples_split': 2}\n",
      "mean: 0.56033, std: 0.07592, params: {'min_samples_leaf': 1, 'min_samples_split': 3}\n",
      "mean: 0.56033, std: 0.07592, params: {'min_samples_leaf': 1, 'min_samples_split': 4}\n",
      "mean: 0.56030, std: 0.07589, params: {'min_samples_leaf': 2, 'min_samples_split': 2}\n",
      "mean: 0.56030, std: 0.07589, params: {'min_samples_leaf': 2, 'min_samples_split': 3}\n",
      "mean: 0.56030, std: 0.07589, params: {'min_samples_leaf': 2, 'min_samples_split': 4}\n",
      "mean: 0.56034, std: 0.07590, params: {'min_samples_leaf': 3, 'min_samples_split': 2}\n",
      "mean: 0.56034, std: 0.07590, params: {'min_samples_leaf': 3, 'min_samples_split': 3}\n",
      "mean: 0.56034, std: 0.07590, params: {'min_samples_leaf': 3, 'min_samples_split': 4}\n",
      "mean: 0.56059, std: 0.07614, params: {'min_samples_leaf': 4, 'min_samples_split': 2}\n",
      "mean: 0.56059, std: 0.07614, params: {'min_samples_leaf': 4, 'min_samples_split': 3}\n",
      "mean: 0.56059, std: 0.07614, params: {'min_samples_leaf': 4, 'min_samples_split': 4}\n",
      "\n",
      "best_params\n",
      "{'min_samples_leaf': 4, 'min_samples_split': 2}\n",
      "\n",
      "best_score\n",
      "0.5605881641581043\n"
     ]
    }
   ],
   "source": [
    "rf_model = RandomForestRegressor(n_estimators=70, criterion='mse', max_depth=3, min_samples_split=2, \n",
    "                                  min_samples_leaf=1, min_weight_fraction_leaf=0.0, max_features='auto', \n",
    "                                  max_leaf_nodes=None, min_impurity_split=1e-07, bootstrap=True, \n",
    "                                  oob_score=False, n_jobs=-1, random_state=1729, verbose=0, warm_start=False)\n",
    "\n",
    "params2 = {\n",
    " 'min_samples_split':[2, 3, 4],\n",
    " 'min_samples_leaf':[1, 2, 3, 4]\n",
    "}\n",
    "search = xgbhelper.ModelParamSearch(rf_model, params2, X_all_train, y_all_train, 'r2')"
   ]
  },
  {
   "cell_type": "code",
   "execution_count": 47,
   "metadata": {
    "collapsed": false
   },
   "outputs": [
    {
     "name": "stdout",
     "output_type": "stream",
     "text": [
      "0.562560071345\n",
      "0.604223922799\n",
      "0.465109384164\n",
      "0.574192952401\n",
      "0.44457172146\n",
      "0.626150840636\n",
      "0.559103402228\n",
      "0.605686693289\n",
      "0.591436244108\n",
      "0.585059176142\n",
      "0.561809440857\n"
     ]
    }
   ],
   "source": [
    "avg_score = 0\n",
    "\n",
    "rf_model = RandomForestRegressor(n_estimators=70, criterion='mse', max_depth=3, min_samples_split=2, \n",
    "                                  min_samples_leaf=6, min_weight_fraction_leaf=0.0, max_features='auto', \n",
    "                                  max_leaf_nodes=None, min_impurity_split=1e-07, bootstrap=True, \n",
    "                                  oob_score=False, n_jobs=-1, random_state=1729, verbose=0, warm_start=False)\n",
    "\n",
    "for i in range(10,20):\n",
    "    X_train, X_test, y_train, y_test = train_test_split(X_all_train, y_all_train, test_size=0.19, random_state=i)\n",
    "    rf_model.fit(X_train, y_train)\n",
    "    y_pred = rf_model.predict(X_test)\n",
    "    \n",
    "    score = r2_score(y_test, y_pred)\n",
    "    avg_score += score\n",
    "    print(score)\n",
    "    \n",
    "print(avg_score / 10)"
   ]
  },
  {
   "cell_type": "code",
   "execution_count": 48,
   "metadata": {
    "collapsed": false
   },
   "outputs": [
    {
     "data": {
      "text/plain": [
       "0.561601970758"
      ]
     },
     "execution_count": 48,
     "metadata": {},
     "output_type": "execute_result"
    }
   ],
   "source": [
    "0.561601970758"
   ]
  },
  {
   "cell_type": "code",
   "execution_count": 49,
   "metadata": {
    "collapsed": false
   },
   "outputs": [
    {
     "data": {
      "image/png": "[encoded data removed]",
      "text/plain": [
       "<matplotlib.figure.Figure at 0x1f78f6f77f0>"
      ]
     },
     "metadata": {},
     "output_type": "display_data"
    }
   ],
   "source": [
    "curve_helper.plot_learning_curve(rf_model, 'xgb', X_all_train, y_all_train, cv=5)"
   ]
  },
  {
   "cell_type": "code",
   "execution_count": 50,
   "metadata": {
    "collapsed": false
   },
   "outputs": [],
   "source": [
    "rf_model.fit(X_all_train, y_all_train)\n",
    "y_pred = rf_model.predict(munged_test_df.values)\n",
    "output = pd.DataFrame({'id': munged_test_df.index, 'y': y_pred})\n",
    "output.to_csv('../data/online/randomforest-ica.csv', index=False)"
   ]
  },
  {
   "cell_type": "code",
   "execution_count": null,
   "metadata": {
    "collapsed": true
   },
   "outputs": [],
   "source": []
  }
 ],
 "metadata": {
  "anaconda-cloud": {},
  "kernelspec": {
   "display_name": "Python [conda root]",
   "language": "python",
   "name": "conda-root-py"
  },
  "language_info": {
   "codemirror_mode": {
    "name": "ipython",
    "version": 3
   },
   "file_extension": ".py",
   "mimetype": "text/x-python",
   "name": "python",
   "nbconvert_exporter": "python",
   "pygments_lexer": "ipython3",
   "version": "3.5.2"
  }
 },
 "nbformat": 4,
 "nbformat_minor": 1
}
