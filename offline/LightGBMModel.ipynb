{
 "cells": [
  {
   "cell_type": "code",
   "execution_count": 1,
   "metadata": {
    "collapsed": false
   },
   "outputs": [
    {
     "name": "stderr",
     "output_type": "stream",
     "text": [
      "D:\\DevelopKit\\Anaconda3\\lib\\site-packages\\sklearn\\cross_validation.py:44: DeprecationWarning: This module was deprecated in version 0.18 in favor of the model_selection module into which all the refactored classes and functions are moved. Also note that the interface of the new CV iterators are different from that of this module. This module will be removed in 0.20.\n",
      "  \"This module will be removed in 0.20.\", DeprecationWarning)\n",
      "D:\\DevelopKit\\Anaconda3\\lib\\site-packages\\sklearn\\grid_search.py:43: DeprecationWarning: This module was deprecated in version 0.18 in favor of the model_selection module into which all the refactored classes and functions are moved. This module will be removed in 0.20.\n",
      "  DeprecationWarning)\n"
     ]
    }
   ],
   "source": [
    "import pandas as pd\n",
    "import numpy as np\n",
    "\n",
    "import lightgbm as lgb\n",
    "\n",
    "from sklearn.ensemble import GradientBoostingRegressor\n",
    "from sklearn.ensemble import RandomForestRegressor\n",
    "from sklearn.model_selection import train_test_split\n",
    "from sklearn.metrics import classification_report\n",
    "from sklearn.model_selection import validation_curve\n",
    "from sklearn.model_selection import learning_curve\n",
    "from sklearn import metrics\n",
    "from sklearn.metrics import fbeta_score, make_scorer\n",
    "from sklearn.grid_search import GridSearchCV\n",
    "from sklearn.model_selection import KFold\n",
    "\n",
    "import matplotlib\n",
    "import matplotlib.pyplot as plt\n",
    "\n",
    "from sklearn.metrics import r2_score"
   ]
  },
  {
   "cell_type": "code",
   "execution_count": 2,
   "metadata": {
    "collapsed": true
   },
   "outputs": [],
   "source": [
    "import sys\n",
    "sys.path.append('../lib')\n",
    "\n",
    "import XgbAdjustmentHelper as xgbhelper\n",
    "import SklearnModelCurve as curve_helper"
   ]
  },
  {
   "cell_type": "code",
   "execution_count": 21,
   "metadata": {
    "collapsed": true
   },
   "outputs": [],
   "source": [
    "munged_train_df = pd.read_csv('../data/offline/train.csv', index_col=0)\n",
    "munged_test_df = pd.read_csv('../data/offline/test.csv', index_col=0)\n",
    "y_train_df = pd.read_csv('../data/offline/y_train.csv', index_col=0)\n",
    "\n",
    "X_train, X_test, y_train, y_test = train_test_split(munged_train_df.values, y_train_df['y'].values, test_size=0.5, random_state=1729)\n",
    "X_all_train = munged_train_df.values\n",
    "y_all_train = y_train_df['y'].values"
   ]
  },
  {
   "cell_type": "code",
   "execution_count": 22,
   "metadata": {
    "collapsed": false
   },
   "outputs": [
    {
     "data": {
      "text/plain": [
       "array([ 0.08000104, -0.0851757 , -0.0139028 , ..., -0.0095644 ,\n",
       "       -0.07907276,  0.10596074])"
      ]
     },
     "execution_count": 22,
     "metadata": {},
     "output_type": "execute_result"
    }
   ],
   "source": [
    "y_train"
   ]
  },
  {
   "cell_type": "code",
   "execution_count": 23,
   "metadata": {
    "collapsed": false
   },
   "outputs": [
    {
     "name": "stdout",
     "output_type": "stream",
     "text": [
      "Best parameters found by grid search are: {'num_leaves': 9, 'n_estimators': 700, 'subsample': 0.95, 'learning_rate': 0.005}\n",
      "Best score:0.588318\n"
     ]
    }
   ],
   "source": [
    "init_param = {\n",
    "    'silent':True,\n",
    "    'objective':'reg:linear',\n",
    "    'seed':27,\n",
    "    'max_depth':4,\n",
    "}\n",
    "\n",
    "adjust_param1 = {\n",
    "    'learning_rate':[0.05, 0.01, 0.005],\n",
    "    'n_estimators':[500, 700, 1000, 1300],\n",
    "}\n",
    "\n",
    "\n",
    "adjust_param2 = {\n",
    "    'min_child_weight':[1, 3, 8],\n",
    "}\n",
    "\n",
    "adjust_param3 = {\n",
    "    'subsample':[i/100.0 for i in range(85, 105, 5)],\n",
    "    'colsample_bytree':[i/100.0 for i in range(85, 105, 5)],\n",
    "}\n",
    "\n",
    "adjust_param4 = {\n",
    "    'reg_alpha':[1e-5, 1e-3,1e-1, 10],\n",
    "}\n",
    "\n",
    "\n",
    "adjust_params = [adjust_param1, adjust_param2, adjust_param3, adjust_param4]\n",
    "\n",
    "\n",
    "# init_param = {\n",
    "#     'learning_rate':0.1,\n",
    "#     'n_estimators':100,\n",
    "#     'silent':False,\n",
    "#     'objective':'reg:linear',\n",
    "#     'seed':27,\n",
    "    \n",
    "#     'min_child_weight':6,\n",
    "#     'subsample':1,\n",
    "#     'colsample_bytree':0.9,\n",
    "#     'gamma':0\n",
    "# }\n",
    "\n",
    "# adjust_param = {\n",
    "#     'max_depth':[3, 4],\n",
    "# }\n",
    "\n",
    "estimator = lgb.LGBMRegressor(max_depth=4)\n",
    "\n",
    "param_grid = {\n",
    "    'num_leaves':[9, 10, 11],\n",
    "    'learning_rate': [0.005, 0.01],\n",
    "    'n_estimators': [500, 700],\n",
    "    'subsample':[0.90, 0.95]\n",
    "    \n",
    "}\n",
    "\n",
    "gbm = GridSearchCV(estimator, param_grid)\n",
    "\n",
    "gbm.fit(X_train, y_train)\n",
    "y_pred = gbm.predict(X_test)\n",
    "\n",
    "print('Best parameters found by grid search are:', gbm.best_params_)\n",
    "print('Best score:%f'%(r2_score(y_test, y_pred)))"
   ]
  },
  {
   "cell_type": "code",
   "execution_count": null,
   "metadata": {
    "collapsed": true
   },
   "outputs": [],
   "source": [
    "Best score:0.510306"
   ]
  },
  {
   "cell_type": "code",
   "execution_count": 24,
   "metadata": {
    "collapsed": false
   },
   "outputs": [],
   "source": [
    "gbm_model = lgb.LGBMRegressor(max_depth=4, num_leaves=9, learning_rate=0.005, n_estimators=700, subsample=0.95, seed=1729)"
   ]
  },
  {
   "cell_type": "code",
   "execution_count": 32,
   "metadata": {
    "collapsed": false
   },
   "outputs": [],
   "source": [
    "smooth = 5\n",
    "y_mean=4.653474409882869"
   ]
  },
  {
   "cell_type": "code",
   "execution_count": null,
   "metadata": {
    "collapsed": true
   },
   "outputs": [],
   "source": [
    "import "
   ]
  },
  {
   "cell_type": "code",
   "execution_count": 33,
   "metadata": {
    "collapsed": true
   },
   "outputs": [],
   "source": [
    "def KFoldCV(model, num_fold, X_train, y_train):\n",
    "    cv_results = []\n",
    "    kf = KFold(n_splits=num_fold, random_state=27)\n",
    "    for train_index, test_index in kf.split(X_train):\n",
    "        X_sub_train = X_train[train_index]\n",
    "        X_sub_test = X_train[test_index]\n",
    "        y_sub_train = y_train[train_index]\n",
    "        y_sub_test = y_train[test_index]\n",
    "        model.fit(X_sub_train, y_sub_train)\n",
    "        y_pred = model.predict(X_sub_test)\n",
    "        \n",
    "        score = r2_score(np.exp(y_sub_test+y_mean) - smooth, np.exp(y_pred+y_mean) - smooth)\n",
    "        cv_results.append(score)\n",
    "    print('mean:%f std:%f'%(np.mean(cv_results), np.std(cv_results)))"
   ]
  },
  {
   "cell_type": "code",
   "execution_count": 34,
   "metadata": {
    "collapsed": false
   },
   "outputs": [
    {
     "name": "stdout",
     "output_type": "stream",
     "text": [
      "mean:0.562733 std:0.075500\n"
     ]
    }
   ],
   "source": [
    "KFoldCV(gbm_model, 5, X_all_train, y_all_train)"
   ]
  },
  {
   "cell_type": "code",
   "execution_count": null,
   "metadata": {
    "collapsed": true
   },
   "outputs": [],
   "source": [
    "mean:0.562733 std:0.075500\n",
    "mean:0.558508 std:0.070926"
   ]
  },
  {
   "cell_type": "code",
   "execution_count": 35,
   "metadata": {
    "collapsed": false
   },
   "outputs": [],
   "source": [
    "gbm.fit(X_all_train, y_all_train)\n",
    "y_pred = np.exp(gbm.predict(munged_test_df.values) + y_mean) - smooth\n",
    "output = pd.DataFrame({'id': munged_test_df.index, 'y': y_pred})\n",
    "output.to_csv('../data/online/lightbgm-10-10-6-5_6-11-4_0.562733_0.075500.csv', index=False)"
   ]
  },
  {
   "cell_type": "code",
   "execution_count": null,
   "metadata": {
    "collapsed": true
   },
   "outputs": [],
   "source": []
  }
 ],
 "metadata": {
  "anaconda-cloud": {},
  "kernelspec": {
   "display_name": "Python [conda root]",
   "language": "python",
   "name": "conda-root-py"
  },
  "language_info": {
   "codemirror_mode": {
    "name": "ipython",
    "version": 3
   },
   "file_extension": ".py",
   "mimetype": "text/x-python",
   "name": "python",
   "nbconvert_exporter": "python",
   "pygments_lexer": "ipython3",
   "version": "3.5.2"
  }
 },
 "nbformat": 4,
 "nbformat_minor": 1
}
