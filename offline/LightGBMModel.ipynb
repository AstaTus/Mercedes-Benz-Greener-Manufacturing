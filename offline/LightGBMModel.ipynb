{
 "cells": [
  {
   "cell_type": "code",
   "execution_count": 72,
   "metadata": {
    "collapsed": false
   },
   "outputs": [],
   "source": [
    "import pandas as pd\n",
    "import numpy as np\n",
    "\n",
    "import lightgbm as lgb\n",
    "\n",
    "from sklearn.ensemble import GradientBoostingRegressor\n",
    "from sklearn.ensemble import RandomForestRegressor\n",
    "from sklearn.model_selection import train_test_split\n",
    "from sklearn.metrics import classification_report\n",
    "from sklearn.model_selection import validation_curve\n",
    "from sklearn.model_selection import learning_curve\n",
    "from sklearn import metrics\n",
    "from sklearn.metrics import fbeta_score, make_scorer\n",
    "from sklearn.grid_search import GridSearchCV\n",
    "from sklearn.model_selection import KFold\n",
    "\n",
    "import matplotlib\n",
    "import matplotlib.pyplot as plt\n",
    "\n",
    "from sklearn.metrics import r2_score"
   ]
  },
  {
   "cell_type": "code",
   "execution_count": 73,
   "metadata": {
    "collapsed": false
   },
   "outputs": [],
   "source": [
    "import sys\n",
    "sys.path.append('../lib')\n",
    "\n",
    "import XgbAdjustmentHelper as xgbhelper\n",
    "import sklearn_model_curve\n",
    "from cv_helper import CVHelper"
   ]
  },
  {
   "cell_type": "code",
   "execution_count": 74,
   "metadata": {
    "collapsed": false
   },
   "outputs": [],
   "source": [
    "munged_train_df = pd.read_csv('../data/offline/train.csv', index_col=0)\n",
    "munged_test_df = pd.read_csv('../data/offline/test.csv', index_col=0)\n",
    "y_train_df = pd.read_csv('../data/offline/y_train.csv', index_col=0)\n",
    "\n",
    "X_train, X_test, y_train, y_test = train_test_split(munged_train_df.values, y_train_df['y'].values, test_size=0.5, random_state=4)\n",
    "X_all_train = munged_train_df.values\n",
    "y_all_train = y_train_df['y'].values"
   ]
  },
  {
   "cell_type": "code",
   "execution_count": 75,
   "metadata": {
    "collapsed": false
   },
   "outputs": [
    {
     "name": "stdout",
     "output_type": "stream",
     "text": [
      "Best parameters found by grid search are: {'learning_rate': 0.005, 'num_leaves': 9, 'n_estimators': 700, 'subsample': 0.9}\n",
      "Best score:0.607030\n"
     ]
    }
   ],
   "source": [
    "init_param = {\n",
    "    'silent':True,\n",
    "    'objective':'reg:linear',\n",
    "    'seed':27,\n",
    "    'max_depth':4,\n",
    "}\n",
    "\n",
    "adjust_param1 = {\n",
    "    'learning_rate':[0.05, 0.01, 0.005],\n",
    "    'n_estimators':[500, 700, 1000, 1300],\n",
    "}\n",
    "\n",
    "\n",
    "adjust_param2 = {\n",
    "    'min_child_weight':[1, 3, 8],\n",
    "}\n",
    "\n",
    "adjust_param3 = {\n",
    "    'subsample':[i/100.0 for i in range(85, 105, 5)],\n",
    "    'colsample_bytree':[i/100.0 for i in range(85, 105, 5)],\n",
    "}\n",
    "\n",
    "adjust_param4 = {\n",
    "    'reg_alpha':[1e-5, 1e-3,1e-1, 10],\n",
    "}\n",
    "\n",
    "\n",
    "adjust_params = [adjust_param1, adjust_param2, adjust_param3, adjust_param4]\n",
    "\n",
    "\n",
    "# init_param = {\n",
    "#     'learning_rate':0.1,\n",
    "#     'n_estimators':100,\n",
    "#     'silent':False,\n",
    "#     'objective':'reg:linear',\n",
    "#     'seed':27,\n",
    "    \n",
    "#     'min_child_weight':6,\n",
    "#     'subsample':1,\n",
    "#     'colsample_bytree':0.9,\n",
    "#     'gamma':0\n",
    "# }\n",
    "\n",
    "# adjust_param = {\n",
    "#     'max_depth':[3, 4],\n",
    "# }\n",
    "\n",
    "estimator = lgb.LGBMRegressor(max_depth=4)\n",
    "\n",
    "param_grid = {\n",
    "    'num_leaves':[9, 10, 11],\n",
    "    'learning_rate': [0.005, 0.01],\n",
    "    'n_estimators': [500, 700],\n",
    "    'subsample':[0.90, 0.95]\n",
    "    \n",
    "}\n",
    "\n",
    "gbm = GridSearchCV(estimator, param_grid)\n",
    "\n",
    "gbm.fit(X_train, y_train)\n",
    "y_pred = gbm.predict(X_test)\n",
    "\n",
    "print('Best parameters found by grid search are:', gbm.best_params_)\n",
    "print('Best score:%f'%(r2_score(y_test, y_pred)))"
   ]
  },
  {
   "cell_type": "code",
   "execution_count": 77,
   "metadata": {
    "collapsed": false
   },
   "outputs": [],
   "source": [
    "gbm_model = lgb.LGBMRegressor(max_depth=3, num_leaves=9, learning_rate=0.005, n_estimators=700, subsample=0.9, seed=3)"
   ]
  },
  {
   "cell_type": "code",
   "execution_count": 78,
   "metadata": {
    "collapsed": false
   },
   "outputs": [],
   "source": [
    "# smooth = 5\n",
    "# y_mean=4.653474409882869"
   ]
  },
  {
   "cell_type": "code",
   "execution_count": 79,
   "metadata": {
    "collapsed": false
   },
   "outputs": [
    {
     "name": "stdout",
     "output_type": "stream",
     "text": [
      "eval mean:0.604673 eval std:0.031643\n"
     ]
    },
    {
     "data": {
      "text/plain": [
       "(0.60467308714595236, 0.03164256929334907)"
      ]
     },
     "execution_count": 79,
     "metadata": {},
     "output_type": "execute_result"
    }
   ],
   "source": [
    "CVHelper.KFoldCV(gbm_model, 5, X_all_train, y_all_train, r2_score)"
   ]
  },
  {
   "cell_type": "code",
   "execution_count": 80,
   "metadata": {
    "collapsed": false
   },
   "outputs": [],
   "source": [
    "#eval mean:0.604425 eval std:0.031972\n",
    "#eval mean:0.605258 eval std:0.032396 SEED=456\n",
    "#eval mean:0.605181 eval std:0.032289\n",
    "#eval mean:0.602633 eval std:0.034911\n",
    "# eval mean:0.568803 eval std:0.069982\n",
    "# eval mean:0.559371 eval std:0.075902\n",
    "# mean:0.550012 std:0.070716\n",
    "# mean:0.562733 std:0.075500\n",
    "# mean:0.558508 std:0.070926"
   ]
  },
  {
   "cell_type": "code",
   "execution_count": 81,
   "metadata": {
    "collapsed": false
   },
   "outputs": [
    {
     "data": {
      "image/png": "[encoded data removed]",
      "text/plain": [
       "<matplotlib.figure.Figure at 0x1c48b9952b0>"
      ]
     },
     "metadata": {},
     "output_type": "display_data"
    }
   ],
   "source": [
    "sklearn_model_curve.plot_learning_curve(gbm_model, 'lgb', X_all_train, y_all_train, cv=5)"
   ]
  },
  {
   "cell_type": "code",
   "execution_count": 50,
   "metadata": {
    "collapsed": false
   },
   "outputs": [],
   "source": [
    "gbm_model.fit(X_all_train, y_all_train)\n",
    "\n",
    "y_pred = gbm_model.predict(munged_test_df.values)\n",
    "output = pd.DataFrame({'id': munged_test_df.index, 'y': y_pred})\n",
    "output.to_csv('../data/online/lightbgm_outlier__6-26-6_0.604673_0.032991_3.csv', index=False)"
   ]
  },
  {
   "cell_type": "code",
   "execution_count": null,
   "metadata": {
    "collapsed": true
   },
   "outputs": [],
   "source": []
  }
 ],
 "metadata": {
  "anaconda-cloud": {},
  "kernelspec": {
   "display_name": "Python [conda root]",
   "language": "python",
   "name": "conda-root-py"
  },
  "language_info": {
   "codemirror_mode": {
    "name": "ipython",
    "version": 3
   },
   "file_extension": ".py",
   "mimetype": "text/x-python",
   "name": "python",
   "nbconvert_exporter": "python",
   "pygments_lexer": "ipython3",
   "version": "3.5.2"
  }
 },
 "nbformat": 4,
 "nbformat_minor": 1
}
