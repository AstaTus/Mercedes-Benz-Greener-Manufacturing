{
 "cells": [
  {
   "cell_type": "code",
   "execution_count": 9,
   "metadata": {
    "collapsed": false
   },
   "outputs": [],
   "source": [
    "import pandas as pd\n",
    "import numpy as np\n",
    "\n",
    "import xgboost as xgb\n",
    "\n",
    "from sklearn.ensemble import GradientBoostingRegressor\n",
    "from sklearn.ensemble import RandomForestRegressor\n",
    "from sklearn.model_selection import train_test_split\n",
    "from sklearn.metrics import classification_report\n",
    "from sklearn.model_selection import validation_curve\n",
    "from sklearn.model_selection import learning_curve\n",
    "from sklearn import metrics\n",
    "from sklearn.metrics import fbeta_score, make_scorer\n",
    "from sklearn.grid_search import GridSearchCV\n",
    "from sklearn.model_selection import KFold\n",
    "\n",
    "import matplotlib\n",
    "import matplotlib.pyplot as plt\n",
    "\n",
    "from sklearn.metrics import r2_score"
   ]
  },
  {
   "cell_type": "code",
   "execution_count": 10,
   "metadata": {
    "collapsed": false
   },
   "outputs": [],
   "source": [
    "import sys\n",
    "sys.path.append('../lib')\n",
    "\n",
    "import XgbAdjustmentHelper as xgbhelper\n",
    "from cv_helper import CVHelper\n",
    "import sklearn_model_curve"
   ]
  },
  {
   "cell_type": "code",
   "execution_count": 11,
   "metadata": {
    "collapsed": false
   },
   "outputs": [],
   "source": [
    "munged_train_df = pd.read_csv('../data/offline/train.csv', index_col=0)\n",
    "munged_test_df = pd.read_csv('../data/offline/test.csv', index_col=0)\n",
    "y_train_df = pd.read_csv('../data/offline/y_train.csv', index_col=0)\n",
    "\n",
    "X_train, X_test, y_train, y_test = train_test_split(munged_train_df.values, y_train_df.values, test_size=0.5, random_state=1729)\n",
    "X_all_train = munged_train_df.values\n",
    "y_all_train = y_train_df['y'].values"
   ]
  },
  {
   "cell_type": "code",
   "execution_count": 12,
   "metadata": {
    "collapsed": false
   },
   "outputs": [],
   "source": [
    "feature_names = munged_train_df.columns"
   ]
  },
  {
   "cell_type": "code",
   "execution_count": null,
   "metadata": {
    "collapsed": true
   },
   "outputs": [],
   "source": []
  },
  {
   "cell_type": "code",
   "execution_count": 13,
   "metadata": {
    "collapsed": true
   },
   "outputs": [],
   "source": [
    "# from hyperopt import hp\n",
    "# from hyperopt import fmin, tpe, hp, STATUS_OK, Trials\n",
    "\n",
    "# def objective(params):\n",
    "#     print(\"Training with params : \")\n",
    "#     print(params)\n",
    "#     params['max_depth'] = np.int(params['max_depth'])\n",
    "#     num_boost_round = 1000;\n",
    "#     early_stopping_rounds = 50;\n",
    "#     dtrain = xgb.DMatrix(X_train, label=y_train)\n",
    "#     dvalid = xgb.DMatrix(X_test)\n",
    "#     # watchlist = [(dvalid, 'eval'), (dtrain, 'train')]\n",
    "#     model = xgb.train(params, dtrain, num_boost_round = num_boost_round)\n",
    "#     y_predict = model.predict(dvalid)\n",
    "#     score = r2_score(y_test, y_predict)\n",
    "#     loss = 1- score\n",
    "#     print(\"\\tScore {0}\\n\\n\".format(score))\n",
    "#     return {'loss': loss, 'status': STATUS_OK}\n",
    "\n",
    "# def optimize():\n",
    "#     space = {\n",
    "#              'eta' : hp.uniform('eta', 0.005, 0.1),\n",
    "#              'max_depth' : 4,\n",
    "#              'min_child_weight' : hp.quniform('min_child_weight', 1, 9, 2),\n",
    "#              'subsample' : hp.quniform('subsample', 0.8, 1, 0.05),\n",
    "#              'gamma' : hp.quniform('gamma', 0, 0.5, 0.05),\n",
    "#              'colsample_bytree' : hp.quniform('colsample_bytree', 0.8, 1, 0.05),\n",
    "#              #'eval_metric': 'mlogloss',\n",
    "#              'objective': 'reg:linear',\n",
    "#              'silent' : 1,\n",
    "#              }\n",
    "\n",
    "#     best = fmin(objective, space, algo=tpe.suggest, max_evals=250)\n",
    "#     return best;\n",
    "\n",
    "# best = optimize()"
   ]
  },
  {
   "cell_type": "code",
   "execution_count": 14,
   "metadata": {
    "collapsed": false,
    "scrolled": true
   },
   "outputs": [],
   "source": [
    "# def ModelLearnRateSearch(params, learning_rates, num_bounds):\n",
    "#     xgtrain = xgb.DMatrix(X_train, label=y_train)\n",
    "#     xgb_model = xgb.XGBRegressor()\n",
    "#     xgb_model.set_params(**params)\n",
    "#     best_score = 0\n",
    "#     best_params = {}\n",
    "    \n",
    "#     for lr in learning_rates:\n",
    "        \n",
    "#         params['learning_rate'] = lr\n",
    "#         cvresult = xgb.cv(params, xgtrain, num_boost_round=num_bounds, nfold=5,\n",
    "#                           metrics='rmse', early_stopping_rounds=50)\n",
    "        \n",
    "#         valid_round = cvresult.shape[0]\n",
    "#         xgb_model.set_params(n_estimators = cvresult.shape[0], learning_rate = lr)\n",
    "#         xgb_model.fit(X_train, y_train)\n",
    "#         y_pred = xgb_model.predict(X_test)\n",
    "#         score = r2_score(y_test, y_pred)\n",
    "#         print(\"lr:%f  n_estimators:%d  score:%f\\n\"%(lr, valid_round, score))\n",
    "#         if best_score < score:\n",
    "#             best_score = score\n",
    "#             best_params['n_estimators'] = valid_round\n",
    "#             best_params['learning_rate'] = lr\n",
    "            \n",
    "#         print(xgb_model.get_params())\n",
    "#     return best_score, best_params"
   ]
  },
  {
   "cell_type": "code",
   "execution_count": null,
   "metadata": {
    "collapsed": true
   },
   "outputs": [],
   "source": []
  },
  {
   "cell_type": "code",
   "execution_count": 28,
   "metadata": {
    "collapsed": false
   },
   "outputs": [
    {
     "name": "stdout",
     "output_type": "stream",
     "text": [
      "eval mean:0.567428 eval std:0.072424\n"
     ]
    },
    {
     "data": {
      "text/plain": [
       "(0.56742815183441719, 0.072423687927196459)"
      ]
     },
     "execution_count": 28,
     "metadata": {},
     "output_type": "execute_result"
    }
   ],
   "source": [
    "xgb_model = xgb.XGBRegressor(n_estimators=600, max_depth=4, learning_rate=0.01, min_child_weight=8, colsample_bytree=0.85, subsample=0.92, seed=1729)\n",
    "CVHelper.KFoldCV(xgb_model, 5, X_all_train, y_all_train, r2_score)"
   ]
  },
  {
   "cell_type": "code",
   "execution_count": 18,
   "metadata": {
    "collapsed": false,
    "scrolled": false
   },
   "outputs": [
    {
     "name": "stdout",
     "output_type": "stream",
     "text": [
      "\n",
      "grid_scores\n",
      "mean: 0.56617, std: 0.07509, params: {'learning_rate': 0.01, 'n_estimators': 500}\n",
      "mean: 0.56490, std: 0.06858, params: {'learning_rate': 0.01, 'n_estimators': 700}\n",
      "mean: 0.56079, std: 0.06682, params: {'learning_rate': 0.01, 'n_estimators': 1000}\n",
      "mean: 0.15388, std: 0.13223, params: {'learning_rate': 0.005, 'n_estimators': 500}\n",
      "mean: 0.51849, std: 0.09808, params: {'learning_rate': 0.005, 'n_estimators': 700}\n",
      "mean: 0.56589, std: 0.07525, params: {'learning_rate': 0.005, 'n_estimators': 1000}\n",
      "\n",
      "best_params\n",
      "{'learning_rate': 0.01, 'n_estimators': 500}\n",
      "\n",
      "best_score\n",
      "0.5661732611882246\n",
      "\n",
      "grid_scores\n",
      "mean: 0.56617, std: 0.07509, params: {'min_child_weight': 1}\n",
      "mean: 0.56539, std: 0.07504, params: {'min_child_weight': 3}\n",
      "mean: 0.56693, std: 0.07611, params: {'min_child_weight': 8}\n",
      "\n",
      "best_params\n",
      "{'min_child_weight': 8}\n",
      "\n",
      "best_score\n",
      "0.566927683371629\n",
      "\n",
      "grid_scores\n",
      "mean: 0.56607, std: 0.07673, params: {'colsample_bytree': 0.85, 'subsample': 0.85}\n",
      "mean: 0.56706, std: 0.07722, params: {'colsample_bytree': 0.85, 'subsample': 0.9}\n",
      "mean: 0.56736, std: 0.07684, params: {'colsample_bytree': 0.85, 'subsample': 0.95}\n",
      "mean: 0.56710, std: 0.07670, params: {'colsample_bytree': 0.85, 'subsample': 1.0}\n",
      "mean: 0.56590, std: 0.07667, params: {'colsample_bytree': 0.9, 'subsample': 0.85}\n",
      "mean: 0.56709, std: 0.07678, params: {'colsample_bytree': 0.9, 'subsample': 0.9}\n",
      "mean: 0.56699, std: 0.07659, params: {'colsample_bytree': 0.9, 'subsample': 0.95}\n",
      "mean: 0.56687, std: 0.07642, params: {'colsample_bytree': 0.9, 'subsample': 1.0}\n",
      "mean: 0.56559, std: 0.07672, params: {'colsample_bytree': 0.95, 'subsample': 0.85}\n",
      "mean: 0.56665, std: 0.07673, params: {'colsample_bytree': 0.95, 'subsample': 0.9}\n",
      "mean: 0.56676, std: 0.07659, params: {'colsample_bytree': 0.95, 'subsample': 0.95}\n",
      "mean: 0.56710, std: 0.07659, params: {'colsample_bytree': 0.95, 'subsample': 1.0}\n",
      "mean: 0.56585, std: 0.07668, params: {'colsample_bytree': 1.0, 'subsample': 0.85}\n",
      "mean: 0.56673, std: 0.07697, params: {'colsample_bytree': 1.0, 'subsample': 0.9}\n",
      "mean: 0.56667, std: 0.07651, params: {'colsample_bytree': 1.0, 'subsample': 0.95}\n",
      "mean: 0.56693, std: 0.07611, params: {'colsample_bytree': 1.0, 'subsample': 1.0}\n",
      "\n",
      "best_params\n",
      "{'colsample_bytree': 0.85, 'subsample': 0.95}\n",
      "\n",
      "best_score\n",
      "0.5673623294167683\n"
     ]
    },
    {
     "ename": "NameError",
     "evalue": "name 'ModelLearnRateSearch' is not defined",
     "output_type": "error",
     "traceback": [
      "\u001b[0;31m---------------------------------------------------------------------------\u001b[0m",
      "\u001b[0;31mNameError\u001b[0m                                 Traceback (most recent call last)",
      "\u001b[0;32m<ipython-input-18-7c3835cfba99>\u001b[0m in \u001b[0;36m<module>\u001b[0;34m()\u001b[0m\n\u001b[1;32m     40\u001b[0m     \u001b[0mcombine_param\u001b[0m\u001b[1;33m.\u001b[0m\u001b[0mupdate\u001b[0m\u001b[1;33m(\u001b[0m\u001b[0msearch\u001b[0m\u001b[1;33m.\u001b[0m\u001b[0mbest_params_\u001b[0m\u001b[1;33m)\u001b[0m\u001b[1;33m\u001b[0m\u001b[0m\n\u001b[1;32m     41\u001b[0m \u001b[1;33m\u001b[0m\u001b[0m\n\u001b[0;32m---> 42\u001b[0;31m \u001b[0mscore\u001b[0m\u001b[1;33m,\u001b[0m \u001b[0mparams\u001b[0m \u001b[1;33m=\u001b[0m \u001b[0mModelLearnRateSearch\u001b[0m\u001b[1;33m(\u001b[0m\u001b[0mcombine_param\u001b[0m\u001b[1;33m,\u001b[0m \u001b[1;33m[\u001b[0m\u001b[1;36m0.1\u001b[0m\u001b[1;33m,\u001b[0m \u001b[1;36m0.05\u001b[0m\u001b[1;33m,\u001b[0m \u001b[1;36m0.01\u001b[0m\u001b[1;33m,\u001b[0m \u001b[1;36m0.005\u001b[0m\u001b[1;33m]\u001b[0m\u001b[1;33m,\u001b[0m \u001b[1;36m5000\u001b[0m\u001b[1;33m)\u001b[0m\u001b[1;33m\u001b[0m\u001b[0m\n\u001b[0m\u001b[1;32m     43\u001b[0m \u001b[0mcombine_param\u001b[0m\u001b[1;33m[\u001b[0m\u001b[1;34m'n_estimators'\u001b[0m\u001b[1;33m]\u001b[0m \u001b[1;33m=\u001b[0m \u001b[0mparams\u001b[0m\u001b[1;33m[\u001b[0m\u001b[1;34m'n_estimators'\u001b[0m\u001b[1;33m]\u001b[0m\u001b[1;33m\u001b[0m\u001b[0m\n\u001b[1;32m     44\u001b[0m \u001b[0mcombine_param\u001b[0m\u001b[1;33m[\u001b[0m\u001b[1;34m'learning_rate'\u001b[0m\u001b[1;33m]\u001b[0m \u001b[1;33m=\u001b[0m \u001b[0mparams\u001b[0m\u001b[1;33m[\u001b[0m\u001b[1;34m'learning_rate'\u001b[0m\u001b[1;33m]\u001b[0m\u001b[1;33m\u001b[0m\u001b[0m\n",
      "\u001b[0;31mNameError\u001b[0m: name 'ModelLearnRateSearch' is not defined"
     ]
    }
   ],
   "source": [
    "init_param = {\n",
    "    'silent':True,\n",
    "    'objective':'reg:linear',\n",
    "    'seed':27,\n",
    "    'max_depth':4,\n",
    "}\n",
    "\n",
    "adjust_param1 = {\n",
    "    'learning_rate':[0.01, 0.005],\n",
    "    'n_estimators':[500, 700, 1000],\n",
    "}\n",
    "\n",
    "\n",
    "adjust_param2 = {\n",
    "    'min_child_weight':[1, 3, 8],\n",
    "}\n",
    "\n",
    "adjust_param3 = {\n",
    "    'subsample':[i/100.0 for i in range(85, 105, 5)],\n",
    "    'colsample_bytree':[i/100.0 for i in range(85, 105, 5)],\n",
    "}\n",
    "\n",
    "# adjust_param4 = {\n",
    "#     'reg_alpha':[1e-5,1e-1],\n",
    "# }\n",
    "\n",
    "\n",
    "adjust_params = [adjust_param1, adjust_param2, adjust_param3]\n",
    "\n",
    "\n",
    "xgb_model = xgb.XGBRegressor()\n",
    "xgb_model.set_params(**init_param)\n",
    "\n",
    "combine_param = dict(init_param)\n",
    "\n",
    "for params in adjust_params:\n",
    "    \n",
    "    search = xgbhelper.ModelParamSearch(xgb_model, params, X_all_train, y_all_train, 'r2')\n",
    "    xgb_model.set_params(**search.best_params_)\n",
    "    combine_param.update(search.best_params_)\n"
   ]
  },
  {
   "cell_type": "code",
   "execution_count": 29,
   "metadata": {
    "collapsed": false
   },
   "outputs": [
    {
     "data": {
      "image/png": "[encoded data removed]",
      "text/plain": [
       "<matplotlib.figure.Figure at 0x20163407978>"
      ]
     },
     "metadata": {},
     "output_type": "display_data"
    }
   ],
   "source": [
    "sklearn_model_curve.plot_learning_curve(xgb_model, 'xgb', X_all_train, y_all_train, cv=5)"
   ]
  },
  {
   "cell_type": "code",
   "execution_count": 30,
   "metadata": {
    "collapsed": false
   },
   "outputs": [],
   "source": [
    "xgb_model.fit(X_all_train, y_all_train)\n",
    "y_pred = xgb_model.predict(munged_test_df.values)\n",
    "output = pd.DataFrame({'id': munged_test_df.index, 'y': y_pred})\n",
    "output.to_csv('../data/online/xgboost-pca-ica-grp-srp-6-14-1.csv', index=False)"
   ]
  },
  {
   "cell_type": "code",
   "execution_count": null,
   "metadata": {
    "collapsed": true
   },
   "outputs": [],
   "source": []
  },
  {
   "cell_type": "code",
   "execution_count": null,
   "metadata": {
    "collapsed": true
   },
   "outputs": [],
   "source": []
  },
  {
   "cell_type": "code",
   "execution_count": null,
   "metadata": {
    "collapsed": true
   },
   "outputs": [],
   "source": []
  },
  {
   "cell_type": "code",
   "execution_count": null,
   "metadata": {
    "collapsed": true
   },
   "outputs": [],
   "source": []
  },
  {
   "cell_type": "code",
   "execution_count": null,
   "metadata": {
    "collapsed": true
   },
   "outputs": [],
   "source": []
  },
  {
   "cell_type": "code",
   "execution_count": null,
   "metadata": {
    "collapsed": true
   },
   "outputs": [],
   "source": []
  },
  {
   "cell_type": "code",
   "execution_count": null,
   "metadata": {
    "collapsed": true
   },
   "outputs": [],
   "source": []
  },
  {
   "cell_type": "code",
   "execution_count": null,
   "metadata": {
    "collapsed": true
   },
   "outputs": [],
   "source": []
  },
  {
   "cell_type": "code",
   "execution_count": 15,
   "metadata": {
    "collapsed": false
   },
   "outputs": [],
   "source": []
  },
  {
   "cell_type": "code",
   "execution_count": 22,
   "metadata": {
    "collapsed": false
   },
   "outputs": [
    {
     "data": {
      "text/plain": [
       "array([ 69.72631073,  83.14871979,  70.18686676, ...,  82.90158844,\n",
       "        98.74907684,  83.40969849], dtype=float32)"
      ]
     },
     "execution_count": 22,
     "metadata": {},
     "output_type": "execute_result"
    }
   ],
   "source": [
    "y_pred"
   ]
  },
  {
   "cell_type": "code",
   "execution_count": null,
   "metadata": {
    "collapsed": true
   },
   "outputs": [],
   "source": []
  },
  {
   "cell_type": "code",
   "execution_count": null,
   "metadata": {
    "collapsed": true
   },
   "outputs": [],
   "source": []
  }
 ],
 "metadata": {
  "anaconda-cloud": {},
  "kernelspec": {
   "display_name": "Python [conda root]",
   "language": "python",
   "name": "conda-root-py"
  },
  "language_info": {
   "codemirror_mode": {
    "name": "ipython",
    "version": 3
   },
   "file_extension": ".py",
   "mimetype": "text/x-python",
   "name": "python",
   "nbconvert_exporter": "python",
   "pygments_lexer": "ipython3",
   "version": "3.5.2"
  }
 },
 "nbformat": 4,
 "nbformat_minor": 1
}
