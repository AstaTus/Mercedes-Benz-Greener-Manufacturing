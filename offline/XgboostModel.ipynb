{
 "cells": [
  {
   "cell_type": "code",
   "execution_count": 13,
   "metadata": {
    "collapsed": false
   },
   "outputs": [],
   "source": [
    "import pandas as pd\n",
    "import numpy as np\n",
    "\n",
    "import xgboost as xgb\n",
    "\n",
    "from sklearn.ensemble import GradientBoostingRegressor\n",
    "from sklearn.ensemble import RandomForestRegressor\n",
    "from sklearn.model_selection import train_test_split\n",
    "from sklearn.metrics import classification_report\n",
    "from sklearn.model_selection import validation_curve\n",
    "from sklearn.model_selection import learning_curve\n",
    "from sklearn import metrics\n",
    "from sklearn.metrics import fbeta_score, make_scorer\n",
    "from sklearn.grid_search import GridSearchCV\n",
    "from sklearn.model_selection import KFold\n",
    "\n",
    "import matplotlib\n",
    "import matplotlib.pyplot as plt"
   ]
  },
  {
   "cell_type": "code",
   "execution_count": 2,
   "metadata": {
    "collapsed": true
   },
   "outputs": [],
   "source": [
    "from hyperopt import hp\n",
    "from hyperopt import fmin, tpe, hp, STATUS_OK, Trials"
   ]
  },
  {
   "cell_type": "code",
   "execution_count": 3,
   "metadata": {
    "collapsed": true
   },
   "outputs": [],
   "source": [
    "from sklearn.metrics import r2_score"
   ]
  },
  {
   "cell_type": "code",
   "execution_count": 4,
   "metadata": {
    "collapsed": false
   },
   "outputs": [],
   "source": [
    "import sys\n",
    "sys.path.append('../lib')\n",
    "\n",
    "import XgbAdjustmentHelper as xgbhelper\n",
    "import SklearnModelCurve as curve_helper"
   ]
  },
  {
   "cell_type": "code",
   "execution_count": 5,
   "metadata": {
    "collapsed": false
   },
   "outputs": [],
   "source": [
    "munged_train_df = pd.read_csv('../data/offline/train.csv', index_col=0)\n",
    "munged_test_df = pd.read_csv('../data/offline/test.csv', index_col=0)\n",
    "y_train_df = pd.read_csv('../data/offline/y_train.csv', index_col=0)\n",
    "\n",
    "X_train, X_test, y_train, y_test = train_test_split(munged_train_df.values, y_train_df.values, test_size=0.5, random_state=1729)\n",
    "X_all_train = munged_train_df.values\n",
    "y_all_train = y_train_df['y'].values"
   ]
  },
  {
   "cell_type": "code",
   "execution_count": 6,
   "metadata": {
    "collapsed": false
   },
   "outputs": [],
   "source": [
    "feature_names = munged_train_df.columns"
   ]
  },
  {
   "cell_type": "code",
   "execution_count": 3,
   "metadata": {
    "collapsed": false,
    "scrolled": false
   },
   "outputs": [],
   "source": [
    "# xgb_model = xgb.XGBRegressor(max_depth=4, learning_rate=0.1, n_estimators=100,\n",
    "#                              silent=False, objective='reg:linear', subsample=0.8,\n",
    "#                              colsample_bytree=0.8, gamma=0, min_child_weight = 1,\n",
    "#                              scale_pos_weight=1, seed=27)\n",
    "\n",
    "# feat_data = xgbhelper.ModelFit(xgb_model, feature_names, X_train, y_train, X_test, y_test, 13)\n",
    "# plt.show()"
   ]
  },
  {
   "cell_type": "code",
   "execution_count": null,
   "metadata": {
    "collapsed": true
   },
   "outputs": [],
   "source": [
    "xgb_model = xgb.XGBRegressor(max_depth=4, learning_rate=0.1, n_estimators=100,\\\n",
    "                             silent=False, objective='reg:linear', subsample=0.8,\\\n",
    "                             colsample_bytree=0.8, gamma=0, min_child_weight = 5,\\\n",
    "                             scale_pos_weight=1, seed=27)\n",
    "\n",
    "params2 = {\n",
    " 'max_depth':[4],\n",
    " 'min_child_weight':[7, 8, 9, 10]\n",
    "}\n",
    "search = xgbhelper.ModelParamSearch(xgb_model, params2, X_all_train, y_all_train, 'r2')\n",
    "\n",
    "\n",
    "params = search.best_params_\n",
    "params['learning_rate'] = []"
   ]
  },
  {
   "cell_type": "code",
   "execution_count": 9,
   "metadata": {
    "collapsed": false
   },
   "outputs": [
    {
     "data": {
      "text/plain": [
       "{'base_score': 0.5,\n",
       " 'colsample_bylevel': 1,\n",
       " 'colsample_bytree': 0.8,\n",
       " 'gamma': 0,\n",
       " 'learning_rate': 0.1,\n",
       " 'max_delta_step': 0,\n",
       " 'max_depth': 4,\n",
       " 'min_child_weight': 1,\n",
       " 'missing': None,\n",
       " 'n_estimators': 48,\n",
       " 'objective': 'reg:linear',\n",
       " 'reg_alpha': 0,\n",
       " 'reg_lambda': 1,\n",
       " 'scale_pos_weight': 1,\n",
       " 'seed': 27,\n",
       " 'silent': 0,\n",
       " 'subsample': 0.8}"
      ]
     },
     "execution_count": 9,
     "metadata": {},
     "output_type": "execute_result"
    }
   ],
   "source": [
    "xgb_model.get_xgb_params()"
   ]
  },
  {
   "cell_type": "code",
   "execution_count": 48,
   "metadata": {
    "collapsed": false
   },
   "outputs": [],
   "source": [
    "def objective(params):\n",
    "    print(\"Training with params : \")\n",
    "    print(params)\n",
    "    params['max_depth'] = np.int(params['max_depth'])\n",
    "    num_boost_round = 400;\n",
    "    early_stopping_rounds = 50;\n",
    "    dtrain = xgb.DMatrix(X_train, label=y_train)\n",
    "    dvalid = xgb.DMatrix(X_test)\n",
    "    # watchlist = [(dvalid, 'eval'), (dtrain, 'train')]\n",
    "    model = xgb.train(params, dtrain, num_boost_round = num_boost_round)\n",
    "    y_predict = model.predict(dvalid)\n",
    "    score = r2_score(y_test, y_predict)\n",
    "    loss = 1- score\n",
    "    print(\"\\tScore {0}\\n\\n\".format(score))\n",
    "    return {'loss': loss, 'status': STATUS_OK}"
   ]
  },
  {
   "cell_type": "code",
   "execution_count": 55,
   "metadata": {
    "collapsed": false
   },
   "outputs": [],
   "source": [
    "def optimize():\n",
    "    space = {\n",
    "             'eta' : 0.1,\n",
    "             'max_depth' : hp.quniform('max_depth', 3, 6, 1),\n",
    "             'min_child_weight' : hp.quniform('min_child_weight', 1, 9, 1),\n",
    "             'subsample' : hp.quniform('subsample', 0.5, 1, 0.05),\n",
    "             'gamma' : hp.quniform('gamma', 0, 0.5, 0.05),\n",
    "             'colsample_bytree' : hp.quniform('colsample_bytree', 0.5, 1, 0.05),\n",
    "             #'eval_metric': 'mlogloss',\n",
    "             'objective': 'reg:linear',\n",
    "             'silent' : 1,\n",
    "             'reg_alpha' : hp.loguniform('reg_alpha', 1e-5, 10),\n",
    "             }\n",
    "\n",
    "    best = fmin(objective, space, algo=tpe.suggest, max_evals=1)\n",
    "    return best;"
   ]
  },
  {
   "cell_type": "code",
   "execution_count": 56,
   "metadata": {
    "collapsed": false,
    "scrolled": true
   },
   "outputs": [
    {
     "name": "stdout",
     "output_type": "stream",
     "text": [
      "Training with params : \n",
      "{'objective': 'reg:linear', 'reg_alpha': 3.1405518350381216, 'gamma': 0.05, 'colsample_bytree': 0.55, 'max_depth': 5.0, 'subsample': 0.9, 'min_child_weight': 3.0, 'silent': 1, 'eta': 0.1}\n",
      "\tScore 0.4496376268485197\n",
      "\n",
      "\n"
     ]
    }
   ],
   "source": [
    "best = optimize()"
   ]
  },
  {
   "cell_type": "code",
   "execution_count": null,
   "metadata": {
    "collapsed": true
   },
   "outputs": [],
   "source": [
    "def ModelLearnRateSearch(params, learning_rates, num_bounds):\n",
    "    xgtrain = xgb.DMatrix(X_train, label=y_train)\n",
    "    xgb_model = xgb.XGBRegressor()\n",
    "    xgb_model.set_params(**params)\n",
    "    best_score = 0\n",
    "    best_params = {}\n",
    "    \n",
    "    for lr in learning_rates:\n",
    "        \n",
    "        params['learning_rate'] = lr\n",
    "        cvresult = xgb.cv(params, xgtrain, num_boost_round=num_bounds, nfold=5,\n",
    "                          metrics='rmse', early_stopping_rounds=50)\n",
    "        \n",
    "        valid_round = cvresult.shape[0]\n",
    "        xgb_model.set_params(n_estimators = cvresult.shape[0], learning_rate = lr)\n",
    "        xgb_model.fit(X_train, y_train)\n",
    "        y_pred = xgb_model.predict(X_test)\n",
    "        score = r2_score(y_test, y_pred)\n",
    "        print(\"lr:%f  n_estimators:%d  score:%f\"%(lr, valid_round, score))\n",
    "        if best_score < score:\n",
    "            best_score = score\n",
    "            best_params['n_estimators'] = valid_round\n",
    "            best_params['learning_rate'] = lr\n",
    "            \n",
    "        print(xgb_model.get_params())\n",
    "    return best_score, best_params"
   ]
  },
  {
   "cell_type": "code",
   "execution_count": 31,
   "metadata": {
    "collapsed": false
   },
   "outputs": [
    {
     "name": "stdout",
     "output_type": "stream",
     "text": [
      "\n",
      "grid_scores\n",
      "mean: 0.54869, std: 0.07060, params: {'max_depth': 3}\n",
      "mean: 0.53929, std: 0.06877, params: {'max_depth': 4}\n",
      "\n",
      "best_params\n",
      "{'max_depth': 3}\n",
      "\n",
      "best_score\n",
      "0.5486895401921688\n"
     ]
    }
   ],
   "source": [
    "init_param = {\n",
    "    'learning_rate':0.1,\n",
    "    'n_estimators':100,\n",
    "    'silent':True,\n",
    "    'objective':'reg:linear',\n",
    "    'seed':27,\n",
    "}\n",
    "\n",
    "adjust_param = {\n",
    "    'max_depth':[3, 4, 5],\n",
    "    'min_child_weight':[7, 8, 9, 10],\n",
    "    'subsample':[i/100.0 for i in range(70, 105, 5)],\n",
    "    'colsample_bytree':[i/100.0 for i in range(70, 105, 5)],\n",
    "    'gamma':[i/100.0 for i in range(0, 30, 5)],\n",
    "    'reg_alpha':[1e-5, 1e-4, 1e-3,1e-2,1e-1, 1, 10],\n",
    "}\n",
    "\n",
    "init_param = {\n",
    "    'learning_rate':0.1,\n",
    "    'n_estimators':100,\n",
    "    'silent':False,\n",
    "    'objective':'reg:linear',\n",
    "    'seed':27,\n",
    "    \n",
    "    'min_child_weight':6,\n",
    "    'subsample':1,\n",
    "    'colsample_bytree':0.9,\n",
    "    'gamma':0\n",
    "}\n",
    "\n",
    "adjust_param = {\n",
    "    'max_depth':[3, 4],\n",
    "}\n",
    "\n",
    "xgb_model = xgb.XGBRegressor()\n",
    "xgb_model.set_params(**init_param)\n",
    "search = xgbhelper.ModelParamSearch(xgb_model, adjust_param, X_all_train, y_all_train, 'r2')\n",
    "\n",
    "combine_param = dict(init_param, **search.best_params_)\n",
    "\n",
    "score, params = ModelLearnRateSearch(combine_param, [0.1], 1000)\n",
    "combine_param['n_estimators'] = params['n_estimators']\n",
    "combine_param['learning_rate'] = params['learning_rate']\n",
    "xgb_model.set_params(**combine_param)\n",
    "xgb_model"
   ]
  },
  {
   "cell_type": "code",
   "execution_count": 35,
   "metadata": {
    "collapsed": true
   },
   "outputs": [],
   "source": [
    "def KFoldCV(model, num_fold, X_train, y_train):\n",
    "    cv_results = []\n",
    "    kf = KFold(n_splits=num_fold, random_state=27)\n",
    "    for train_index, test_index in kf.split(X_train):\n",
    "        X_train, X_test = X_train[train_index], X_train[test_index]\n",
    "        y_train, y_test = y_train[train_index], y_train[test_index]\n",
    "        model.fit(X_train, X_test)\n",
    "        y_pred = model.predict(X_test, y_test)\n",
    "        score = r2_score(y_test, y_pred)\n",
    "        cv_results.append(score)\n",
    "    print('mean:%f std:%f'%(np.mean(cv_results), np.std(cv_results)))"
   ]
  },
  {
   "cell_type": "code",
   "execution_count": null,
   "metadata": {
    "collapsed": true
   },
   "outputs": [],
   "source": []
  },
  {
   "cell_type": "code",
   "execution_count": null,
   "metadata": {
    "collapsed": true
   },
   "outputs": [],
   "source": []
  },
  {
   "cell_type": "code",
   "execution_count": null,
   "metadata": {
    "collapsed": true
   },
   "outputs": [],
   "source": []
  },
  {
   "cell_type": "code",
   "execution_count": null,
   "metadata": {
    "collapsed": true
   },
   "outputs": [],
   "source": []
  },
  {
   "cell_type": "code",
   "execution_count": null,
   "metadata": {
    "collapsed": true
   },
   "outputs": [],
   "source": []
  },
  {
   "cell_type": "code",
   "execution_count": null,
   "metadata": {
    "collapsed": true
   },
   "outputs": [],
   "source": []
  },
  {
   "cell_type": "code",
   "execution_count": null,
   "metadata": {
    "collapsed": true
   },
   "outputs": [],
   "source": []
  },
  {
   "cell_type": "code",
   "execution_count": null,
   "metadata": {
    "collapsed": true
   },
   "outputs": [],
   "source": []
  },
  {
   "cell_type": "code",
   "execution_count": 14,
   "metadata": {
    "collapsed": false
   },
   "outputs": [
    {
     "data": {
      "image/png": "[encoded data removed]",
      "text/plain": [
       "<matplotlib.figure.Figure at 0xab18588>"
      ]
     },
     "metadata": {},
     "output_type": "display_data"
    }
   ],
   "source": [
    "curve_helper.plot_learning_curve(xgb_model, 'xgb', X_all_train, y_all_train, cv=5)"
   ]
  },
  {
   "cell_type": "code",
   "execution_count": null,
   "metadata": {
    "collapsed": true
   },
   "outputs": [],
   "source": []
  },
  {
   "cell_type": "code",
   "execution_count": 15,
   "metadata": {
    "collapsed": false
   },
   "outputs": [],
   "source": [
    "xgb_model.fit(X_all_train, y_all_train)\n",
    "y_pred = xgb_model.predict(munged_test_df.values)\n",
    "output = pd.DataFrame({'id': munged_test_df.index, 'y': y_pred})\n",
    "output.to_csv('../data/online/xgboost-pca-ica-grp-srp-6-9-1.csv', index=False)"
   ]
  },
  {
   "cell_type": "code",
   "execution_count": 22,
   "metadata": {
    "collapsed": false
   },
   "outputs": [
    {
     "data": {
      "text/plain": [
       "array([ 69.72631073,  83.14871979,  70.18686676, ...,  82.90158844,\n",
       "        98.74907684,  83.40969849], dtype=float32)"
      ]
     },
     "execution_count": 22,
     "metadata": {},
     "output_type": "execute_result"
    }
   ],
   "source": [
    "y_pred"
   ]
  },
  {
   "cell_type": "code",
   "execution_count": null,
   "metadata": {
    "collapsed": true
   },
   "outputs": [],
   "source": []
  },
  {
   "cell_type": "code",
   "execution_count": null,
   "metadata": {
    "collapsed": true
   },
   "outputs": [],
   "source": []
  }
 ],
 "metadata": {
  "anaconda-cloud": {},
  "kernelspec": {
   "display_name": "Python [conda root]",
   "language": "python",
   "name": "conda-root-py"
  },
  "language_info": {
   "codemirror_mode": {
    "name": "ipython",
    "version": 3
   },
   "file_extension": ".py",
   "mimetype": "text/x-python",
   "name": "python",
   "nbconvert_exporter": "python",
   "pygments_lexer": "ipython3",
   "version": "3.5.2"
  }
 },
 "nbformat": 4,
 "nbformat_minor": 1
}
