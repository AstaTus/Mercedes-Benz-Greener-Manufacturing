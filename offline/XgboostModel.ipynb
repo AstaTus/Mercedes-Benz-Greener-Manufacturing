{
 "cells": [
  {
   "cell_type": "code",
   "execution_count": 1,
   "metadata": {
    "collapsed": false
   },
   "outputs": [
    {
     "name": "stderr",
     "output_type": "stream",
     "text": [
      "D:\\DevelopKit\\Anaconda3\\lib\\site-packages\\sklearn\\cross_validation.py:44: DeprecationWarning: This module was deprecated in version 0.18 in favor of the model_selection module into which all the refactored classes and functions are moved. Also note that the interface of the new CV iterators are different from that of this module. This module will be removed in 0.20.\n",
      "  \"This module will be removed in 0.20.\", DeprecationWarning)\n",
      "D:\\DevelopKit\\Anaconda3\\lib\\site-packages\\sklearn\\grid_search.py:43: DeprecationWarning: This module was deprecated in version 0.18 in favor of the model_selection module into which all the refactored classes and functions are moved. This module will be removed in 0.20.\n",
      "  DeprecationWarning)\n"
     ]
    }
   ],
   "source": [
    "import pandas as pd\n",
    "import numpy as np\n",
    "\n",
    "import xgboost as xgb\n",
    "\n",
    "from sklearn.ensemble import GradientBoostingRegressor\n",
    "from sklearn.ensemble import RandomForestRegressor\n",
    "from sklearn.model_selection import train_test_split\n",
    "from sklearn.metrics import classification_report\n",
    "from sklearn.model_selection import validation_curve\n",
    "from sklearn.model_selection import learning_curve\n",
    "from sklearn import metrics\n",
    "from sklearn.metrics import fbeta_score, make_scorer\n",
    "from sklearn.grid_search import GridSearchCV\n",
    "\n",
    "import matplotlib\n",
    "import matplotlib.pyplot as plt"
   ]
  },
  {
   "cell_type": "code",
   "execution_count": 2,
   "metadata": {
    "collapsed": true
   },
   "outputs": [],
   "source": [
    "from sklearn.metrics import r2_score"
   ]
  },
  {
   "cell_type": "code",
   "execution_count": 3,
   "metadata": {
    "collapsed": true
   },
   "outputs": [],
   "source": [
    "import sys\n",
    "sys.path.append('../lib')\n",
    "\n",
    "import XgbAdjustmentHelper as xgbhelper\n",
    "import SklearnModelCurve as curve_helper"
   ]
  },
  {
   "cell_type": "code",
   "execution_count": 4,
   "metadata": {
    "collapsed": false
   },
   "outputs": [],
   "source": [
    "munged_train_df = pd.read_csv('../data/offline/train.csv', index_col=0)\n",
    "munged_test_df = pd.read_csv('../data/offline/test.csv', index_col=0)\n",
    "y_train_df = pd.read_csv('../data/offline/y_train.csv', index_col=0)\n",
    "\n",
    "X_train, X_test, y_train, y_test = train_test_split(munged_train_df.values, y_train_df.values, test_size=0.5, random_state=1729)\n",
    "X_all_train = munged_train_df.values\n",
    "y_all_train = y_train_df['y'].values"
   ]
  },
  {
   "cell_type": "code",
   "execution_count": 5,
   "metadata": {
    "collapsed": false
   },
   "outputs": [],
   "source": [
    "feature_names = munged_train_df.columns"
   ]
  },
  {
   "cell_type": "code",
   "execution_count": 6,
   "metadata": {
    "collapsed": false,
    "scrolled": true
   },
   "outputs": [
    {
     "name": "stdout",
     "output_type": "stream",
     "text": [
      "\n",
      " cv_result\n",
      "    test-rmse-mean  test-rmse-std  train-rmse-mean  train-rmse-std\n",
      "0         3.701948       0.012292         3.701967        0.002786\n",
      "1         3.332486       0.012594         3.332507        0.002496\n",
      "2         2.999909       0.012777         2.999932        0.002319\n",
      "3         2.700550       0.013075         2.700575        0.002027\n",
      "4         2.431111       0.012918         2.431144        0.001830\n",
      "5         2.188815       0.012786         2.188851        0.001611\n",
      "6         1.970660       0.012656         1.970700        0.001466\n",
      "7         1.774442       0.012597         1.774487        0.001265\n",
      "8         1.597698       0.012375         1.597815        0.001119\n",
      "9         1.438687       0.012132         1.438811        0.001011\n",
      "10        1.295555       0.012035         1.295680        0.000954\n",
      "11        1.166780       0.011799         1.166897        0.000913\n",
      "12        1.050879       0.011575         1.050931        0.000837\n",
      "13        0.946615       0.011303         0.946666        0.000794\n",
      "14        0.852797       0.011085         0.852829        0.000706\n",
      "15        0.768560       0.010958         0.768483        0.000691\n",
      "16        0.692638       0.010762         0.692563        0.000704\n",
      "17        0.624427       0.010599         0.624286        0.000665\n",
      "18        0.563031       0.010419         0.562919        0.000660\n",
      "19        0.507966       0.010287         0.507806        0.000633\n",
      "20        0.458455       0.010232         0.458270        0.000601\n",
      "21        0.413990       0.010305         0.413793        0.000581\n",
      "22        0.373996       0.010287         0.373860        0.000568\n",
      "23        0.338119       0.010264         0.338015        0.000633\n",
      "24        0.306072       0.010274         0.305940        0.000668\n",
      "25        0.277328       0.010251         0.277130        0.000727\n",
      "26        0.251650       0.010237         0.251369        0.000758\n",
      "27        0.228647       0.010449         0.228354        0.000777\n",
      "28        0.208231       0.010650         0.207874        0.000737\n",
      "29        0.190103       0.010786         0.189598        0.000799\n",
      "..             ...            ...              ...             ...\n",
      "32        0.147354       0.011040         0.146215        0.001103\n",
      "33        0.136275       0.011250         0.134938        0.001147\n",
      "34        0.126591       0.011346         0.124964        0.001190\n",
      "35        0.118134       0.011471         0.116214        0.001252\n",
      "36        0.110805       0.011517         0.108589        0.001335\n",
      "37        0.104497       0.011600         0.101932        0.001349\n",
      "38        0.099129       0.011630         0.096189        0.001422\n",
      "39        0.094482       0.011623         0.091213        0.001519\n",
      "40        0.090570       0.011618         0.086942        0.001587\n",
      "41        0.087294       0.011630         0.083273        0.001655\n",
      "42        0.084526       0.011583         0.080123        0.001753\n",
      "43        0.082211       0.011491         0.077483        0.001790\n",
      "44        0.080303       0.011380         0.075243        0.001858\n",
      "45        0.078750       0.011256         0.073250        0.001872\n",
      "46        0.077491       0.011152         0.071600        0.001966\n",
      "47        0.076432       0.011000         0.070190        0.002002\n",
      "48        0.075555       0.010853         0.068976        0.002053\n",
      "49        0.074873       0.010745         0.067904        0.002186\n",
      "50        0.074327       0.010591         0.066962        0.002249\n",
      "51        0.073876       0.010447         0.066244        0.002250\n",
      "52        0.073524       0.010336         0.065500        0.002198\n",
      "53        0.073197       0.010153         0.064900        0.002146\n",
      "54        0.072962       0.010057         0.064405        0.002174\n",
      "55        0.072776       0.009937         0.063913        0.002186\n",
      "56        0.072677       0.009843         0.063520        0.002229\n",
      "57        0.072520       0.009740         0.063181        0.002245\n",
      "58        0.072463       0.009661         0.062819        0.002278\n",
      "59        0.072352       0.009601         0.062436        0.002241\n",
      "60        0.072321       0.009536         0.062167        0.002186\n",
      "61        0.072320       0.009487         0.061863        0.002206\n",
      "\n",
      "[62 rows x 4 columns]\n",
      "\n",
      "Model Report\n",
      "RMSE : 0.006463\n"
     ]
    },
    {
     "ename": "TypeError",
     "evalue": "'str' object is not callable",
     "output_type": "error",
     "traceback": [
      "\u001b[0;31m---------------------------------------------------------------------------\u001b[0m",
      "\u001b[0;31mTypeError\u001b[0m                                 Traceback (most recent call last)",
      "\u001b[0;32m<ipython-input-6-33fce0ae6966>\u001b[0m in \u001b[0;36m<module>\u001b[0;34m()\u001b[0m\n\u001b[1;32m      4\u001b[0m                              scale_pos_weight=1, seed=27)\n\u001b[1;32m      5\u001b[0m \u001b[1;33m\u001b[0m\u001b[0m\n\u001b[0;32m----> 6\u001b[0;31m \u001b[0mfeat_data\u001b[0m \u001b[1;33m=\u001b[0m \u001b[0mxgbhelper\u001b[0m\u001b[1;33m.\u001b[0m\u001b[0mModelFit\u001b[0m\u001b[1;33m(\u001b[0m\u001b[0mxgb_model\u001b[0m\u001b[1;33m,\u001b[0m \u001b[0mfeature_names\u001b[0m\u001b[1;33m,\u001b[0m \u001b[0mX_train\u001b[0m\u001b[1;33m,\u001b[0m \u001b[0my_train\u001b[0m\u001b[1;33m,\u001b[0m \u001b[0mX_test\u001b[0m\u001b[1;33m,\u001b[0m \u001b[0my_test\u001b[0m\u001b[1;33m,\u001b[0m \u001b[1;36m13\u001b[0m\u001b[1;33m)\u001b[0m\u001b[1;33m\u001b[0m\u001b[0m\n\u001b[0m\u001b[1;32m      7\u001b[0m \u001b[0mplt\u001b[0m\u001b[1;33m.\u001b[0m\u001b[0mshow\u001b[0m\u001b[1;33m(\u001b[0m\u001b[1;33m)\u001b[0m\u001b[1;33m\u001b[0m\u001b[0m\n",
      "\u001b[0;32mE:\\DataMining\\project\\Mercedes-Benz-Greener-Manufacturing\\Mercedes-Benz-Greener-Manufacturing\\lib\\XgbAdjustmentHelper.py\u001b[0m in \u001b[0;36mModelFit\u001b[0;34m(alg, feature_names, X_train, y_train, X_test, y_test, useTrainCV, cv_folds, early_stopping_rounds)\u001b[0m\n\u001b[1;32m     31\u001b[0m     \u001b[1;31m# print(\"AUC Score (Train): %f\" % metrics.roc_auc_score(dtrain['Disbursed'], dtrain_predprob))\u001b[0m\u001b[1;33m\u001b[0m\u001b[1;33m\u001b[0m\u001b[0m\n\u001b[1;32m     32\u001b[0m \u001b[1;33m\u001b[0m\u001b[0m\n\u001b[0;32m---> 33\u001b[0;31m     \u001b[0mfeat_imp\u001b[0m \u001b[1;33m=\u001b[0m \u001b[0mpd\u001b[0m\u001b[1;33m.\u001b[0m\u001b[0mSeries\u001b[0m\u001b[1;33m(\u001b[0m\u001b[0malg\u001b[0m\u001b[1;33m.\u001b[0m\u001b[0mbooster\u001b[0m\u001b[1;33m(\u001b[0m\u001b[1;33m)\u001b[0m\u001b[1;33m.\u001b[0m\u001b[0mget_fscore\u001b[0m\u001b[1;33m(\u001b[0m\u001b[1;33m)\u001b[0m\u001b[1;33m)\u001b[0m\u001b[1;33m.\u001b[0m\u001b[0msort_values\u001b[0m\u001b[1;33m(\u001b[0m\u001b[0mascending\u001b[0m\u001b[1;33m=\u001b[0m\u001b[1;32mFalse\u001b[0m\u001b[1;33m)\u001b[0m\u001b[1;33m\u001b[0m\u001b[0m\n\u001b[0m\u001b[1;32m     34\u001b[0m     \u001b[0mfeat_imp\u001b[0m \u001b[1;33m=\u001b[0m \u001b[0mfeat_imp\u001b[0m\u001b[1;33m.\u001b[0m\u001b[0mrename\u001b[0m\u001b[1;33m(\u001b[0m\u001b[1;32mlambda\u001b[0m \u001b[0mx\u001b[0m\u001b[1;33m:\u001b[0m \u001b[0mfeature_names\u001b[0m\u001b[1;33m[\u001b[0m\u001b[0mint\u001b[0m\u001b[1;33m(\u001b[0m\u001b[0mx\u001b[0m\u001b[1;33m[\u001b[0m\u001b[1;36m1\u001b[0m\u001b[1;33m:\u001b[0m\u001b[0mlen\u001b[0m\u001b[1;33m(\u001b[0m\u001b[0mx\u001b[0m\u001b[1;33m)\u001b[0m\u001b[1;33m]\u001b[0m\u001b[1;33m)\u001b[0m\u001b[1;33m]\u001b[0m\u001b[1;33m)\u001b[0m\u001b[1;33m\u001b[0m\u001b[0m\n\u001b[1;32m     35\u001b[0m \u001b[1;33m\u001b[0m\u001b[0m\n",
      "\u001b[0;31mTypeError\u001b[0m: 'str' object is not callable"
     ]
    }
   ],
   "source": [
    "xgb_model = xgb.XGBRegressor(max_depth=4, learning_rate=0.1, n_estimators=5000,\n",
    "                             silent=False, objective='reg:linear', subsample=0.8,\n",
    "                             colsample_bytree=0.8, gamma=0, min_child_weight = 1,\n",
    "                             scale_pos_weight=1, seed=27)\n",
    "\n",
    "feat_data = xgbhelper.ModelFit(xgb_model, feature_names, X_train, y_train, X_test, y_test, 13)\n",
    "plt.show()"
   ]
  },
  {
   "cell_type": "code",
   "execution_count": null,
   "metadata": {
    "collapsed": true
   },
   "outputs": [],
   "source": []
  },
  {
   "cell_type": "code",
   "execution_count": 37,
   "metadata": {
    "collapsed": false
   },
   "outputs": [
    {
     "name": "stdout",
     "output_type": "stream",
     "text": [
      "\n",
      "grid_scores\n",
      "mean: 0.55244, std: 0.07553, params: {'n_estimators': 70, 'learning_rate': 0.07}\n",
      "mean: 0.54879, std: 0.06850, params: {'n_estimators': 100, 'learning_rate': 0.07}\n",
      "mean: 0.54460, std: 0.06816, params: {'n_estimators': 130, 'learning_rate': 0.07}\n",
      "mean: 0.53835, std: 0.06577, params: {'n_estimators': 70, 'learning_rate': 0.15}\n",
      "mean: 0.52923, std: 0.06404, params: {'n_estimators': 100, 'learning_rate': 0.15}\n",
      "mean: 0.52361, std: 0.06515, params: {'n_estimators': 130, 'learning_rate': 0.15}\n",
      "mean: 0.54611, std: 0.06570, params: {'n_estimators': 70, 'learning_rate': 0.1}\n",
      "mean: 0.54018, std: 0.06449, params: {'n_estimators': 100, 'learning_rate': 0.1}\n",
      "mean: 0.53371, std: 0.06471, params: {'n_estimators': 130, 'learning_rate': 0.1}\n",
      "\n",
      "best_params\n",
      "{'n_estimators': 70, 'learning_rate': 0.07}\n",
      "\n",
      "best_score\n",
      "0.5524367275981976\n"
     ]
    }
   ],
   "source": [
    "#粗调\n",
    "xgb_model = xgb.XGBRegressor(max_depth=3, learning_rate=0.01, n_estimators=700,\\\n",
    "                             silent=False, objective='reg:linear', subsample=0.75,\\\n",
    "                             colsample_bytree=1, gamma=0, min_child_weight = 7,\\\n",
    "                             scale_pos_weight=1, seed=27)\n",
    "\n",
    "params1 = {\n",
    " 'learning_rate':[0.07, 0.15, 0.1],\n",
    " 'n_estimators':[70, 100, 130]\n",
    "}\n",
    "search = xgbhelper.ModelParamSearch(xgb_model, params1, X_all_train, y_all_train, 'r2')"
   ]
  },
  {
   "cell_type": "code",
   "execution_count": null,
   "metadata": {
    "collapsed": true
   },
   "outputs": [],
   "source": [
    "# grid_scores\n",
    "# mean: 0.58419, std: 0.04146, params: {'n_estimators': 300, 'learning_rate': 0.1}\n",
    "# mean: 0.56780, std: 0.03931, params: {'n_estimators': 500, 'learning_rate': 0.1}\n",
    "# mean: 0.55673, std: 0.03853, params: {'learning_rate': 0.1, 'n_estimators': 700}\n",
    "# mean: 0.59762, std: 0.04345, params: {'learning_rate': 0.05, 'n_estimators': 300}\n",
    "# mean: 0.58820, std: 0.04370, params: {'n_estimators': 500, 'learning_rate': 0.05}\n",
    "# mean: 0.58058, std: 0.04150, params: {'n_estimators': 700, 'learning_rate': 0.05}\n",
    "# mean: -2.23612, std: 0.20937, params: {'n_estimators': 300, 'learning_rate': 0.01}\n",
    "# mean: 0.56070, std: 0.07694, params: {'learning_rate': 0.01, 'n_estimators': 500}\n",
    "# mean: 0.60553, std: 0.04735, params: {'n_estimators': 700, 'learning_rate': 0.01}\n",
    "\n",
    "# best_params\n",
    "# {'n_estimators': 700, 'learning_rate': 0.01}\n",
    "\n",
    "# best_score\n",
    "# 0.6055259557874768\n",
    "# grid_scores\n",
    "# mean: 0.59959, std: 0.04273, params: {'n_estimators': 100, 'learning_rate': 0.1}\n",
    "# mean: 0.56780, std: 0.03931, params: {'n_estimators': 500, 'learning_rate': 0.1}\n",
    "# mean: 0.54487, std: 0.03614, params: {'n_estimators': 1000, 'learning_rate': 0.1}\n",
    "# mean: 0.50337, std: 0.02948, params: {'n_estimators': 5000, 'learning_rate': 0.1}\n",
    "# mean: -157.68663, std: 10.21243, params: {'n_estimators': 100, 'learning_rate': 0.01}\n",
    "# mean: 0.56070, std: 0.07694, params: {'n_estimators': 500, 'learning_rate': 0.01}\n",
    "# mean: 0.60253, std: 0.04289, params: {'n_estimators': 1000, 'learning_rate': 0.01}\n",
    "# mean: 0.57324, std: 0.03981, params: {'n_estimators': 5000, 'learning_rate': 0.01}\n",
    "# mean: -432.48545, std: 29.95086, params: {'n_estimators': 100, 'learning_rate': 0.005}\n",
    "# mean: -7.27195, std: 0.34109, params: {'n_estimators': 500, 'learning_rate': 0.005}\n",
    "# mean: 0.56017, std: 0.07727, params: {'n_estimators': 1000, 'learning_rate': 0.005}\n",
    "# mean: 0.59060, std: 0.04177, params: {'n_estimators': 5000, 'learning_rate': 0.005}\n",
    "\n",
    "# best_params\n",
    "# {'n_estimators': 1000, 'learning_rate': 0.01}\n",
    "\n",
    "# best_score\n",
    "# 0.6025250124501833"
   ]
  },
  {
   "cell_type": "code",
   "execution_count": 19,
   "metadata": {
    "collapsed": false
   },
   "outputs": [
    {
     "name": "stdout",
     "output_type": "stream",
     "text": [
      "\n",
      "grid_scores\n",
      "mean: 0.60576, std: 0.04754, params: {'max_depth': 3, 'min_child_weight': 6}\n",
      "mean: 0.60603, std: 0.04764, params: {'max_depth': 3, 'min_child_weight': 7}\n",
      "mean: 0.60594, std: 0.04792, params: {'max_depth': 3, 'min_child_weight': 8}\n",
      "mean: 0.60507, std: 0.04768, params: {'max_depth': 4, 'min_child_weight': 6}\n",
      "mean: 0.60558, std: 0.04784, params: {'max_depth': 4, 'min_child_weight': 7}\n",
      "mean: 0.60496, std: 0.04802, params: {'max_depth': 4, 'min_child_weight': 8}\n",
      "\n",
      "best_params\n",
      "{'max_depth': 3, 'min_child_weight': 7}\n",
      "\n",
      "best_score\n",
      "0.6060283413417352\n"
     ]
    }
   ],
   "source": [
    "xgb_model = xgb.XGBRegressor(max_depth=3, learning_rate=0.01, n_estimators=700,\\\n",
    "                             silent=False, objective='reg:linear', subsample=0.8,\\\n",
    "                             colsample_bytree=0.8, gamma=0, min_child_weight = 5,\\\n",
    "                             scale_pos_weight=1, seed=27)\n",
    "\n",
    "params2 = {\n",
    " 'max_depth':[3, 4],\n",
    " 'min_child_weight':[6, 7, 8]\n",
    "}\n",
    "search = xgbhelper.ModelParamSearch(xgb_model, params2, X_all_train, y_all_train, 'r2')"
   ]
  },
  {
   "cell_type": "code",
   "execution_count": null,
   "metadata": {
    "collapsed": true
   },
   "outputs": [],
   "source": []
  },
  {
   "cell_type": "code",
   "execution_count": 8,
   "metadata": {
    "collapsed": false,
    "scrolled": true
   },
   "outputs": [
    {
     "name": "stdout",
     "output_type": "stream",
     "text": [
      "\n",
      "grid_scores\n",
      "mean: 0.60438, std: 0.04767, params: {'subsample': 0.6, 'colsample_bytree': 0.85}\n",
      "mean: 0.60476, std: 0.04732, params: {'subsample': 0.65, 'colsample_bytree': 0.85}\n",
      "mean: 0.60484, std: 0.04748, params: {'subsample': 0.7, 'colsample_bytree': 0.85}\n",
      "mean: 0.60521, std: 0.04762, params: {'subsample': 0.75, 'colsample_bytree': 0.85}\n",
      "mean: 0.60419, std: 0.04827, params: {'subsample': 0.6, 'colsample_bytree': 0.9}\n",
      "mean: 0.60452, std: 0.04789, params: {'subsample': 0.65, 'colsample_bytree': 0.9}\n",
      "mean: 0.60464, std: 0.04761, params: {'subsample': 0.7, 'colsample_bytree': 0.9}\n",
      "mean: 0.60517, std: 0.04780, params: {'subsample': 0.75, 'colsample_bytree': 0.9}\n",
      "mean: 0.60373, std: 0.04817, params: {'subsample': 0.6, 'colsample_bytree': 0.95}\n",
      "mean: 0.60453, std: 0.04813, params: {'subsample': 0.65, 'colsample_bytree': 0.95}\n",
      "mean: 0.60488, std: 0.04795, params: {'subsample': 0.7, 'colsample_bytree': 0.95}\n",
      "mean: 0.60542, std: 0.04812, params: {'subsample': 0.75, 'colsample_bytree': 0.95}\n",
      "mean: 0.60375, std: 0.04845, params: {'subsample': 0.6, 'colsample_bytree': 1.0}\n",
      "mean: 0.60453, std: 0.04809, params: {'subsample': 0.65, 'colsample_bytree': 1.0}\n",
      "mean: 0.60522, std: 0.04784, params: {'subsample': 0.7, 'colsample_bytree': 1.0}\n",
      "mean: 0.60601, std: 0.04810, params: {'subsample': 0.75, 'colsample_bytree': 1.0}\n",
      "\n",
      "best_params\n",
      "{'subsample': 0.75, 'colsample_bytree': 1.0}\n",
      "\n",
      "best_score\n",
      "0.6060116243518159\n"
     ]
    }
   ],
   "source": [
    "xgb_model = xgb.XGBRegressor(max_depth=3, learning_rate=0.01, n_estimators=700,\\\n",
    "                             silent=False, objective='reg:linear', subsample=0.8,\\\n",
    "                             colsample_bytree=0.75, gamma=0, min_child_weight = 7,\\\n",
    "                             scale_pos_weight=1, seed=27)\n",
    "\n",
    "params3 = {\n",
    " 'subsample':[i/100.0 for i in range(60, 80, 5)],\n",
    " 'colsample_bytree':[i/100.0 for i in range(85, 105, 5)]\n",
    "}\n",
    "search = xgbhelper.ModelParamSearch(xgb_model, params3, X_all_train, y_all_train, 'r2')"
   ]
  },
  {
   "cell_type": "code",
   "execution_count": 14,
   "metadata": {
    "collapsed": false
   },
   "outputs": [
    {
     "name": "stdout",
     "output_type": "stream",
     "text": [
      "\n",
      "grid_scores\n",
      "mean: 0.60589, std: 0.04800, params: {'reg_alpha': 0.01}\n",
      "mean: 0.60585, std: 0.04867, params: {'reg_alpha': 0.1}\n",
      "mean: 0.60178, std: 0.04944, params: {'reg_alpha': 1}\n",
      "mean: 0.58620, std: 0.05555, params: {'reg_alpha': 10}\n",
      "\n",
      "best_params\n",
      "{'reg_alpha': 0.01}\n",
      "\n",
      "best_score\n",
      "0.6058871005998877\n"
     ]
    }
   ],
   "source": [
    "xgb_model = xgb.XGBRegressor(max_depth=3, learning_rate=0.01, n_estimators=700,\\\n",
    "                             silent=False, objective='reg:linear', subsample=0.75,\\\n",
    "                             colsample_bytree=1, gamma=0, min_child_weight = 7,\\\n",
    "                             scale_pos_weight=1, seed=27)\n",
    "\n",
    "params4 = {\n",
    " 'reg_alpha':[0.01, 0.1, 1, 10],\n",
    "}\n",
    "search = xgbhelper.ModelParamSearch(xgb_model, params4, X_all_train, y_all_train, 'r2')"
   ]
  },
  {
   "cell_type": "code",
   "execution_count": 58,
   "metadata": {
    "collapsed": true
   },
   "outputs": [],
   "source": []
  },
  {
   "cell_type": "code",
   "execution_count": 29,
   "metadata": {
    "collapsed": false
   },
   "outputs": [
    {
     "name": "stdout",
     "output_type": "stream",
     "text": [
      "0.569331086884\n",
      "0.5928054513\n",
      "0.460263552232\n",
      "0.560512182786\n",
      "0.436820106322\n",
      "0.620411260168\n",
      "0.54765459642\n",
      "0.616690331518\n",
      "0.584271931374\n",
      "0.583362361882\n",
      "0.557212286089\n"
     ]
    }
   ],
   "source": [
    "avg_score = 0\n",
    "\n",
    "xgb_model = xgb.XGBRegressor(max_depth=3, learning_rate=0.01, n_estimators=700,\\\n",
    "                             silent=False, objective='reg:linear', subsample=0.75,\\\n",
    "                             colsample_bytree=1, gamma=0, min_child_weight = 7,\\\n",
    "                             scale_pos_weight=1, seed=27)\n",
    "\n",
    "for i in range(10,20):\n",
    "    X_train, X_test, y_train, y_test = train_test_split(munged_train_df.values, y_train_df.values, test_size=0.19, random_state=i)\n",
    "    xgb_model.fit(X_train, y_train)\n",
    "    y_pred_xgb = xgb_model.predict(X_test)\n",
    "    \n",
    "    score = r2_score(y_test, y_pred_xgb)\n",
    "    avg_score += score\n",
    "    print(score)\n",
    "    \n",
    "print(avg_score / 10)"
   ]
  },
  {
   "cell_type": "code",
   "execution_count": null,
   "metadata": {
    "collapsed": true
   },
   "outputs": [],
   "source": [
    "0.557212286089\n",
    "0.557178876366\n",
    "0.555581057331\n",
    "0.558875570645"
   ]
  },
  {
   "cell_type": "code",
   "execution_count": 7,
   "metadata": {
    "collapsed": true
   },
   "outputs": [],
   "source": [
    "xgb_model = xgb.XGBRegressor(max_depth=3, learning_rate=0.01, n_estimators=700,\\\n",
    "                             silent=False, objective='reg:linear', subsample=0.75,\\\n",
    "                             colsample_bytree=1, gamma=0, min_child_weight = 7,\\\n",
    "                             scale_pos_weight=1, seed=27)"
   ]
  },
  {
   "cell_type": "code",
   "execution_count": 9,
   "metadata": {
    "collapsed": false
   },
   "outputs": [
    {
     "data": {
      "image/png": "[encoded data removed]",
      "text/plain": [
       "<matplotlib.figure.Figure at 0x1fc8ec31278>"
      ]
     },
     "metadata": {},
     "output_type": "display_data"
    }
   ],
   "source": [
    "curve_helper.plot_learning_curve(xgb_model, 'xgb', X_all_train, y_all_train, cv=5)"
   ]
  },
  {
   "cell_type": "code",
   "execution_count": 36,
   "metadata": {
    "collapsed": false
   },
   "outputs": [],
   "source": [
    "xgb_model.fit(X_all_train, y_all_train)\n",
    "y_pred = xgb_model.predict(munged_test_df.values)\n",
    "output = pd.DataFrame({'id': munged_test_df.index, 'y': y_pred})\n",
    "output.to_csv('xgboost-pca-ica.csv', index=False)"
   ]
  },
  {
   "cell_type": "code",
   "execution_count": 22,
   "metadata": {
    "collapsed": false
   },
   "outputs": [
    {
     "data": {
      "text/plain": [
       "array([ 69.72631073,  83.14871979,  70.18686676, ...,  82.90158844,\n",
       "        98.74907684,  83.40969849], dtype=float32)"
      ]
     },
     "execution_count": 22,
     "metadata": {},
     "output_type": "execute_result"
    }
   ],
   "source": [
    "y_pred"
   ]
  },
  {
   "cell_type": "code",
   "execution_count": null,
   "metadata": {
    "collapsed": true
   },
   "outputs": [],
   "source": []
  },
  {
   "cell_type": "code",
   "execution_count": null,
   "metadata": {
    "collapsed": true
   },
   "outputs": [],
   "source": []
  }
 ],
 "metadata": {
  "anaconda-cloud": {},
  "kernelspec": {
   "display_name": "Python [conda root]",
   "language": "python",
   "name": "conda-root-py"
  },
  "language_info": {
   "codemirror_mode": {
    "name": "ipython",
    "version": 3
   },
   "file_extension": ".py",
   "mimetype": "text/x-python",
   "name": "python",
   "nbconvert_exporter": "python",
   "pygments_lexer": "ipython3",
   "version": "3.5.2"
  }
 },
 "nbformat": 4,
 "nbformat_minor": 1
}
