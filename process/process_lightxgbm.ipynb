{
 "cells": [
  {
   "cell_type": "code",
   "execution_count": 1,
   "metadata": {
    "collapsed": false
   },
   "outputs": [
    {
     "name": "stderr",
     "output_type": "stream",
     "text": [
      "D:\\DevelopKit\\Anaconda3\\lib\\site-packages\\sklearn\\cross_validation.py:44: DeprecationWarning: This module was deprecated in version 0.18 in favor of the model_selection module into which all the refactored classes and functions are moved. Also note that the interface of the new CV iterators are different from that of this module. This module will be removed in 0.20.\n",
      "  \"This module will be removed in 0.20.\", DeprecationWarning)\n",
      "D:\\DevelopKit\\Anaconda3\\lib\\site-packages\\sklearn\\grid_search.py:43: DeprecationWarning: This module was deprecated in version 0.18 in favor of the model_selection module into which all the refactored classes and functions are moved. This module will be removed in 0.20.\n",
      "  DeprecationWarning)\n"
     ]
    }
   ],
   "source": [
    "import pandas as pd\n",
    "import numpy as np\n",
    "from scipy.stats import skew\n",
    "\n",
    "import matplotlib.pyplot as plt\n",
    "\n",
    "from sklearn.ensemble import GradientBoostingRegressor\n",
    "from sklearn.ensemble import RandomForestRegressor\n",
    "from sklearn.model_selection import train_test_split\n",
    "from sklearn.metrics import classification_report\n",
    "from sklearn.model_selection import validation_curve\n",
    "from sklearn.model_selection import learning_curve\n",
    "from sklearn import metrics\n",
    "from sklearn.metrics import fbeta_score, make_scorer\n",
    "from sklearn.grid_search import GridSearchCV\n",
    "from sklearn.random_projection import GaussianRandomProjection\n",
    "from sklearn.random_projection import SparseRandomProjection\n",
    "import lightgbm as lgb\n",
    "\n",
    "from sklearn.model_selection import KFold\n",
    "\n",
    "from sklearn.metrics import r2_score"
   ]
  },
  {
   "cell_type": "code",
   "execution_count": 62,
   "metadata": {
    "collapsed": true
   },
   "outputs": [],
   "source": [
    "train_df = pd.read_csv('../data/original/train.csv', index_col=0)\n",
    "test_df = pd.read_csv('../data/original/test.csv', index_col=0)"
   ]
  },
  {
   "cell_type": "code",
   "execution_count": null,
   "metadata": {
    "collapsed": true
   },
   "outputs": [],
   "source": []
  },
  {
   "cell_type": "code",
   "execution_count": null,
   "metadata": {
    "collapsed": false
   },
   "outputs": [],
   "source": [
    "\n"
   ]
  },
  {
   "cell_type": "code",
   "execution_count": 63,
   "metadata": {
    "collapsed": false
   },
   "outputs": [],
   "source": [
    "smooth = 5\n",
    "y_train_df = pd.DataFrame(train_df['y'])\n",
    "y = train_df['y']\n",
    "y = np.log(y + smooth)\n",
    "y_mean = np.mean(y)\n",
    "y = y-y_mean\n",
    "y_train_df[\"y\"] = y"
   ]
  },
  {
   "cell_type": "code",
   "execution_count": null,
   "metadata": {
    "collapsed": true
   },
   "outputs": [],
   "source": []
  },
  {
   "cell_type": "code",
   "execution_count": 64,
   "metadata": {
    "collapsed": false
   },
   "outputs": [],
   "source": [
    "train_df.drop(['y'], axis=1, inplace=True)"
   ]
  },
  {
   "cell_type": "code",
   "execution_count": 65,
   "metadata": {
    "collapsed": false
   },
   "outputs": [],
   "source": [
    "def munge(df):\n",
    "    all_df = pd.DataFrame(df.values, index=df.index, columns=df.columns, copy=True)\n",
    "    all_df.drop(['X0', 'X1', 'X2', 'X3', 'X4', 'X5', 'X6', 'X8'], axis=1, inplace=True)\n",
    "    \n",
    "    \n",
    "    #删除取值相同的特征\n",
    "    all_df.drop(['X11', 'X93', 'X107', 'X233', 'X235', 'X268', 'X289', 'X290' ,'X293' ,'X297', 'X330' ,'X347'], axis=1, inplace=True)\n",
    "    \n",
    "    #构造新特征\n",
    "    all_df['parts'] = all_df.sum(axis=1)\n",
    "    return all_df"
   ]
  },
  {
   "cell_type": "code",
   "execution_count": 66,
   "metadata": {
    "collapsed": false
   },
   "outputs": [],
   "source": [
    "munged_train_df = munge(train_df)\n",
    "munged_test_df = munge(test_df)"
   ]
  },
  {
   "cell_type": "code",
   "execution_count": 67,
   "metadata": {
    "collapsed": false
   },
   "outputs": [
    {
     "name": "stderr",
     "output_type": "stream",
     "text": [
      "D:\\DevelopKit\\Anaconda3\\lib\\site-packages\\sklearn\\preprocessing\\data.py:586: DeprecationWarning: Passing 1d arrays as data is deprecated in 0.17 and will raise ValueError in 0.19. Reshape your data either using X.reshape(-1, 1) if your data has a single feature or X.reshape(1, -1) if it contains a single sample.\n",
      "  warnings.warn(DEPRECATION_MSG_1D, DeprecationWarning)\n",
      "D:\\DevelopKit\\Anaconda3\\lib\\site-packages\\sklearn\\preprocessing\\data.py:649: DeprecationWarning: Passing 1d arrays as data is deprecated in 0.17 and will raise ValueError in 0.19. Reshape your data either using X.reshape(-1, 1) if your data has a single feature or X.reshape(1, -1) if it contains a single sample.\n",
      "  warnings.warn(DEPRECATION_MSG_1D, DeprecationWarning)\n",
      "D:\\DevelopKit\\Anaconda3\\lib\\site-packages\\sklearn\\preprocessing\\data.py:649: DeprecationWarning: Passing 1d arrays as data is deprecated in 0.17 and will raise ValueError in 0.19. Reshape your data either using X.reshape(-1, 1) if your data has a single feature or X.reshape(1, -1) if it contains a single sample.\n",
      "  warnings.warn(DEPRECATION_MSG_1D, DeprecationWarning)\n"
     ]
    }
   ],
   "source": [
    "from sklearn.preprocessing import StandardScaler\n",
    "scaler = StandardScaler()\n",
    "\n",
    "scaler.fit(munged_train_df['parts'])\n",
    "\n",
    "scaled = scaler.transform(munged_train_df['parts'])\n",
    "munged_train_df['parts'] = scaled\n",
    "\n",
    "scaled = scaler.transform(munged_test_df['parts'])\n",
    "munged_test_df['parts'] = scaled"
   ]
  },
  {
   "cell_type": "code",
   "execution_count": 68,
   "metadata": {
    "collapsed": true
   },
   "outputs": [],
   "source": [
    "# Convert categorical features using one-hot encoding.\n",
    "def onehot(onehot_df, df, column_name, fill_na):\n",
    "    onehot_df[column_name] = df[column_name]\n",
    "    if fill_na is not None:\n",
    "        onehot_df[column_name].fillna(fill_na, inplace=True)\n",
    "\n",
    "    dummies = pd.get_dummies(onehot_df[column_name], prefix = column_name)\n",
    "    \n",
    "    onehot_df = onehot_df.join(dummies)\n",
    "    onehot_df = onehot_df.drop([column_name], axis=1)\n",
    "    return onehot_df\n",
    "\n",
    "def munge_onehot(df):\n",
    "    onehot_df = pd.DataFrame(index = df.index)\n",
    "\n",
    "    onehot_df = onehot(onehot_df, df, \"X0\", None)\n",
    "    onehot_df = onehot(onehot_df, df, \"X1\", None)\n",
    "    onehot_df = onehot(onehot_df, df, \"X2\", None)\n",
    "    onehot_df = onehot(onehot_df, df, \"X3\", None)\n",
    "    onehot_df = onehot(onehot_df, df, \"X4\", None)\n",
    "    onehot_df = onehot(onehot_df, df, \"X5\", None)\n",
    "    onehot_df = onehot(onehot_df, df, \"X6\", None)\n",
    "    onehot_df = onehot(onehot_df, df, \"X8\", None)\n",
    "    \n",
    "    return onehot_df"
   ]
  },
  {
   "cell_type": "code",
   "execution_count": 69,
   "metadata": {
    "collapsed": false
   },
   "outputs": [],
   "source": [
    "onehot_df = munge_onehot(train_df)\n",
    "munged_train_df = munged_train_df.join(onehot_df)"
   ]
  },
  {
   "cell_type": "code",
   "execution_count": 70,
   "metadata": {
    "collapsed": true
   },
   "outputs": [],
   "source": [
    "onehot_df = munge_onehot(test_df)\n",
    "munged_test_df = munged_test_df.join(onehot_df)"
   ]
  },
  {
   "cell_type": "code",
   "execution_count": 71,
   "metadata": {
    "collapsed": false
   },
   "outputs": [
    {
     "data": {
      "text/plain": [
       "{'X0_ae',\n",
       " 'X0_ag',\n",
       " 'X0_an',\n",
       " 'X0_av',\n",
       " 'X0_bb',\n",
       " 'X0_p',\n",
       " 'X2_ab',\n",
       " 'X2_ad',\n",
       " 'X2_aj',\n",
       " 'X2_ax',\n",
       " 'X2_u',\n",
       " 'X2_w',\n",
       " 'X5_a',\n",
       " 'X5_b',\n",
       " 'X5_t',\n",
       " 'X5_z'}"
      ]
     },
     "execution_count": 71,
     "metadata": {},
     "output_type": "execute_result"
    }
   ],
   "source": [
    "set(munged_test_df) - set(munged_train_df)"
   ]
  },
  {
   "cell_type": "code",
   "execution_count": 72,
   "metadata": {
    "collapsed": true
   },
   "outputs": [],
   "source": [
    "#删除test中有的  而train中没有的\n",
    "munged_test_df.drop(['X0_ae', 'X0_ag', 'X0_an', 'X0_av', 'X0_bb', 'X0_p',\n",
    "                     'X2_ab', 'X2_ad', 'X2_aj', 'X2_ax', 'X2_u', 'X2_w', 'X5_a', 'X5_b', 'X5_t', 'X5_z'], axis=1, inplace=True)"
   ]
  },
  {
   "cell_type": "code",
   "execution_count": 73,
   "metadata": {
    "collapsed": false
   },
   "outputs": [
    {
     "data": {
      "text/plain": [
       "{'X0_aa',\n",
       " 'X0_ab',\n",
       " 'X0_ac',\n",
       " 'X0_q',\n",
       " 'X2_aa',\n",
       " 'X2_ar',\n",
       " 'X2_c',\n",
       " 'X2_l',\n",
       " 'X2_o',\n",
       " 'X5_u'}"
      ]
     },
     "execution_count": 73,
     "metadata": {},
     "output_type": "execute_result"
    }
   ],
   "source": [
    "set(munged_train_df) - set(munged_test_df)"
   ]
  },
  {
   "cell_type": "code",
   "execution_count": 74,
   "metadata": {
    "collapsed": true
   },
   "outputs": [],
   "source": [
    "#删除train中有的  而test中没有的\n",
    "munged_train_df.drop(['X0_aa', 'X0_ab', 'X0_ac', 'X0_q', 'X2_aa', 'X2_ar', 'X2_c', 'X2_l', 'X2_o', 'X5_u'], axis=1, inplace=True)"
   ]
  },
  {
   "cell_type": "code",
   "execution_count": 75,
   "metadata": {
    "collapsed": true
   },
   "outputs": [],
   "source": [
    "#删除一些占比非常不平衡的特征"
   ]
  },
  {
   "cell_type": "code",
   "execution_count": 76,
   "metadata": {
    "collapsed": false
   },
   "outputs": [
    {
     "data": {
      "text/plain": [
       "4153"
      ]
     },
     "execution_count": 76,
     "metadata": {},
     "output_type": "execute_result"
    }
   ],
   "source": [
    "munged_train_df['X10'].value_counts()[0]"
   ]
  },
  {
   "cell_type": "code",
   "execution_count": 77,
   "metadata": {
    "collapsed": false,
    "scrolled": true
   },
   "outputs": [],
   "source": [
    "s = munged_train_df.shape[0]\n",
    "drop_names = []\n",
    "for c in munged_train_df.drop(['parts'], axis=1).columns:\n",
    "    a = munged_train_df[c].value_counts()[0] / s\n",
    "    b = munged_train_df[c].value_counts()[1] / s\n",
    "    if (a < 0.05 or b < 0.05):\n",
    "        drop_names.append(c)"
   ]
  },
  {
   "cell_type": "code",
   "execution_count": 78,
   "metadata": {
    "collapsed": false
   },
   "outputs": [
    {
     "data": {
      "text/plain": [
       "373"
      ]
     },
     "execution_count": 78,
     "metadata": {},
     "output_type": "execute_result"
    }
   ],
   "source": [
    "len(drop_names)"
   ]
  },
  {
   "cell_type": "code",
   "execution_count": 79,
   "metadata": {
    "collapsed": false
   },
   "outputs": [],
   "source": [
    "munged_train_df.drop(drop_names, axis=1, inplace=True)\n",
    "munged_test_df.drop(drop_names, axis=1, inplace=True)"
   ]
  },
  {
   "cell_type": "code",
   "execution_count": 80,
   "metadata": {
    "collapsed": true
   },
   "outputs": [],
   "source": [
    "from sklearn.decomposition import PCA, FastICA"
   ]
  },
  {
   "cell_type": "code",
   "execution_count": 91,
   "metadata": {
    "collapsed": true
   },
   "outputs": [],
   "source": [
    "def KFoldCV(model, num_fold, X_train, y_train):\n",
    "    cv_results = []\n",
    "    kf = KFold(n_splits=num_fold, random_state=27)\n",
    "    for train_index, test_index in kf.split(X_train):\n",
    "        X_sub_train = X_train[train_index]\n",
    "        X_sub_test = X_train[test_index]\n",
    "        y_sub_train = y_train[train_index]\n",
    "        y_sub_test = y_train[test_index]\n",
    "        model.fit(X_sub_train, y_sub_train)\n",
    "        y_pred = model.predict(X_sub_test)\n",
    "        score = r2_score(np.exp(y_sub_test + y_mean) - smooth, np.exp(y_pred + y_mean) - smooth)\n",
    "        cv_results.append(score)\n",
    "    print('mean:%f std:%f'%(np.mean(cv_results), np.std(cv_results)))\n",
    "    return np.mean(cv_results), np.std(cv_results)"
   ]
  },
  {
   "cell_type": "code",
   "execution_count": 92,
   "metadata": {
    "collapsed": false
   },
   "outputs": [],
   "source": [
    "def try_comp(n_pca_comp, n_ica_comp, n_grp_comp, n_srp_comp):\n",
    "    pca = PCA(n_components=n_pca_comp, random_state=42)\n",
    "    pca2_results_train = pca.fit_transform(munged_train_df)\n",
    "    pca2_results_test = pca.transform(munged_test_df)\n",
    "\n",
    "    #ICA\n",
    "    ica = FastICA(n_components=n_ica_comp, random_state=42)\n",
    "    ica2_results_train = ica.fit_transform(munged_train_df)\n",
    "    ica2_results_test = ica.transform(munged_test_df)\n",
    "\n",
    "    # GRP\n",
    "    grp = GaussianRandomProjection(n_components=n_grp_comp, eps=0.1, random_state=420)\n",
    "    grp_results_train = grp.fit_transform(munged_train_df)\n",
    "    grp_results_test = grp.transform(munged_test_df)\n",
    "\n",
    "    # SRP\n",
    "    srp = SparseRandomProjection(n_components=n_srp_comp, dense_output=True, random_state=420)\n",
    "    srp_results_train = srp.fit_transform(munged_train_df)\n",
    "    srp_results_test = srp.transform(munged_test_df)\n",
    "    \n",
    "    src_train_df = munged_train_df.copy()\n",
    "    \n",
    "    # Append decomposition components to datasets\n",
    "    for i in range(1, n_pca_comp+1):\n",
    "        src_train_df['pca_' + str(i)] = pca2_results_train[:,i-1]\n",
    "        \n",
    "    for i in range(1, n_ica_comp+1):\n",
    "        src_train_df['ica_' + str(i)] = ica2_results_train[:,i-1]\n",
    "        \n",
    "    for i in range(1, n_grp_comp+1):\n",
    "        src_train_df['grp_' + str(i)] = grp_results_train[:,i-1]\n",
    "        \n",
    "    for i in range(1, n_srp_comp+1):\n",
    "        src_train_df['srp_' + str(i)] = srp_results_train[:,i-1]\n",
    "        \n",
    "    print('pca:%d  ica:%d  grp:%d srp:%d'%(n_pca_comp, n_ica_comp, n_grp_comp, n_srp_comp))\n",
    "    return train_lightgbm(src_train_df)"
   ]
  },
  {
   "cell_type": "code",
   "execution_count": 93,
   "metadata": {
    "collapsed": true
   },
   "outputs": [],
   "source": [
    "def try_comp2(n_pca_comp, n_ica_comp):\n",
    "    pca = PCA(n_components=n_pca_comp, random_state=42)\n",
    "    pca2_results_train = pca.fit_transform(munged_train_df)\n",
    "    pca2_results_test = pca.transform(munged_test_df)\n",
    "\n",
    "    #ICA\n",
    "    ica = FastICA(n_components=n_ica_comp, random_state=42)\n",
    "    ica2_results_train = ica.fit_transform(munged_train_df)\n",
    "    ica2_results_test = ica.transform(munged_test_df)\n",
    "\n",
    "    \n",
    "    src_train_df = munged_train_df.copy()\n",
    "    \n",
    "    # Append decomposition components to datasets\n",
    "    for i in range(1, n_pca_comp+1):\n",
    "        src_train_df['pca_' + str(i)] = pca2_results_train[:,i-1]\n",
    "        \n",
    "    for i in range(1, n_ica_comp+1):\n",
    "        src_train_df['ica_' + str(i)] = ica2_results_train[:,i-1]\n",
    "        \n",
    "        \n",
    "    print('pca:%d  ica:%d'%(n_pca_comp, n_ica_comp))\n",
    "    return train_lightgbm(src_train_df)"
   ]
  },
  {
   "cell_type": "code",
   "execution_count": 94,
   "metadata": {
    "collapsed": false
   },
   "outputs": [],
   "source": [
    "def train_lightgbm(train_df):\n",
    "    \n",
    "    X_train, X_test, y_train, y_test = train_test_split(train_df.values, y_train_df['y'].values, test_size=0.5, random_state=1729)\n",
    "    X_all_train = train_df.values\n",
    "    y_all_train = y_train_df['y'].values\n",
    "    \n",
    "    estimator = lgb.LGBMRegressor(max_depth=4, num_leaves=9, learning_rate=0.005, n_estimators=700, subsample=0.9, seed=1729)\n",
    "\n",
    "#     param_grid = {\n",
    "#         'num_leaves':[9, 10, 11],\n",
    "#         'learning_rate': [0.005, 0.01],\n",
    "#         'n_estimators': [500, 700],\n",
    "#         'subsample':[0.90, 0.95]\n",
    "\n",
    "#     }\n",
    "\n",
    "#     gbm = GridSearchCV(estimator, param_grid)\n",
    "\n",
    "#     gbm.fit(X_train, y_train)\n",
    "#     y_pred = gbm.predict(X_test)\n",
    "\n",
    "#     print('Best parameters found by grid search are:', gbm.best_params_)\n",
    "#     print('Best score:%f'%(r2_score(y_test, y_pred)))\n",
    "    \n",
    "#     estimator.set_params(**gbm.best_params_)\n",
    "\n",
    "    \n",
    "    return KFoldCV(estimator, 5, X_all_train, y_all_train)"
   ]
  },
  {
   "cell_type": "code",
   "execution_count": 38,
   "metadata": {
    "collapsed": true
   },
   "outputs": [
    {
     "name": "stdout",
     "output_type": "stream",
     "text": [
      "pca:10  ica:7  grp:1 srp:1\n",
      "mean:0.556222 std:0.074725\n",
      "==============================================================\n",
      "pca:10  ica:7  grp:1 srp:2\n",
      "mean:0.556400 std:0.074302\n",
      "==============================================================\n",
      "pca:10  ica:7  grp:1 srp:3\n",
      "mean:0.556066 std:0.074604\n",
      "==============================================================\n",
      "pca:10  ica:7  grp:1 srp:4\n",
      "mean:0.556390 std:0.073721\n",
      "==============================================================\n",
      "pca:10  ica:7  grp:2 srp:1\n",
      "mean:0.556158 std:0.074664\n",
      "==============================================================\n",
      "pca:10  ica:7  grp:2 srp:2\n",
      "mean:0.556339 std:0.074315\n",
      "==============================================================\n",
      "pca:10  ica:7  grp:2 srp:3\n",
      "mean:0.555927 std:0.074541\n",
      "==============================================================\n",
      "pca:10  ica:7  grp:2 srp:4\n",
      "mean:0.556447 std:0.073783\n",
      "==============================================================\n",
      "pca:10  ica:7  grp:3 srp:1\n",
      "mean:0.555796 std:0.074722\n",
      "==============================================================\n",
      "pca:10  ica:7  grp:3 srp:2\n",
      "mean:0.555985 std:0.074553\n",
      "==============================================================\n",
      "pca:10  ica:7  grp:3 srp:3\n",
      "mean:0.555523 std:0.074503\n",
      "==============================================================\n",
      "pca:10  ica:7  grp:3 srp:4\n",
      "mean:0.555985 std:0.074079\n",
      "==============================================================\n",
      "pca:10  ica:7  grp:4 srp:1\n",
      "mean:0.555669 std:0.074959\n",
      "==============================================================\n",
      "pca:10  ica:7  grp:4 srp:2\n",
      "mean:0.555768 std:0.074610\n",
      "==============================================================\n",
      "pca:10  ica:7  grp:4 srp:3\n",
      "mean:0.555192 std:0.074762\n",
      "==============================================================\n",
      "pca:10  ica:7  grp:4 srp:4\n",
      "mean:0.555784 std:0.074447\n",
      "==============================================================\n",
      "pca:10  ica:8  grp:1 srp:1\n",
      "mean:0.555713 std:0.073159\n",
      "==============================================================\n",
      "pca:10  ica:8  grp:1 srp:2\n",
      "mean:0.555416 std:0.072596\n",
      "==============================================================\n",
      "pca:10  ica:8  grp:1 srp:3\n",
      "mean:0.555554 std:0.072752\n",
      "==============================================================\n",
      "pca:10  ica:8  grp:1 srp:4\n",
      "mean:0.555630 std:0.072374\n",
      "==============================================================\n",
      "pca:10  ica:8  grp:2 srp:1\n",
      "mean:0.555646 std:0.073114\n",
      "==============================================================\n",
      "pca:10  ica:8  grp:2 srp:2\n",
      "mean:0.555418 std:0.072558\n",
      "==============================================================\n",
      "pca:10  ica:8  grp:2 srp:3\n",
      "mean:0.555400 std:0.072774\n",
      "==============================================================\n",
      "pca:10  ica:8  grp:2 srp:4\n",
      "mean:0.555646 std:0.072364\n",
      "==============================================================\n",
      "pca:10  ica:8  grp:3 srp:1\n",
      "mean:0.555539 std:0.073285\n",
      "==============================================================\n",
      "pca:10  ica:8  grp:3 srp:2\n",
      "mean:0.555221 std:0.072734\n",
      "==============================================================\n",
      "pca:10  ica:8  grp:3 srp:3\n",
      "mean:0.555305 std:0.072831\n",
      "==============================================================\n",
      "pca:10  ica:8  grp:3 srp:4\n",
      "mean:0.555516 std:0.072690\n",
      "==============================================================\n",
      "pca:10  ica:8  grp:4 srp:1\n",
      "mean:0.555264 std:0.073588\n",
      "==============================================================\n",
      "pca:10  ica:8  grp:4 srp:2\n",
      "mean:0.554949 std:0.073054\n",
      "==============================================================\n",
      "pca:10  ica:8  grp:4 srp:3\n",
      "mean:0.554921 std:0.073266\n",
      "==============================================================\n",
      "pca:10  ica:8  grp:4 srp:4\n",
      "mean:0.555203 std:0.072995\n",
      "==============================================================\n",
      "pca:10  ica:9  grp:1 srp:1\n",
      "mean:0.554222 std:0.073365\n",
      "==============================================================\n",
      "pca:10  ica:9  grp:1 srp:2\n",
      "mean:0.554095 std:0.073127\n",
      "==============================================================\n",
      "pca:10  ica:9  grp:1 srp:3\n",
      "mean:0.553523 std:0.072662\n",
      "==============================================================\n",
      "pca:10  ica:9  grp:1 srp:4\n",
      "mean:0.554440 std:0.072592\n",
      "==============================================================\n",
      "pca:10  ica:9  grp:2 srp:1\n",
      "mean:0.553796 std:0.073218\n",
      "==============================================================\n",
      "pca:10  ica:9  grp:2 srp:2\n",
      "mean:0.553793 std:0.072945\n",
      "==============================================================\n",
      "pca:10  ica:9  grp:2 srp:3\n",
      "mean:0.553189 std:0.072569\n",
      "==============================================================\n",
      "pca:10  ica:9  grp:2 srp:4\n",
      "mean:0.554138 std:0.072404\n",
      "==============================================================\n",
      "pca:10  ica:9  grp:3 srp:1\n",
      "mean:0.553390 std:0.073417\n",
      "==============================================================\n",
      "pca:10  ica:9  grp:3 srp:2\n",
      "mean:0.553406 std:0.073095\n",
      "==============================================================\n",
      "pca:10  ica:9  grp:3 srp:3\n",
      "mean:0.552878 std:0.072652\n",
      "==============================================================\n",
      "pca:10  ica:9  grp:3 srp:4\n",
      "mean:0.553576 std:0.072736\n",
      "==============================================================\n",
      "pca:10  ica:9  grp:4 srp:1\n",
      "mean:0.553594 std:0.073363\n",
      "==============================================================\n",
      "pca:10  ica:9  grp:4 srp:2\n",
      "mean:0.553277 std:0.073249\n",
      "==============================================================\n",
      "pca:10  ica:9  grp:4 srp:3\n",
      "mean:0.553120 std:0.072830\n",
      "==============================================================\n",
      "pca:10  ica:9  grp:4 srp:4\n",
      "mean:0.553768 std:0.072850\n",
      "==============================================================\n",
      "pca:10  ica:10  grp:1 srp:1\n",
      "mean:0.557692 std:0.071008\n",
      "==============================================================\n",
      "pca:10  ica:10  grp:1 srp:2\n",
      "mean:0.557977 std:0.070665\n",
      "==============================================================\n",
      "pca:10  ica:10  grp:1 srp:3\n",
      "mean:0.557468 std:0.070710\n",
      "==============================================================\n",
      "pca:10  ica:10  grp:1 srp:4\n",
      "mean:0.557815 std:0.070487\n",
      "==============================================================\n",
      "pca:10  ica:10  grp:2 srp:1\n",
      "mean:0.557722 std:0.071143\n",
      "==============================================================\n",
      "pca:10  ica:10  grp:2 srp:2\n",
      "mean:0.557901 std:0.070646\n",
      "==============================================================\n",
      "pca:10  ica:10  grp:2 srp:3\n",
      "mean:0.557465 std:0.070749\n",
      "==============================================================\n",
      "pca:10  ica:10  grp:2 srp:4\n",
      "mean:0.557826 std:0.070564\n",
      "==============================================================\n",
      "pca:10  ica:10  grp:3 srp:1\n",
      "mean:0.557345 std:0.071369\n",
      "==============================================================\n",
      "pca:10  ica:10  grp:3 srp:2\n",
      "mean:0.557496 std:0.070923\n",
      "==============================================================\n",
      "pca:10  ica:10  grp:3 srp:3\n",
      "mean:0.557068 std:0.070939\n",
      "==============================================================\n",
      "pca:10  ica:10  grp:3 srp:4\n",
      "mean:0.557491 std:0.070667\n",
      "==============================================================\n",
      "pca:10  ica:10  grp:4 srp:1\n",
      "mean:0.557002 std:0.071359\n",
      "==============================================================\n",
      "pca:10  ica:10  grp:4 srp:2\n",
      "mean:0.557329 std:0.070943\n",
      "==============================================================\n",
      "pca:10  ica:10  grp:4 srp:3\n",
      "mean:0.556816 std:0.071087\n",
      "==============================================================\n",
      "pca:10  ica:10  grp:4 srp:4\n",
      "mean:0.557476 std:0.071034\n",
      "==============================================================\n",
      "pca:11  ica:7  grp:1 srp:1\n",
      "mean:0.556283 std:0.074379\n",
      "==============================================================\n",
      "pca:11  ica:7  grp:1 srp:2\n",
      "mean:0.556393 std:0.074080\n",
      "==============================================================\n",
      "pca:11  ica:7  grp:1 srp:3\n",
      "mean:0.556043 std:0.074232\n",
      "==============================================================\n",
      "pca:11  ica:7  grp:1 srp:4\n",
      "mean:0.556471 std:0.073539\n",
      "==============================================================\n",
      "pca:11  ica:7  grp:2 srp:1\n",
      "mean:0.556246 std:0.074333\n",
      "==============================================================\n",
      "pca:11  ica:7  grp:2 srp:2\n",
      "mean:0.556183 std:0.073945\n",
      "==============================================================\n",
      "pca:11  ica:7  grp:2 srp:3\n",
      "mean:0.555921 std:0.074116\n",
      "==============================================================\n",
      "pca:11  ica:7  grp:2 srp:4\n",
      "mean:0.556308 std:0.073452\n",
      "==============================================================\n",
      "pca:11  ica:7  grp:3 srp:1\n",
      "mean:0.555676 std:0.074482\n",
      "==============================================================\n",
      "pca:11  ica:7  grp:3 srp:2\n",
      "mean:0.555859 std:0.074192\n",
      "==============================================================\n",
      "pca:11  ica:7  grp:3 srp:3\n",
      "mean:0.555590 std:0.074258\n",
      "==============================================================\n",
      "pca:11  ica:7  grp:3 srp:4\n",
      "mean:0.555883 std:0.073799\n",
      "==============================================================\n",
      "pca:11  ica:7  grp:4 srp:1\n",
      "mean:0.555719 std:0.074571\n",
      "==============================================================\n",
      "pca:11  ica:7  grp:4 srp:2\n",
      "mean:0.555876 std:0.074357\n",
      "==============================================================\n",
      "pca:11  ica:7  grp:4 srp:3\n",
      "mean:0.555539 std:0.074454\n",
      "==============================================================\n",
      "pca:11  ica:7  grp:4 srp:4\n",
      "mean:0.555695 std:0.074052\n",
      "==============================================================\n",
      "pca:11  ica:8  grp:1 srp:1\n",
      "mean:0.556044 std:0.072639\n",
      "==============================================================\n",
      "pca:11  ica:8  grp:1 srp:2\n",
      "mean:0.555758 std:0.072246\n",
      "==============================================================\n",
      "pca:11  ica:8  grp:1 srp:3\n",
      "mean:0.555848 std:0.072380\n",
      "==============================================================\n",
      "pca:11  ica:8  grp:1 srp:4\n",
      "mean:0.555983 std:0.072085\n",
      "==============================================================\n",
      "pca:11  ica:8  grp:2 srp:1\n",
      "mean:0.555953 std:0.072738\n",
      "==============================================================\n",
      "pca:11  ica:8  grp:2 srp:2\n",
      "mean:0.555732 std:0.072254\n",
      "==============================================================\n",
      "pca:11  ica:8  grp:2 srp:3\n",
      "mean:0.555743 std:0.072479\n",
      "==============================================================\n",
      "pca:11  ica:8  grp:2 srp:4\n",
      "mean:0.555944 std:0.072100\n",
      "==============================================================\n",
      "pca:11  ica:8  grp:3 srp:1\n",
      "mean:0.555669 std:0.072951\n",
      "==============================================================\n",
      "pca:11  ica:8  grp:3 srp:2\n",
      "mean:0.555607 std:0.072481\n",
      "==============================================================\n",
      "pca:11  ica:8  grp:3 srp:3\n",
      "mean:0.555547 std:0.072674\n",
      "==============================================================\n",
      "pca:11  ica:8  grp:3 srp:4\n",
      "mean:0.555634 std:0.072624\n",
      "==============================================================\n",
      "pca:11  ica:8  grp:4 srp:1\n",
      "mean:0.555602 std:0.073243\n",
      "==============================================================\n",
      "pca:11  ica:8  grp:4 srp:2\n",
      "mean:0.555370 std:0.072720\n",
      "==============================================================\n",
      "pca:11  ica:8  grp:4 srp:3\n",
      "mean:0.555331 std:0.072995\n",
      "==============================================================\n",
      "pca:11  ica:8  grp:4 srp:4\n",
      "mean:0.555471 std:0.072736\n",
      "==============================================================\n",
      "pca:11  ica:9  grp:1 srp:1\n",
      "mean:0.554404 std:0.072866\n",
      "==============================================================\n",
      "pca:11  ica:9  grp:1 srp:2\n",
      "mean:0.554143 std:0.072707\n",
      "==============================================================\n",
      "pca:11  ica:9  grp:1 srp:3\n",
      "mean:0.553825 std:0.072323\n",
      "==============================================================\n",
      "pca:11  ica:9  grp:1 srp:4\n",
      "mean:0.554581 std:0.072194\n",
      "==============================================================\n",
      "pca:11  ica:9  grp:2 srp:1\n",
      "mean:0.554022 std:0.072665\n",
      "==============================================================\n",
      "pca:11  ica:9  grp:2 srp:2\n",
      "mean:0.553883 std:0.072470\n",
      "==============================================================\n",
      "pca:11  ica:9  grp:2 srp:3\n",
      "mean:0.553532 std:0.072049\n",
      "==============================================================\n",
      "pca:11  ica:9  grp:2 srp:4\n",
      "mean:0.554233 std:0.072056\n",
      "==============================================================\n",
      "pca:11  ica:9  grp:3 srp:1\n",
      "mean:0.553666 std:0.072780\n",
      "==============================================================\n",
      "pca:11  ica:9  grp:3 srp:2\n",
      "mean:0.553513 std:0.072692\n",
      "==============================================================\n",
      "pca:11  ica:9  grp:3 srp:3\n",
      "mean:0.552984 std:0.072266\n",
      "==============================================================\n",
      "pca:11  ica:9  grp:3 srp:4\n",
      "mean:0.553798 std:0.072267\n",
      "==============================================================\n",
      "pca:11  ica:9  grp:4 srp:1\n",
      "mean:0.553672 std:0.072984\n",
      "==============================================================\n",
      "pca:11  ica:9  grp:4 srp:2\n",
      "mean:0.553477 std:0.072859\n",
      "==============================================================\n",
      "pca:11  ica:9  grp:4 srp:3\n",
      "mean:0.553092 std:0.072412\n",
      "==============================================================\n",
      "pca:11  ica:9  grp:4 srp:4\n",
      "mean:0.553849 std:0.072444\n",
      "==============================================================\n",
      "pca:11  ica:10  grp:1 srp:1\n",
      "mean:0.557888 std:0.070836\n",
      "==============================================================\n",
      "pca:11  ica:10  grp:1 srp:2\n",
      "mean:0.558101 std:0.070518\n",
      "==============================================================\n",
      "pca:11  ica:10  grp:1 srp:3\n",
      "mean:0.557788 std:0.070628\n",
      "==============================================================\n",
      "pca:11  ica:10  grp:1 srp:4\n",
      "mean:0.558288 std:0.070459\n",
      "==============================================================\n",
      "pca:11  ica:10  grp:2 srp:1\n",
      "mean:0.557928 std:0.070913\n",
      "==============================================================\n",
      "pca:11  ica:10  grp:2 srp:2\n",
      "mean:0.558031 std:0.070486\n",
      "==============================================================\n",
      "pca:11  ica:10  grp:2 srp:3\n",
      "mean:0.557844 std:0.070646\n",
      "==============================================================\n",
      "pca:11  ica:10  grp:2 srp:4\n",
      "mean:0.558174 std:0.070399\n",
      "==============================================================\n",
      "pca:11  ica:10  grp:3 srp:1\n",
      "mean:0.557559 std:0.071100\n",
      "==============================================================\n",
      "pca:11  ica:10  grp:3 srp:2\n",
      "mean:0.557715 std:0.070683\n",
      "==============================================================\n",
      "pca:11  ica:10  grp:3 srp:3\n",
      "mean:0.557326 std:0.070826\n",
      "==============================================================\n",
      "pca:11  ica:10  grp:3 srp:4\n",
      "mean:0.557770 std:0.070595\n",
      "==============================================================\n",
      "pca:11  ica:10  grp:4 srp:1\n",
      "mean:0.557585 std:0.071114\n",
      "==============================================================\n",
      "pca:11  ica:10  grp:4 srp:2\n",
      "mean:0.557566 std:0.070642\n",
      "==============================================================\n",
      "pca:11  ica:10  grp:4 srp:3\n",
      "mean:0.557334 std:0.070838\n",
      "==============================================================\n",
      "pca:11  ica:10  grp:4 srp:4\n",
      "mean:0.557788 std:0.070700\n",
      "==============================================================\n",
      "max_mean=0.558288 min_std=0.070399\n"
     ]
    }
   ],
   "source": [
    "max_mean = 0\n",
    "min_std = 10\n",
    "\n",
    "for pca_comp in range(10,12):\n",
    "    for ica_comp in range(7, 11):\n",
    "        for grp_comp in range(1, 5):\n",
    "            for srp_comp in range(1, 5):\n",
    "                mean, std = try_comp(pca_comp, ica_comp, grp_comp, srp_comp)\n",
    "                print('==============================================================')\n",
    "                if max_mean < mean:\n",
    "                    max_mean = mean\n",
    "                if min_std > std:\n",
    "                    min_std = std\n",
    "                    \n",
    "print('max_mean=%f min_std=%f'%(max_mean, min_std))\n",
    "                    "
   ]
  },
  {
   "cell_type": "code",
   "execution_count": 95,
   "metadata": {
    "collapsed": false
   },
   "outputs": [
    {
     "name": "stdout",
     "output_type": "stream",
     "text": [
      "pca:10  ica:10  grp:6 srp:5\n",
      "mean:0.562695 std:0.075168\n"
     ]
    }
   ],
   "source": [
    "mean, std = try_comp(10, 10, 6, 5)"
   ]
  },
  {
   "cell_type": "code",
   "execution_count": 96,
   "metadata": {
    "collapsed": false
   },
   "outputs": [
    {
     "data": {
      "text/plain": [
       "4.653474409882869"
      ]
     },
     "execution_count": 96,
     "metadata": {},
     "output_type": "execute_result"
    }
   ],
   "source": [
    "y_mean=4.653474409882869"
   ]
  },
  {
   "cell_type": "code",
   "execution_count": 89,
   "metadata": {
    "collapsed": true
   },
   "outputs": [],
   "source": [
    "def comp_result(n_pca_comp, n_ica_comp, n_grp_comp, n_srp_comp):\n",
    "    pca = PCA(n_components=n_pca_comp, random_state=42)\n",
    "    pca2_results_train = pca.fit_transform(munged_train_df)\n",
    "    pca2_results_test = pca.transform(munged_test_df)\n",
    "\n",
    "    #ICA\n",
    "    ica = FastICA(n_components=n_ica_comp, random_state=42)\n",
    "    ica2_results_train = ica.fit_transform(munged_train_df)\n",
    "    ica2_results_test = ica.transform(munged_test_df)\n",
    "\n",
    "    # GRP\n",
    "    grp = GaussianRandomProjection(n_components=n_grp_comp, eps=0.1, random_state=420)\n",
    "    grp_results_train = grp.fit_transform(munged_train_df)\n",
    "    grp_results_test = grp.transform(munged_test_df)\n",
    "\n",
    "    # SRP\n",
    "    srp = SparseRandomProjection(n_components=n_srp_comp, dense_output=True, random_state=420)\n",
    "    srp_results_train = srp.fit_transform(munged_train_df)\n",
    "    srp_results_test = srp.transform(munged_test_df)\n",
    "    \n",
    "    src_train_df = munged_train_df.copy()\n",
    "    src_test_df = munged_test_df.copy()\n",
    "    # Append decomposition components to datasets\n",
    "    for i in range(1, n_pca_comp+1):\n",
    "        src_train_df['pca_' + str(i)] = pca2_results_train[:,i-1]\n",
    "        src_test_df['pca_' + str(i)] = pca2_results_test[:, i-1]\n",
    "        \n",
    "    for i in range(1, n_ica_comp+1):\n",
    "        src_train_df['ica_' + str(i)] = ica2_results_train[:,i-1]\n",
    "        src_test_df['ica_' + str(i)] = ica2_results_test[:, i-1]\n",
    "        \n",
    "    for i in range(1, n_grp_comp+1):\n",
    "        src_train_df['grp_' + str(i)] = grp_results_train[:,i-1]\n",
    "        src_test_df['grp_' + str(i)] = grp_results_test[:, i-1]\n",
    "        \n",
    "    for i in range(1, n_srp_comp+1):\n",
    "        src_train_df['srp_' + str(i)] = srp_results_train[:,i-1]\n",
    "        src_test_df['srp_' + str(i)] = srp_results_test[:, i-1]\n",
    "        \n",
    "    src_train_df.to_csv('../data/offline/train.csv')\n",
    "    src_test_df.to_csv('../data/offline/test.csv')\n",
    "    y_train_df.to_csv('../data/offline/y_train.csv')"
   ]
  },
  {
   "cell_type": "code",
   "execution_count": 90,
   "metadata": {
    "collapsed": false
   },
   "outputs": [],
   "source": [
    "comp_result(10, 10, 6, 5)"
   ]
  },
  {
   "cell_type": "code",
   "execution_count": null,
   "metadata": {
    "collapsed": true
   },
   "outputs": [],
   "source": [
    "\n",
    "\n"
   ]
  },
  {
   "cell_type": "code",
   "execution_count": null,
   "metadata": {
    "collapsed": true
   },
   "outputs": [],
   "source": []
  },
  {
   "cell_type": "code",
   "execution_count": 31,
   "metadata": {
    "collapsed": false
   },
   "outputs": [],
   "source": []
  },
  {
   "cell_type": "code",
   "execution_count": null,
   "metadata": {
    "collapsed": true
   },
   "outputs": [],
   "source": []
  },
  {
   "cell_type": "code",
   "execution_count": null,
   "metadata": {
    "collapsed": true
   },
   "outputs": [],
   "source": []
  }
 ],
 "metadata": {
  "anaconda-cloud": {},
  "kernelspec": {
   "display_name": "Python [conda root]",
   "language": "python",
   "name": "conda-root-py"
  },
  "language_info": {
   "codemirror_mode": {
    "name": "ipython",
    "version": 3
   },
   "file_extension": ".py",
   "mimetype": "text/x-python",
   "name": "python",
   "nbconvert_exporter": "python",
   "pygments_lexer": "ipython3",
   "version": "3.5.2"
  }
 },
 "nbformat": 4,
 "nbformat_minor": 1
}
