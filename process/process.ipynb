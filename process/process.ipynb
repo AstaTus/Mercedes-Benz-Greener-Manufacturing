{
 "cells": [
  {
   "cell_type": "code",
   "execution_count": 1,
   "metadata": {
    "collapsed": true
   },
   "outputs": [],
   "source": [
    "import pandas as pd\n",
    "import numpy as np"
   ]
  },
  {
   "cell_type": "code",
   "execution_count": 2,
   "metadata": {
    "collapsed": true
   },
   "outputs": [],
   "source": [
    "from scipy.stats import skew"
   ]
  },
  {
   "cell_type": "code",
   "execution_count": 3,
   "metadata": {
    "collapsed": true
   },
   "outputs": [],
   "source": [
    "import matplotlib\n",
    "import matplotlib.pyplot as plt"
   ]
  },
  {
   "cell_type": "code",
   "execution_count": 4,
   "metadata": {
    "collapsed": true
   },
   "outputs": [],
   "source": [
    "import xgboost as xgb"
   ]
  },
  {
   "cell_type": "code",
   "execution_count": 5,
   "metadata": {
    "collapsed": false
   },
   "outputs": [
    {
     "name": "stderr",
     "output_type": "stream",
     "text": [
      "D:\\DevelopKit\\Anaconda3\\lib\\site-packages\\sklearn\\cross_validation.py:44: DeprecationWarning: This module was deprecated in version 0.18 in favor of the model_selection module into which all the refactored classes and functions are moved. Also note that the interface of the new CV iterators are different from that of this module. This module will be removed in 0.20.\n",
      "  \"This module will be removed in 0.20.\", DeprecationWarning)\n",
      "D:\\DevelopKit\\Anaconda3\\lib\\site-packages\\sklearn\\grid_search.py:43: DeprecationWarning: This module was deprecated in version 0.18 in favor of the model_selection module into which all the refactored classes and functions are moved. This module will be removed in 0.20.\n",
      "  DeprecationWarning)\n"
     ]
    }
   ],
   "source": [
    "from sklearn.ensemble import GradientBoostingRegressor\n",
    "from sklearn.ensemble import RandomForestRegressor\n",
    "from sklearn.model_selection import train_test_split\n",
    "from sklearn.metrics import classification_report\n",
    "from sklearn.model_selection import validation_curve\n",
    "from sklearn.model_selection import learning_curve\n",
    "from sklearn import metrics\n",
    "from sklearn.metrics import fbeta_score, make_scorer\n",
    "from sklearn.grid_search import GridSearchCV"
   ]
  },
  {
   "cell_type": "code",
   "execution_count": 6,
   "metadata": {
    "collapsed": true
   },
   "outputs": [],
   "source": [
    "train_df = pd.read_csv('../data/original/train.csv', index_col=0)\n",
    "test_df = pd.read_csv('../data/original/test.csv', index_col=0)"
   ]
  },
  {
   "cell_type": "code",
   "execution_count": 7,
   "metadata": {
    "collapsed": false
   },
   "outputs": [],
   "source": [
    "label_df = pd.DataFrame(train_df['y'])"
   ]
  },
  {
   "cell_type": "code",
   "execution_count": 8,
   "metadata": {
    "collapsed": false
   },
   "outputs": [
    {
     "data": {
      "text/plain": [
       "array([ 1.20609583])"
      ]
     },
     "execution_count": 8,
     "metadata": {},
     "output_type": "execute_result"
    }
   ],
   "source": [
    "skew(label_df)"
   ]
  },
  {
   "cell_type": "code",
   "execution_count": 9,
   "metadata": {
    "collapsed": true
   },
   "outputs": [],
   "source": [
    "label_df = np.log1p(label_df)"
   ]
  },
  {
   "cell_type": "code",
   "execution_count": 10,
   "metadata": {
    "collapsed": false
   },
   "outputs": [],
   "source": [
    "train_df.drop(['y'], axis=1, inplace=True)"
   ]
  },
  {
   "cell_type": "code",
   "execution_count": 11,
   "metadata": {
    "collapsed": false
   },
   "outputs": [],
   "source": [
    "def munge(df):\n",
    "    all_df = pd.DataFrame(df.values, index=df.index, columns=df.columns, copy=True)\n",
    "    all_df.drop(['X0', 'X1', 'X2', 'X3', 'X4', 'X5', 'X6', 'X8'], axis=1, inplace=True)\n",
    "    \n",
    "    \n",
    "    #删除取值相同的特征\n",
    "    all_df.drop(['X11', 'X93', 'X107', 'X233', 'X235', 'X268', 'X289', 'X290' ,'X293' ,'X297', 'X330' ,'X347'], axis=1, inplace=True)\n",
    "    \n",
    "    #构造新特征\n",
    "    all_df['parts'] = all_df.sum(axis=1)\n",
    "    return all_df"
   ]
  },
  {
   "cell_type": "code",
   "execution_count": 12,
   "metadata": {
    "collapsed": false
   },
   "outputs": [],
   "source": [
    "munged_train_df = munge(train_df)\n",
    "munged_test_df = munge(test_df)"
   ]
  },
  {
   "cell_type": "code",
   "execution_count": 13,
   "metadata": {
    "collapsed": false
   },
   "outputs": [
    {
     "name": "stderr",
     "output_type": "stream",
     "text": [
      "D:\\DevelopKit\\Anaconda3\\lib\\site-packages\\sklearn\\preprocessing\\data.py:586: DeprecationWarning: Passing 1d arrays as data is deprecated in 0.17 and will raise ValueError in 0.19. Reshape your data either using X.reshape(-1, 1) if your data has a single feature or X.reshape(1, -1) if it contains a single sample.\n",
      "  warnings.warn(DEPRECATION_MSG_1D, DeprecationWarning)\n",
      "D:\\DevelopKit\\Anaconda3\\lib\\site-packages\\sklearn\\preprocessing\\data.py:649: DeprecationWarning: Passing 1d arrays as data is deprecated in 0.17 and will raise ValueError in 0.19. Reshape your data either using X.reshape(-1, 1) if your data has a single feature or X.reshape(1, -1) if it contains a single sample.\n",
      "  warnings.warn(DEPRECATION_MSG_1D, DeprecationWarning)\n",
      "D:\\DevelopKit\\Anaconda3\\lib\\site-packages\\sklearn\\preprocessing\\data.py:649: DeprecationWarning: Passing 1d arrays as data is deprecated in 0.17 and will raise ValueError in 0.19. Reshape your data either using X.reshape(-1, 1) if your data has a single feature or X.reshape(1, -1) if it contains a single sample.\n",
      "  warnings.warn(DEPRECATION_MSG_1D, DeprecationWarning)\n"
     ]
    }
   ],
   "source": [
    "from sklearn.preprocessing import StandardScaler\n",
    "scaler = StandardScaler()\n",
    "\n",
    "scaler.fit(munged_train_df['parts'])\n",
    "\n",
    "scaled = scaler.transform(munged_train_df['parts'])\n",
    "munged_train_df['parts'] = scaled\n",
    "\n",
    "scaled = scaler.transform(munged_test_df['parts'])\n",
    "munged_test_df['parts'] = scaled"
   ]
  },
  {
   "cell_type": "code",
   "execution_count": 14,
   "metadata": {
    "collapsed": true
   },
   "outputs": [],
   "source": [
    "# Convert categorical features using one-hot encoding.\n",
    "def onehot(onehot_df, df, column_name, fill_na):\n",
    "    onehot_df[column_name] = df[column_name]\n",
    "    if fill_na is not None:\n",
    "        onehot_df[column_name].fillna(fill_na, inplace=True)\n",
    "\n",
    "    dummies = pd.get_dummies(onehot_df[column_name], prefix = column_name)\n",
    "    \n",
    "    onehot_df = onehot_df.join(dummies)\n",
    "    onehot_df = onehot_df.drop([column_name], axis=1)\n",
    "    return onehot_df\n",
    "\n",
    "def munge_onehot(df):\n",
    "    onehot_df = pd.DataFrame(index = df.index)\n",
    "\n",
    "    onehot_df = onehot(onehot_df, df, \"X0\", None)\n",
    "    onehot_df = onehot(onehot_df, df, \"X1\", None)\n",
    "    onehot_df = onehot(onehot_df, df, \"X2\", None)\n",
    "    onehot_df = onehot(onehot_df, df, \"X3\", None)\n",
    "    onehot_df = onehot(onehot_df, df, \"X4\", None)\n",
    "    onehot_df = onehot(onehot_df, df, \"X5\", None)\n",
    "    onehot_df = onehot(onehot_df, df, \"X6\", None)\n",
    "    onehot_df = onehot(onehot_df, df, \"X8\", None)\n",
    "    \n",
    "    return onehot_df"
   ]
  },
  {
   "cell_type": "code",
   "execution_count": 15,
   "metadata": {
    "collapsed": false
   },
   "outputs": [],
   "source": [
    "onehot_df = munge_onehot(train_df)\n",
    "munged_train_df = munged_train_df.join(onehot_df)"
   ]
  },
  {
   "cell_type": "code",
   "execution_count": 16,
   "metadata": {
    "collapsed": true
   },
   "outputs": [],
   "source": [
    "onehot_df = munge_onehot(test_df)\n",
    "munged_test_df = munged_test_df.join(onehot_df)"
   ]
  },
  {
   "cell_type": "code",
   "execution_count": 17,
   "metadata": {
    "collapsed": false
   },
   "outputs": [
    {
     "data": {
      "text/plain": [
       "{'X0_ae',\n",
       " 'X0_ag',\n",
       " 'X0_an',\n",
       " 'X0_av',\n",
       " 'X0_bb',\n",
       " 'X0_p',\n",
       " 'X2_ab',\n",
       " 'X2_ad',\n",
       " 'X2_aj',\n",
       " 'X2_ax',\n",
       " 'X2_u',\n",
       " 'X2_w',\n",
       " 'X5_a',\n",
       " 'X5_b',\n",
       " 'X5_t',\n",
       " 'X5_z'}"
      ]
     },
     "execution_count": 17,
     "metadata": {},
     "output_type": "execute_result"
    }
   ],
   "source": [
    "set(munged_test_df) - set(munged_train_df)"
   ]
  },
  {
   "cell_type": "code",
   "execution_count": 18,
   "metadata": {
    "collapsed": true
   },
   "outputs": [],
   "source": [
    "#删除test中有的  而train中没有的\n",
    "munged_test_df.drop(['X0_ae', 'X0_ag', 'X0_an', 'X0_av', 'X0_bb', 'X0_p',\n",
    "                     'X2_ab', 'X2_ad', 'X2_aj', 'X2_ax', 'X2_u', 'X2_w', 'X5_a', 'X5_b', 'X5_t', 'X5_z'], axis=1, inplace=True)"
   ]
  },
  {
   "cell_type": "code",
   "execution_count": 19,
   "metadata": {
    "collapsed": false
   },
   "outputs": [
    {
     "data": {
      "text/plain": [
       "{'X0_aa',\n",
       " 'X0_ab',\n",
       " 'X0_ac',\n",
       " 'X0_q',\n",
       " 'X2_aa',\n",
       " 'X2_ar',\n",
       " 'X2_c',\n",
       " 'X2_l',\n",
       " 'X2_o',\n",
       " 'X5_u'}"
      ]
     },
     "execution_count": 19,
     "metadata": {},
     "output_type": "execute_result"
    }
   ],
   "source": [
    "set(munged_train_df) - set(munged_test_df)"
   ]
  },
  {
   "cell_type": "code",
   "execution_count": 20,
   "metadata": {
    "collapsed": true
   },
   "outputs": [],
   "source": [
    "#删除train中有的  而test中没有的\n",
    "munged_train_df.drop(['X0_aa', 'X0_ab', 'X0_ac', 'X0_q', 'X2_aa', 'X2_ar', 'X2_c', 'X2_l', 'X2_o', 'X5_u'], axis=1, inplace=True)"
   ]
  },
  {
   "cell_type": "code",
   "execution_count": 21,
   "metadata": {
    "collapsed": true
   },
   "outputs": [],
   "source": [
    "#删除一些占比非常不平衡的特征"
   ]
  },
  {
   "cell_type": "code",
   "execution_count": 22,
   "metadata": {
    "collapsed": false
   },
   "outputs": [
    {
     "data": {
      "text/plain": [
       "4153"
      ]
     },
     "execution_count": 22,
     "metadata": {},
     "output_type": "execute_result"
    }
   ],
   "source": [
    "munged_train_df['X10'].value_counts()[0]"
   ]
  },
  {
   "cell_type": "code",
   "execution_count": 23,
   "metadata": {
    "collapsed": false,
    "scrolled": true
   },
   "outputs": [
    {
     "name": "stdout",
     "output_type": "stream",
     "text": [
      "X10 p1 = 0.986695 p2 = 0.013305\n",
      "X15 p1 = 0.999525 p2 = 0.000475\n",
      "X16 p1 = 0.997387 p2 = 0.002613\n",
      "X17 p1 = 0.992397 p2 = 0.007603\n",
      "X18 p1 = 0.992160 p2 = 0.007840\n",
      "X21 p1 = 0.997387 p2 = 0.002613\n",
      "X23 p1 = 0.979330 p2 = 0.020670\n",
      "X24 p1 = 0.998099 p2 = 0.001901\n",
      "X26 p1 = 0.995011 p2 = 0.004989\n",
      "X28 p1 = 0.967451 p2 = 0.032549\n",
      "X29 p1 = 0.956997 p2 = 0.043003\n",
      "X30 p1 = 0.995486 p2 = 0.004514\n",
      "X32 p1 = 0.988833 p2 = 0.011167\n",
      "X33 p1 = 0.999762 p2 = 0.000238\n",
      "X34 p1 = 0.994536 p2 = 0.005464\n",
      "X36 p1 = 0.995486 p2 = 0.004514\n",
      "X38 p1 = 0.966738 p2 = 0.033262\n",
      "X39 p1 = 0.999762 p2 = 0.000238\n",
      "X40 p1 = 0.999287 p2 = 0.000713\n",
      "X41 p1 = 0.988596 p2 = 0.011404\n",
      "X42 p1 = 0.999762 p2 = 0.000238\n",
      "X44 p1 = 0.988596 p2 = 0.011404\n",
      "X47 p1 = 0.987170 p2 = 0.012830\n",
      "X48 p1 = 0.977667 p2 = 0.022333\n",
      "X52 p1 = 0.957710 p2 = 0.042290\n",
      "X53 p1 = 0.993110 p2 = 0.006890\n",
      "X54 p1 = 0.956522 p2 = 0.043478\n",
      "X55 p1 = 0.994773 p2 = 0.005227\n",
      "X56 p1 = 0.978855 p2 = 0.021145\n",
      "X57 p1 = 0.986695 p2 = 0.013305\n",
      "X59 p1 = 0.999287 p2 = 0.000713\n",
      "X60 p1 = 0.998574 p2 = 0.001426\n",
      "X61 p1 = 0.046092 p2 = 0.953908\n",
      "X62 p1 = 0.994060 p2 = 0.005940\n",
      "X63 p1 = 0.988596 p2 = 0.011404\n",
      "X65 p1 = 0.997862 p2 = 0.002138\n",
      "X66 p1 = 0.972915 p2 = 0.027085\n",
      "X67 p1 = 0.998099 p2 = 0.001901\n",
      "X69 p1 = 0.970064 p2 = 0.029936\n",
      "X73 p1 = 0.980043 p2 = 0.019957\n",
      "X74 p1 = 0.000713 p2 = 0.999287\n",
      "X75 p1 = 0.963887 p2 = 0.036113\n",
      "X76 p1 = 0.956522 p2 = 0.043478\n",
      "X77 p1 = 0.987408 p2 = 0.012592\n",
      "X78 p1 = 0.994298 p2 = 0.005702\n",
      "X79 p1 = 0.974816 p2 = 0.025184\n",
      "X82 p1 = 0.982894 p2 = 0.017106\n",
      "X83 p1 = 0.998812 p2 = 0.001188\n",
      "X86 p1 = 0.998574 p2 = 0.001426\n",
      "X87 p1 = 0.999050 p2 = 0.000950\n",
      "X88 p1 = 0.992872 p2 = 0.007128\n",
      "X89 p1 = 0.999287 p2 = 0.000713\n",
      "X90 p1 = 0.992635 p2 = 0.007365\n",
      "X91 p1 = 0.998337 p2 = 0.001663\n",
      "X92 p1 = 0.999050 p2 = 0.000950\n",
      "X94 p1 = 0.992635 p2 = 0.007365\n",
      "X95 p1 = 0.999762 p2 = 0.000238\n",
      "X97 p1 = 0.995723 p2 = 0.004277\n",
      "X99 p1 = 0.991447 p2 = 0.008553\n",
      "X102 p1 = 0.993110 p2 = 0.006890\n",
      "X104 p1 = 0.998099 p2 = 0.001901\n",
      "X105 p1 = 0.997624 p2 = 0.002376\n",
      "X106 p1 = 0.986933 p2 = 0.013067\n",
      "X108 p1 = 0.985270 p2 = 0.014730\n",
      "X109 p1 = 0.959610 p2 = 0.040390\n",
      "X110 p1 = 0.999050 p2 = 0.000950\n",
      "X111 p1 = 0.025184 p2 = 0.974816\n",
      "X112 p1 = 0.997149 p2 = 0.002851\n",
      "X113 p1 = 0.977667 p2 = 0.022333\n",
      "X117 p1 = 0.950820 p2 = 0.049180\n",
      "X120 p1 = 0.042290 p2 = 0.957710\n",
      "X122 p1 = 0.992872 p2 = 0.007128\n",
      "X123 p1 = 0.997387 p2 = 0.002613\n",
      "X124 p1 = 0.999525 p2 = 0.000475\n",
      "X125 p1 = 0.996911 p2 = 0.003089\n",
      "X126 p1 = 0.961036 p2 = 0.038964\n",
      "X128 p1 = 0.041578 p2 = 0.958422\n",
      "X130 p1 = 0.958422 p2 = 0.041578\n",
      "X131 p1 = 0.973390 p2 = 0.026610\n",
      "X134 p1 = 0.977667 p2 = 0.022333\n",
      "X135 p1 = 0.972915 p2 = 0.027085\n",
      "X136 p1 = 0.043478 p2 = 0.956522\n",
      "X138 p1 = 0.959135 p2 = 0.040865\n",
      "X140 p1 = 0.959610 p2 = 0.040390\n",
      "X141 p1 = 0.985745 p2 = 0.014255\n",
      "X143 p1 = 0.961749 p2 = 0.038251\n",
      "X145 p1 = 0.998574 p2 = 0.001426\n",
      "X146 p1 = 0.959135 p2 = 0.040865\n",
      "X147 p1 = 0.977667 p2 = 0.022333\n",
      "X148 p1 = 0.955096 p2 = 0.044904\n",
      "X152 p1 = 0.967688 p2 = 0.032312\n",
      "X153 p1 = 0.999287 p2 = 0.000713\n",
      "X159 p1 = 0.986458 p2 = 0.013542\n",
      "X160 p1 = 0.998812 p2 = 0.001188\n",
      "X162 p1 = 0.959135 p2 = 0.040865\n",
      "X165 p1 = 0.995486 p2 = 0.004514\n",
      "X166 p1 = 0.966738 p2 = 0.033262\n",
      "X167 p1 = 0.999050 p2 = 0.000950\n",
      "X169 p1 = 0.993348 p2 = 0.006652\n",
      "X170 p1 = 0.975766 p2 = 0.024234\n",
      "X172 p1 = 0.994060 p2 = 0.005940\n",
      "X173 p1 = 0.990259 p2 = 0.009741\n",
      "X174 p1 = 0.982656 p2 = 0.017344\n",
      "X175 p1 = 0.977667 p2 = 0.022333\n",
      "X176 p1 = 0.982894 p2 = 0.017106\n",
      "X179 p1 = 0.952008 p2 = 0.047992\n",
      "X183 p1 = 0.995961 p2 = 0.004039\n",
      "X184 p1 = 0.998574 p2 = 0.001426\n",
      "X185 p1 = 0.981231 p2 = 0.018769\n",
      "X190 p1 = 0.999762 p2 = 0.000238\n",
      "X192 p1 = 0.997624 p2 = 0.002376\n",
      "X195 p1 = 0.988358 p2 = 0.011642\n",
      "X196 p1 = 0.989784 p2 = 0.010216\n",
      "X197 p1 = 0.967688 p2 = 0.032312\n",
      "X198 p1 = 0.976954 p2 = 0.023046\n",
      "X199 p1 = 0.997149 p2 = 0.002851\n",
      "X200 p1 = 0.993348 p2 = 0.006652\n",
      "X203 p1 = 0.983131 p2 = 0.016869\n",
      "X204 p1 = 0.999762 p2 = 0.000238\n",
      "X205 p1 = 0.000238 p2 = 0.999762\n",
      "X206 p1 = 0.980756 p2 = 0.019244\n",
      "X207 p1 = 0.999762 p2 = 0.000238\n",
      "X210 p1 = 0.999762 p2 = 0.000238\n",
      "X211 p1 = 0.985032 p2 = 0.014968\n",
      "X212 p1 = 0.994536 p2 = 0.005464\n",
      "X213 p1 = 0.998099 p2 = 0.001901\n",
      "X214 p1 = 0.993110 p2 = 0.006890\n",
      "X216 p1 = 0.994060 p2 = 0.005940\n",
      "X217 p1 = 0.992635 p2 = 0.007365\n",
      "X221 p1 = 0.991922 p2 = 0.008078\n",
      "X222 p1 = 0.977667 p2 = 0.022333\n",
      "X226 p1 = 0.967688 p2 = 0.032312\n",
      "X227 p1 = 0.996911 p2 = 0.003089\n",
      "X228 p1 = 0.961036 p2 = 0.038964\n",
      "X229 p1 = 0.039914 p2 = 0.960086\n",
      "X230 p1 = 0.994773 p2 = 0.005227\n",
      "X231 p1 = 0.983844 p2 = 0.016156\n",
      "X232 p1 = 0.956997 p2 = 0.043003\n",
      "X236 p1 = 0.999525 p2 = 0.000475\n",
      "X237 p1 = 0.993348 p2 = 0.006652\n",
      "X239 p1 = 0.993110 p2 = 0.006890\n",
      "X240 p1 = 0.997149 p2 = 0.002851\n",
      "X242 p1 = 0.992635 p2 = 0.007365\n",
      "X243 p1 = 0.992872 p2 = 0.007128\n",
      "X245 p1 = 0.999287 p2 = 0.000713\n",
      "X248 p1 = 0.998574 p2 = 0.001426\n",
      "X249 p1 = 0.992397 p2 = 0.007603\n",
      "X252 p1 = 0.999287 p2 = 0.000713\n",
      "X253 p1 = 0.998574 p2 = 0.001426\n",
      "X254 p1 = 0.994773 p2 = 0.005227\n",
      "X255 p1 = 0.980518 p2 = 0.019482\n",
      "X257 p1 = 0.999762 p2 = 0.000238\n",
      "X258 p1 = 0.997624 p2 = 0.002376\n",
      "X259 p1 = 0.999762 p2 = 0.000238\n",
      "X260 p1 = 0.999762 p2 = 0.000238\n",
      "X262 p1 = 0.998574 p2 = 0.001426\n",
      "X263 p1 = 0.043003 p2 = 0.956997\n",
      "X264 p1 = 0.960561 p2 = 0.039439\n",
      "X266 p1 = 0.998574 p2 = 0.001426\n",
      "X267 p1 = 0.990972 p2 = 0.009028\n",
      "X269 p1 = 0.999525 p2 = 0.000475\n",
      "X270 p1 = 0.999762 p2 = 0.000238\n",
      "X271 p1 = 0.997862 p2 = 0.002138\n",
      "X272 p1 = 0.962461 p2 = 0.037539\n",
      "X274 p1 = 0.990021 p2 = 0.009979\n",
      "X276 p1 = 0.961511 p2 = 0.038489\n",
      "X277 p1 = 0.998574 p2 = 0.001426\n",
      "X278 p1 = 0.999525 p2 = 0.000475\n",
      "X279 p1 = 0.956997 p2 = 0.043003\n",
      "X280 p1 = 0.999762 p2 = 0.000238\n",
      "X281 p1 = 0.997387 p2 = 0.002613\n",
      "X282 p1 = 0.995961 p2 = 0.004039\n",
      "X284 p1 = 0.958898 p2 = 0.041102\n",
      "X287 p1 = 0.984082 p2 = 0.015918\n",
      "X288 p1 = 0.999762 p2 = 0.000238\n",
      "X291 p1 = 0.989546 p2 = 0.010454\n",
      "X292 p1 = 0.990972 p2 = 0.009028\n",
      "X295 p1 = 0.999762 p2 = 0.000238\n",
      "X296 p1 = 0.999762 p2 = 0.000238\n",
      "X298 p1 = 0.995486 p2 = 0.004514\n",
      "X299 p1 = 0.995486 p2 = 0.004514\n",
      "X301 p1 = 0.953196 p2 = 0.046804\n",
      "X302 p1 = 0.988596 p2 = 0.011404\n",
      "X305 p1 = 0.986695 p2 = 0.013305\n",
      "X306 p1 = 0.956284 p2 = 0.043716\n",
      "X307 p1 = 0.997862 p2 = 0.002138\n",
      "X308 p1 = 0.990497 p2 = 0.009503\n",
      "X309 p1 = 0.992872 p2 = 0.007128\n",
      "X310 p1 = 0.997387 p2 = 0.002613\n",
      "X312 p1 = 0.995723 p2 = 0.004277\n",
      "X315 p1 = 0.971252 p2 = 0.028748\n",
      "X317 p1 = 0.992397 p2 = 0.007603\n",
      "X318 p1 = 0.999287 p2 = 0.000713\n",
      "X319 p1 = 0.999525 p2 = 0.000475\n",
      "X320 p1 = 0.992872 p2 = 0.007128\n",
      "X322 p1 = 0.978142 p2 = 0.021858\n",
      "X323 p1 = 0.990734 p2 = 0.009266\n",
      "X325 p1 = 0.994298 p2 = 0.005702\n",
      "X326 p1 = 0.967688 p2 = 0.032312\n",
      "X328 p1 = 0.959848 p2 = 0.040152\n",
      "X332 p1 = 0.999287 p2 = 0.000713\n",
      "X333 p1 = 0.976004 p2 = 0.023996\n",
      "X335 p1 = 0.996436 p2 = 0.003564\n",
      "X338 p1 = 0.993110 p2 = 0.006890\n",
      "X339 p1 = 0.999762 p2 = 0.000238\n",
      "X340 p1 = 0.977667 p2 = 0.022333\n",
      "X341 p1 = 0.991922 p2 = 0.008078\n",
      "X342 p1 = 0.977667 p2 = 0.022333\n",
      "X344 p1 = 0.991447 p2 = 0.008553\n",
      "X345 p1 = 0.977667 p2 = 0.022333\n",
      "X346 p1 = 0.952483 p2 = 0.047517\n",
      "X349 p1 = 0.955096 p2 = 0.044904\n",
      "X353 p1 = 0.997862 p2 = 0.002138\n",
      "X357 p1 = 0.998812 p2 = 0.001188\n",
      "X359 p1 = 0.968163 p2 = 0.031837\n",
      "X361 p1 = 0.033975 p2 = 0.966025\n",
      "X364 p1 = 0.997149 p2 = 0.002851\n",
      "X365 p1 = 0.997149 p2 = 0.002851\n",
      "X366 p1 = 0.998812 p2 = 0.001188\n",
      "X369 p1 = 0.999525 p2 = 0.000475\n",
      "X370 p1 = 0.993348 p2 = 0.006652\n",
      "X371 p1 = 0.985745 p2 = 0.014255\n",
      "X372 p1 = 0.999525 p2 = 0.000475\n",
      "X373 p1 = 0.980756 p2 = 0.019244\n",
      "X378 p1 = 0.979330 p2 = 0.020670\n",
      "X379 p1 = 0.990497 p2 = 0.009503\n",
      "X380 p1 = 0.991922 p2 = 0.008078\n",
      "X382 p1 = 0.992397 p2 = 0.007603\n",
      "X383 p1 = 0.998337 p2 = 0.001663\n",
      "X384 p1 = 0.999525 p2 = 0.000475\n",
      "X385 p1 = 0.998574 p2 = 0.001426\n",
      "X0_a p1 = 0.995011 p2 = 0.004989\n",
      "X0_ad p1 = 0.996674 p2 = 0.003326\n",
      "X0_af p1 = 0.991684 p2 = 0.008316\n",
      "X0_ai p1 = 0.991922 p2 = 0.008078\n",
      "X0_aj p1 = 0.964124 p2 = 0.035876\n",
      "X0_al p1 = 0.984082 p2 = 0.015918\n",
      "X0_am p1 = 0.995723 p2 = 0.004277\n",
      "X0_ao p1 = 0.999050 p2 = 0.000950\n",
      "X0_ap p1 = 0.975529 p2 = 0.024471\n",
      "X0_aq p1 = 0.995723 p2 = 0.004277\n",
      "X0_as p1 = 0.997624 p2 = 0.002376\n",
      "X0_at p1 = 0.994060 p2 = 0.005940\n",
      "X0_au p1 = 0.997387 p2 = 0.002613\n",
      "X0_aw p1 = 0.996199 p2 = 0.003801\n",
      "X0_ax p1 = 0.995486 p2 = 0.004514\n",
      "X0_az p1 = 0.958422 p2 = 0.041578\n",
      "X0_b p1 = 0.997387 p2 = 0.002613\n",
      "X0_ba p1 = 0.993585 p2 = 0.006415\n",
      "X0_bc p1 = 0.998574 p2 = 0.001426\n",
      "X0_c p1 = 0.999287 p2 = 0.000713\n",
      "X0_d p1 = 0.982656 p2 = 0.017344\n",
      "X0_e p1 = 0.992397 p2 = 0.007603\n",
      "X0_g p1 = 0.999762 p2 = 0.000238\n",
      "X0_h p1 = 0.982181 p2 = 0.017819\n",
      "X0_i p1 = 0.995723 p2 = 0.004277\n",
      "X0_j p1 = 0.956997 p2 = 0.043003\n",
      "X0_k p1 = 0.997387 p2 = 0.002613\n",
      "X0_l p1 = 0.996199 p2 = 0.003801\n",
      "X0_m p1 = 0.991922 p2 = 0.008078\n",
      "X0_n p1 = 0.953671 p2 = 0.046329\n",
      "X0_r p1 = 0.997624 p2 = 0.002376\n",
      "X0_s p1 = 0.974816 p2 = 0.025184\n",
      "X0_u p1 = 0.995961 p2 = 0.004039\n",
      "X0_v p1 = 0.991447 p2 = 0.008553\n",
      "X0_w p1 = 0.956759 p2 = 0.043241\n",
      "X1_a p1 = 0.966025 p2 = 0.033975\n",
      "X1_ab p1 = 0.999287 p2 = 0.000713\n",
      "X1_c p1 = 0.971252 p2 = 0.028748\n",
      "X1_d p1 = 0.999287 p2 = 0.000713\n",
      "X1_e p1 = 0.992160 p2 = 0.007840\n",
      "X1_f p1 = 0.994536 p2 = 0.005464\n",
      "X1_g p1 = 0.998574 p2 = 0.001426\n",
      "X1_h p1 = 0.993110 p2 = 0.006890\n",
      "X1_i p1 = 0.951770 p2 = 0.048230\n",
      "X1_j p1 = 0.994773 p2 = 0.005227\n",
      "X1_k p1 = 0.995961 p2 = 0.004039\n",
      "X1_m p1 = 0.992397 p2 = 0.007603\n",
      "X1_n p1 = 0.995486 p2 = 0.004514\n",
      "X1_o p1 = 0.980518 p2 = 0.019482\n",
      "X1_p p1 = 0.997862 p2 = 0.002138\n",
      "X1_q p1 = 0.999287 p2 = 0.000713\n",
      "X1_t p1 = 0.992635 p2 = 0.007365\n",
      "X1_u p1 = 0.991209 p2 = 0.008791\n",
      "X1_w p1 = 0.987646 p2 = 0.012354\n",
      "X1_y p1 = 0.994536 p2 = 0.005464\n",
      "X1_z p1 = 0.989071 p2 = 0.010929\n",
      "X2_a p1 = 0.988833 p2 = 0.011167\n",
      "X2_ac p1 = 0.996911 p2 = 0.003089\n",
      "X2_af p1 = 0.999762 p2 = 0.000238\n",
      "X2_ag p1 = 0.995486 p2 = 0.004514\n",
      "X2_ah p1 = 0.999050 p2 = 0.000950\n",
      "X2_al p1 = 0.998812 p2 = 0.001188\n",
      "X2_am p1 = 0.999762 p2 = 0.000238\n",
      "X2_an p1 = 0.998812 p2 = 0.001188\n",
      "X2_ao p1 = 0.995248 p2 = 0.004752\n",
      "X2_ap p1 = 0.997387 p2 = 0.002613\n",
      "X2_aq p1 = 0.985032 p2 = 0.014968\n",
      "X2_at p1 = 0.998574 p2 = 0.001426\n",
      "X2_au p1 = 0.999287 p2 = 0.000713\n",
      "X2_av p1 = 0.999050 p2 = 0.000950\n",
      "X2_aw p1 = 0.998099 p2 = 0.001901\n",
      "X2_ay p1 = 0.987170 p2 = 0.012830\n",
      "X2_b p1 = 0.995011 p2 = 0.004989\n",
      "X2_d p1 = 0.995723 p2 = 0.004277\n",
      "X2_e p1 = 0.980756 p2 = 0.019244\n",
      "X2_f p1 = 0.979330 p2 = 0.020670\n",
      "X2_g p1 = 0.997149 p2 = 0.002851\n",
      "X2_h p1 = 0.998574 p2 = 0.001426\n",
      "X2_i p1 = 0.994060 p2 = 0.005940\n",
      "X2_j p1 = 0.999762 p2 = 0.000238\n",
      "X2_k p1 = 0.994060 p2 = 0.005940\n",
      "X2_n p1 = 0.967451 p2 = 0.032549\n",
      "X2_p p1 = 0.999050 p2 = 0.000950\n",
      "X2_q p1 = 0.998812 p2 = 0.001188\n",
      "X2_r p1 = 0.963649 p2 = 0.036351\n",
      "X2_s p1 = 0.977667 p2 = 0.022333\n",
      "X2_t p1 = 0.993110 p2 = 0.006890\n",
      "X2_x p1 = 0.997624 p2 = 0.002376\n",
      "X2_y p1 = 0.997387 p2 = 0.002613\n",
      "X2_z p1 = 0.995486 p2 = 0.004514\n",
      "X3_b p1 = 0.986458 p2 = 0.013542\n",
      "X3_e p1 = 0.961273 p2 = 0.038727\n",
      "X4_a p1 = 0.999525 p2 = 0.000475\n",
      "X4_b p1 = 0.999762 p2 = 0.000238\n",
      "X4_c p1 = 0.999762 p2 = 0.000238\n",
      "X4_d p1 = 0.000950 p2 = 0.999050\n",
      "X5_aa p1 = 0.973390 p2 = 0.026610\n",
      "X5_ab p1 = 0.953196 p2 = 0.046804\n",
      "X5_ac p1 = 0.952483 p2 = 0.047517\n",
      "X5_ad p1 = 0.956047 p2 = 0.043953\n",
      "X5_ae p1 = 0.951295 p2 = 0.048705\n",
      "X5_af p1 = 0.955334 p2 = 0.044666\n",
      "X5_ag p1 = 0.951532 p2 = 0.048468\n",
      "X5_ah p1 = 0.976954 p2 = 0.023046\n",
      "X5_c p1 = 0.968876 p2 = 0.031124\n",
      "X5_f p1 = 0.998337 p2 = 0.001663\n",
      "X5_g p1 = 0.999762 p2 = 0.000238\n",
      "X5_h p1 = 0.999762 p2 = 0.000238\n",
      "X5_i p1 = 0.950820 p2 = 0.049180\n",
      "X5_j p1 = 0.970302 p2 = 0.029698\n",
      "X5_k p1 = 0.957947 p2 = 0.042053\n",
      "X5_l p1 = 0.953671 p2 = 0.046329\n",
      "X5_m p1 = 0.950582 p2 = 0.049418\n",
      "X5_o p1 = 0.995248 p2 = 0.004752\n",
      "X5_p p1 = 0.950582 p2 = 0.049418\n",
      "X5_x p1 = 0.999525 p2 = 0.000475\n",
      "X5_y p1 = 0.999762 p2 = 0.000238\n",
      "X6_a p1 = 0.951057 p2 = 0.048943\n",
      "X6_b p1 = 0.993348 p2 = 0.006652\n",
      "X6_c p1 = 0.990972 p2 = 0.009028\n",
      "X6_e p1 = 0.997149 p2 = 0.002851\n",
      "X6_f p1 = 0.995248 p2 = 0.004752\n",
      "X6_h p1 = 0.954859 p2 = 0.045141\n",
      "X6_k p1 = 0.989784 p2 = 0.010216\n",
      "X8_a p1 = 0.950107 p2 = 0.049893\n",
      "X8_b p1 = 0.954859 p2 = 0.045141\n",
      "X8_c p1 = 0.976241 p2 = 0.023759\n",
      "X8_d p1 = 0.975529 p2 = 0.024471\n",
      "X8_g p1 = 0.969114 p2 = 0.030886\n",
      "X8_h p1 = 0.972202 p2 = 0.027798\n",
      "X8_k p1 = 0.958185 p2 = 0.041815\n",
      "X8_l p1 = 0.976004 p2 = 0.023996\n",
      "X8_m p1 = 0.963174 p2 = 0.036826\n",
      "X8_o p1 = 0.961273 p2 = 0.038727\n",
      "X8_p p1 = 0.976241 p2 = 0.023759\n",
      "X8_q p1 = 0.972202 p2 = 0.027798\n",
      "X8_t p1 = 0.971727 p2 = 0.028273\n",
      "X8_u p1 = 0.971727 p2 = 0.028273\n",
      "X8_v p1 = 0.953908 p2 = 0.046092\n",
      "X8_w p1 = 0.953433 p2 = 0.046567\n",
      "X8_x p1 = 0.975053 p2 = 0.024947\n",
      "X8_y p1 = 0.972440 p2 = 0.027560\n"
     ]
    }
   ],
   "source": [
    "s = munged_train_df.shape[0]\n",
    "drop_names = []\n",
    "for c in munged_train_df.drop(['parts'], axis=1).columns:\n",
    "    a = munged_train_df[c].value_counts()[0] / s\n",
    "    b = munged_train_df[c].value_counts()[1] / s\n",
    "    if (a < 0.05 or b < 0.05):\n",
    "        print('%s p1 = %f p2 = %f'%(c, a, b))\n",
    "        drop_names.append(c)"
   ]
  },
  {
   "cell_type": "code",
   "execution_count": 24,
   "metadata": {
    "collapsed": false
   },
   "outputs": [
    {
     "data": {
      "text/plain": [
       "373"
      ]
     },
     "execution_count": 24,
     "metadata": {},
     "output_type": "execute_result"
    }
   ],
   "source": [
    "len(drop_names)"
   ]
  },
  {
   "cell_type": "code",
   "execution_count": 25,
   "metadata": {
    "collapsed": false
   },
   "outputs": [],
   "source": [
    "munged_train_df.drop(drop_names, axis=1, inplace=True)\n",
    "munged_test_df.drop(drop_names, axis=1, inplace=True)"
   ]
  },
  {
   "cell_type": "code",
   "execution_count": 26,
   "metadata": {
    "collapsed": true
   },
   "outputs": [],
   "source": [
    "from sklearn.decomposition import PCA, FastICA"
   ]
  },
  {
   "cell_type": "code",
   "execution_count": 27,
   "metadata": {
    "collapsed": true
   },
   "outputs": [],
   "source": [
    "#PCA"
   ]
  },
  {
   "cell_type": "code",
   "execution_count": 28,
   "metadata": {
    "collapsed": false
   },
   "outputs": [],
   "source": [
    "n_comp = 10\n",
    "\n",
    "pca = PCA(n_components=n_comp, random_state=42)\n",
    "pca2_results_train = pca.fit_transform(munged_train_df)\n",
    "pca2_results_test = pca.transform(munged_test_df)"
   ]
  },
  {
   "cell_type": "code",
   "execution_count": 29,
   "metadata": {
    "collapsed": true
   },
   "outputs": [],
   "source": [
    "#ICA\n",
    "ica = FastICA(n_components=n_comp, random_state=42)\n",
    "ica2_results_train = ica.fit_transform(munged_train_df)\n",
    "ica2_results_test = ica.transform(munged_test_df)"
   ]
  },
  {
   "cell_type": "code",
   "execution_count": 30,
   "metadata": {
    "collapsed": false
   },
   "outputs": [],
   "source": [
    "# Append decomposition components to datasets\n",
    "for i in range(1, n_comp+1):\n",
    "    munged_train_df['pca_' + str(i)] = pca2_results_train[:,i-1]\n",
    "    munged_test_df['pca_' + str(i)] = pca2_results_test[:, i-1]\n",
    "    \n",
    "    munged_train_df['ica_' + str(i)] = ica2_results_train[:,i-1]\n",
    "    munged_test_df['ica_' + str(i)] = ica2_results_test[:, i-1]"
   ]
  },
  {
   "cell_type": "code",
   "execution_count": null,
   "metadata": {
    "collapsed": true
   },
   "outputs": [],
   "source": []
  },
  {
   "cell_type": "code",
   "execution_count": 31,
   "metadata": {
    "collapsed": false
   },
   "outputs": [],
   "source": [
    "munged_train_df.to_csv('../data/offline/train.csv')\n",
    "munged_test_df.to_csv('../data/offline/test.csv')\n",
    "label_df.to_csv('../data/offline/y_train.csv')"
   ]
  },
  {
   "cell_type": "code",
   "execution_count": null,
   "metadata": {
    "collapsed": true
   },
   "outputs": [],
   "source": []
  },
  {
   "cell_type": "code",
   "execution_count": null,
   "metadata": {
    "collapsed": true
   },
   "outputs": [],
   "source": []
  },
  {
   "cell_type": "code",
   "execution_count": null,
   "metadata": {
    "collapsed": true
   },
   "outputs": [],
   "source": []
  },
  {
   "cell_type": "code",
   "execution_count": 45,
   "metadata": {
    "collapsed": true
   },
   "outputs": [],
   "source": []
  },
  {
   "cell_type": "code",
   "execution_count": null,
   "metadata": {
    "collapsed": true
   },
   "outputs": [],
   "source": []
  },
  {
   "cell_type": "code",
   "execution_count": 46,
   "metadata": {
    "collapsed": true
   },
   "outputs": [],
   "source": [
    "def plot_learning_curve(estimator, title, X, y, ylim=None, cv=None,\n",
    "                        n_jobs=1, train_sizes=np.linspace(.1, 1.0, 5)):\n",
    "    \"\"\"\n",
    "    Generate a simple plot of the test and training learning curve.\n",
    "\n",
    "    Parameters\n",
    "    ----------\n",
    "    estimator : object type that implements the \"fit\" and \"predict\" methods\n",
    "        An object of that type which is cloned for each validation.\n",
    "\n",
    "    title : string\n",
    "        Title for the chart.\n",
    "\n",
    "    X : array-like, shape (n_samples, n_features)\n",
    "        Training vector, where n_samples is the number of samples and\n",
    "        n_features is the number of features.\n",
    "\n",
    "    y : array-like, shape (n_samples) or (n_samples, n_features), optional\n",
    "        Target relative to X for classification or regression;\n",
    "        None for unsupervised learning.\n",
    "\n",
    "    ylim : tuple, shape (ymin, ymax), optional\n",
    "        Defines minimum and maximum yvalues plotted.\n",
    "\n",
    "    cv : int, cross-validation generator or an iterable, optional\n",
    "        Determines the cross-validation splitting strategy.\n",
    "        Possible inputs for cv are:\n",
    "          - None, to use the default 3-fold cross-validation,\n",
    "          - integer, to specify the number of folds.\n",
    "          - An object to be used as a cross-validation generator.\n",
    "          - An iterable yielding train/test splits.\n",
    "\n",
    "        For integer/None inputs, if ``y`` is binary or multiclass,\n",
    "        :class:`StratifiedKFold` used. If the estimator is not a classifier\n",
    "        or if ``y`` is neither binary nor multiclass, :class:`KFold` is used.\n",
    "\n",
    "        Refer :ref:`User Guide <cross_validation>` for the various\n",
    "        cross-validators that can be used here.\n",
    "\n",
    "    n_jobs : integer, optional\n",
    "        Number of jobs to run in parallel (default 1).\n",
    "    \"\"\"\n",
    "    plt.figure()\n",
    "    plt.title(title)\n",
    "    if ylim is not None:\n",
    "        plt.ylim(*ylim)\n",
    "    plt.xlabel(\"Training examples\")\n",
    "    plt.ylabel(\"Score\")\n",
    "    train_sizes, train_scores, test_scores = learning_curve(\n",
    "        estimator, X, y, cv=cv, n_jobs=n_jobs, train_sizes=train_sizes)\n",
    "    train_scores_mean = np.mean(train_scores, axis=1)\n",
    "    train_scores_std = np.std(train_scores, axis=1)\n",
    "    test_scores_mean = np.mean(test_scores, axis=1)\n",
    "    test_scores_std = np.std(test_scores, axis=1)\n",
    "    plt.grid()\n",
    "\n",
    "    plt.fill_between(train_sizes, train_scores_mean - train_scores_std,\n",
    "                     train_scores_mean + train_scores_std, alpha=0.1,\n",
    "                     color=\"r\")\n",
    "    plt.fill_between(train_sizes, test_scores_mean - test_scores_std,\n",
    "                     test_scores_mean + test_scores_std, alpha=0.1, color=\"g\")\n",
    "    plt.plot(train_sizes, train_scores_mean, 'o-', color=\"r\",\n",
    "             label=\"Training score\")\n",
    "    plt.plot(train_sizes, test_scores_mean, 'o-', color=\"g\",\n",
    "             label=\"Cross-validation score\")\n",
    "\n",
    "    plt.legend(loc=\"best\")\n",
    "    return plt"
   ]
  },
  {
   "cell_type": "code",
   "execution_count": 47,
   "metadata": {
    "collapsed": true
   },
   "outputs": [],
   "source": [
    "def modelfit(alg, feature_names, X_train, y_train, X_test, y_test, useTrainCV=True, cv_folds=5, early_stopping_rounds=50):\n",
    "    if useTrainCV:\n",
    "        xgb_param = alg.get_xgb_params()\n",
    "        xgtrain = xgb.DMatrix(X_train, label=y_train)\n",
    "        cvresult = xgb.cv(xgb_param, xgtrain, num_boost_round=alg.get_params()['n_estimators'], nfold=cv_folds,\n",
    "            metrics='rmse', early_stopping_rounds=early_stopping_rounds)\n",
    "        alg.set_params(n_estimators=cvresult.shape[0])\n",
    "\n",
    "    #Fit the algorithm on the data\n",
    "    alg.fit(X_train, y_train)\n",
    "\n",
    "    #Predict training set:\n",
    "    y_predictions = alg.predict(X_test)\n",
    "#     dtrain_predprob = alg.predict_proba(y_test)\n",
    "\n",
    "    #Print model report:\n",
    "    print(\"\\nModel Report\")\n",
    "    print(\"RMSE : %.4g\" % metrics.mean_squared_error(y_test, y_predictions))\n",
    "    #print(\"AUC Score (Train): %f\" % metrics.roc_auc_score(dtrain['Disbursed'], dtrain_predprob))\n",
    "\n",
    "    feat_imp = pd.Series(alg.booster().get_fscore()).sort_values(ascending=False)\n",
    "    feat_imp = feat_imp.rename(lambda x: feature_names[int(x[1:len(x)])])\n",
    "    \n",
    "    feat_imp.plot(kind='barh', title='Feature Importances',figsize=(7, 16))\n",
    "    plt.ylabel('Feature Importance Score')"
   ]
  },
  {
   "cell_type": "code",
   "execution_count": 48,
   "metadata": {
    "collapsed": true
   },
   "outputs": [],
   "source": [
    "def ModelParamSearch(xgb, params, X_train, y_train):\n",
    "    search = GridSearchCV(estimator=xgb, param_grid=params, n_jobs=4, iid=False, cv=5)\n",
    "    search.fit(X_train, y_train)\n",
    "    print('\\ngrid_scores')\n",
    "    for score in search.grid_scores_:\n",
    "        print(score)\n",
    "    print('\\nbest_params')\n",
    "    print(search.best_params_)\n",
    "    print('\\nbest_score')\n",
    "    print(search.best_score_)\n",
    "    return search"
   ]
  },
  {
   "cell_type": "code",
   "execution_count": 49,
   "metadata": {
    "collapsed": false
   },
   "outputs": [
    {
     "name": "stdout",
     "output_type": "stream",
     "text": [
      "\n",
      "grid_scores\n",
      "mean: 0.63236, std: 0.02830, params: {'min_child_weight': 1, 'max_depth': 3}\n",
      "mean: 0.63283, std: 0.02815, params: {'min_child_weight': 2, 'max_depth': 3}\n",
      "mean: 0.63376, std: 0.03011, params: {'min_child_weight': 3, 'max_depth': 3}\n",
      "mean: 0.63394, std: 0.02881, params: {'min_child_weight': 4, 'max_depth': 3}\n",
      "mean: 0.63539, std: 0.03031, params: {'min_child_weight': 5, 'max_depth': 3}\n",
      "mean: 0.62739, std: 0.03049, params: {'min_child_weight': 1, 'max_depth': 4}\n",
      "mean: 0.62823, std: 0.02963, params: {'min_child_weight': 2, 'max_depth': 4}\n",
      "mean: 0.63081, std: 0.02900, params: {'min_child_weight': 3, 'max_depth': 4}\n",
      "mean: 0.63020, std: 0.03016, params: {'min_child_weight': 4, 'max_depth': 4}\n",
      "mean: 0.63164, std: 0.03068, params: {'min_child_weight': 5, 'max_depth': 4}\n",
      "mean: 0.62150, std: 0.02654, params: {'min_child_weight': 1, 'max_depth': 5}\n",
      "mean: 0.62029, std: 0.02536, params: {'min_child_weight': 2, 'max_depth': 5}\n",
      "mean: 0.61927, std: 0.02950, params: {'min_child_weight': 3, 'max_depth': 5}\n",
      "mean: 0.62026, std: 0.02719, params: {'min_child_weight': 4, 'max_depth': 5}\n",
      "mean: 0.62520, std: 0.03204, params: {'min_child_weight': 5, 'max_depth': 5}\n",
      "\n",
      "best_params\n",
      "{'min_child_weight': 5, 'max_depth': 3}\n",
      "\n",
      "best_score\n",
      "0.6353850783928838\n"
     ]
    }
   ],
   "source": [
    "xgb_model = xgb.XGBRegressor(max_depth=2, learning_rate=0.1, n_estimators=100,\\\n",
    "                             silent=False, objective='reg:linear', subsample=0.8,\\\n",
    "                             colsample_bytree=0.75, gamma=0, min_child_weight = 6,\\\n",
    "                             scale_pos_weight=1, seed=27)\n",
    "\n",
    "params1 = {\n",
    " 'max_depth':np.array(range(3, 6, 1)),\n",
    " 'min_child_weight':np.array(range(1,6, 1)),\n",
    "}\n",
    "\n",
    "search1 = ModelParamSearch(xgb_model, params1, X_train, y_train)"
   ]
  },
  {
   "cell_type": "code",
   "execution_count": 51,
   "metadata": {
    "collapsed": false,
    "scrolled": true
   },
   "outputs": [
    {
     "name": "stdout",
     "output_type": "stream",
     "text": [
      "\n",
      "grid_scores\n",
      "mean: 0.62739, std: 0.02856, params: {'subsample': 0.5, 'colsample_bytree': 0.5}\n",
      "mean: 0.63243, std: 0.02958, params: {'subsample': 0.55, 'colsample_bytree': 0.5}\n",
      "mean: 0.63026, std: 0.02627, params: {'subsample': 0.6, 'colsample_bytree': 0.5}\n",
      "mean: 0.63127, std: 0.02678, params: {'subsample': 0.65, 'colsample_bytree': 0.5}\n",
      "mean: 0.63266, std: 0.02885, params: {'subsample': 0.7, 'colsample_bytree': 0.5}\n",
      "mean: 0.63125, std: 0.02808, params: {'subsample': 0.75, 'colsample_bytree': 0.5}\n",
      "mean: 0.63394, std: 0.02911, params: {'subsample': 0.8, 'colsample_bytree': 0.5}\n",
      "mean: 0.63513, std: 0.03226, params: {'subsample': 0.85, 'colsample_bytree': 0.5}\n",
      "mean: 0.62925, std: 0.03003, params: {'subsample': 0.5, 'colsample_bytree': 0.55}\n",
      "mean: 0.63195, std: 0.03029, params: {'subsample': 0.55, 'colsample_bytree': 0.55}\n",
      "mean: 0.62982, std: 0.02469, params: {'subsample': 0.6, 'colsample_bytree': 0.55}\n",
      "mean: 0.63106, std: 0.02893, params: {'subsample': 0.65, 'colsample_bytree': 0.55}\n",
      "mean: 0.63137, std: 0.02929, params: {'subsample': 0.7, 'colsample_bytree': 0.55}\n",
      "mean: 0.63071, std: 0.02869, params: {'subsample': 0.75, 'colsample_bytree': 0.55}\n",
      "mean: 0.63524, std: 0.02939, params: {'subsample': 0.8, 'colsample_bytree': 0.55}\n",
      "mean: 0.63639, std: 0.03070, params: {'subsample': 0.85, 'colsample_bytree': 0.55}\n",
      "mean: 0.63086, std: 0.02777, params: {'subsample': 0.5, 'colsample_bytree': 0.6}\n",
      "mean: 0.63171, std: 0.03013, params: {'subsample': 0.55, 'colsample_bytree': 0.6}\n",
      "mean: 0.63354, std: 0.02669, params: {'subsample': 0.6, 'colsample_bytree': 0.6}\n",
      "mean: 0.63223, std: 0.02586, params: {'subsample': 0.65, 'colsample_bytree': 0.6}\n",
      "mean: 0.63390, std: 0.02541, params: {'subsample': 0.7, 'colsample_bytree': 0.6}\n",
      "mean: 0.63351, std: 0.02839, params: {'subsample': 0.75, 'colsample_bytree': 0.6}\n",
      "mean: 0.63461, std: 0.02745, params: {'subsample': 0.8, 'colsample_bytree': 0.6}\n",
      "mean: 0.63602, std: 0.03052, params: {'subsample': 0.85, 'colsample_bytree': 0.6}\n",
      "mean: 0.63055, std: 0.02730, params: {'subsample': 0.5, 'colsample_bytree': 0.65}\n",
      "mean: 0.63022, std: 0.03027, params: {'subsample': 0.55, 'colsample_bytree': 0.65}\n",
      "mean: 0.63118, std: 0.03136, params: {'subsample': 0.6, 'colsample_bytree': 0.65}\n",
      "mean: 0.63165, std: 0.02617, params: {'subsample': 0.65, 'colsample_bytree': 0.65}\n",
      "mean: 0.63660, std: 0.02857, params: {'subsample': 0.7, 'colsample_bytree': 0.65}\n",
      "mean: 0.63528, std: 0.03019, params: {'subsample': 0.75, 'colsample_bytree': 0.65}\n",
      "mean: 0.63478, std: 0.03203, params: {'subsample': 0.8, 'colsample_bytree': 0.65}\n",
      "mean: 0.63536, std: 0.03167, params: {'subsample': 0.85, 'colsample_bytree': 0.65}\n",
      "mean: 0.62826, std: 0.02804, params: {'subsample': 0.5, 'colsample_bytree': 0.7}\n",
      "mean: 0.62948, std: 0.03097, params: {'subsample': 0.55, 'colsample_bytree': 0.7}\n",
      "mean: 0.63245, std: 0.02863, params: {'subsample': 0.6, 'colsample_bytree': 0.7}\n",
      "mean: 0.63315, std: 0.02899, params: {'subsample': 0.65, 'colsample_bytree': 0.7}\n",
      "mean: 0.63629, std: 0.03060, params: {'subsample': 0.7, 'colsample_bytree': 0.7}\n",
      "mean: 0.63473, std: 0.03026, params: {'subsample': 0.75, 'colsample_bytree': 0.7}\n",
      "mean: 0.63377, std: 0.03084, params: {'subsample': 0.8, 'colsample_bytree': 0.7}\n",
      "mean: 0.63684, std: 0.02862, params: {'subsample': 0.85, 'colsample_bytree': 0.7}\n",
      "mean: 0.62993, std: 0.03016, params: {'subsample': 0.5, 'colsample_bytree': 0.75}\n",
      "mean: 0.63180, std: 0.03049, params: {'subsample': 0.55, 'colsample_bytree': 0.75}\n",
      "mean: 0.63064, std: 0.02763, params: {'subsample': 0.6, 'colsample_bytree': 0.75}\n",
      "mean: 0.63338, std: 0.03011, params: {'subsample': 0.65, 'colsample_bytree': 0.75}\n",
      "mean: 0.63536, std: 0.02862, params: {'subsample': 0.7, 'colsample_bytree': 0.75}\n",
      "mean: 0.63559, std: 0.03182, params: {'subsample': 0.75, 'colsample_bytree': 0.75}\n",
      "mean: 0.63539, std: 0.03031, params: {'subsample': 0.8, 'colsample_bytree': 0.75}\n",
      "mean: 0.63904, std: 0.02920, params: {'subsample': 0.85, 'colsample_bytree': 0.75}\n",
      "mean: 0.63029, std: 0.02706, params: {'subsample': 0.5, 'colsample_bytree': 0.8}\n",
      "mean: 0.63196, std: 0.03079, params: {'subsample': 0.55, 'colsample_bytree': 0.8}\n",
      "mean: 0.63026, std: 0.02947, params: {'subsample': 0.6, 'colsample_bytree': 0.8}\n",
      "mean: 0.63337, std: 0.02979, params: {'subsample': 0.65, 'colsample_bytree': 0.8}\n",
      "mean: 0.63432, std: 0.02761, params: {'subsample': 0.7, 'colsample_bytree': 0.8}\n",
      "mean: 0.63120, std: 0.02800, params: {'subsample': 0.75, 'colsample_bytree': 0.8}\n",
      "mean: 0.63544, std: 0.03021, params: {'subsample': 0.8, 'colsample_bytree': 0.8}\n",
      "mean: 0.64027, std: 0.03093, params: {'subsample': 0.85, 'colsample_bytree': 0.8}\n",
      "mean: 0.62874, std: 0.02560, params: {'subsample': 0.5, 'colsample_bytree': 0.85}\n",
      "mean: 0.63126, std: 0.03100, params: {'subsample': 0.55, 'colsample_bytree': 0.85}\n",
      "mean: 0.62984, std: 0.02917, params: {'subsample': 0.6, 'colsample_bytree': 0.85}\n",
      "mean: 0.63322, std: 0.02956, params: {'subsample': 0.65, 'colsample_bytree': 0.85}\n",
      "mean: 0.63369, std: 0.02851, params: {'subsample': 0.7, 'colsample_bytree': 0.85}\n",
      "mean: 0.63542, std: 0.02871, params: {'subsample': 0.75, 'colsample_bytree': 0.85}\n",
      "mean: 0.63561, std: 0.02881, params: {'subsample': 0.8, 'colsample_bytree': 0.85}\n",
      "mean: 0.63938, std: 0.03109, params: {'subsample': 0.85, 'colsample_bytree': 0.85}\n",
      "\n",
      "best_params\n",
      "{'subsample': 0.85, 'colsample_bytree': 0.8}\n",
      "\n",
      "best_score\n",
      "0.6402731665511813\n"
     ]
    }
   ],
   "source": [
    "xgb_model = xgb.XGBRegressor(max_depth=3, learning_rate=0.1, n_estimators=100,\\\n",
    "                             silent=False, objective='reg:linear', subsample=0.8,\\\n",
    "                             colsample_bytree=0.75, gamma=0, min_child_weight = 5,\\\n",
    "                             scale_pos_weight=1, seed=27)\n",
    "\n",
    "params2 = {\n",
    " 'subsample':[i/100.0 for i in range(50, 90, 5)],\n",
    " 'colsample_bytree':[i/100.0 for i in range(50, 90, 5)]\n",
    "}\n",
    "\n",
    "search2 = ModelParamSearch(xgb_model, params2, X_train, y_train)"
   ]
  },
  {
   "cell_type": "code",
   "execution_count": 54,
   "metadata": {
    "collapsed": false
   },
   "outputs": [
    {
     "name": "stdout",
     "output_type": "stream",
     "text": [
      "\n",
      "grid_scores\n",
      "mean: -163.28237, std: 13.77925, params: {'learning_rate': 0.01, 'n_estimators': 100}\n",
      "mean: 0.63871, std: 0.02933, params: {'learning_rate': 0.01, 'n_estimators': 1000}\n",
      "mean: 0.62039, std: 0.03020, params: {'learning_rate': 0.01, 'n_estimators': 3000}\n",
      "mean: -2.15770, std: 0.13825, params: {'learning_rate': 0.03, 'n_estimators': 100}\n",
      "mean: 0.61970, std: 0.03006, params: {'learning_rate': 0.03, 'n_estimators': 1000}\n",
      "mean: 0.57926, std: 0.02264, params: {'learning_rate': 0.03, 'n_estimators': 3000}\n",
      "mean: 0.59756, std: 0.04145, params: {'learning_rate': 0.05, 'n_estimators': 100}\n",
      "mean: 0.60160, std: 0.02977, params: {'learning_rate': 0.05, 'n_estimators': 1000}\n",
      "mean: 0.55400, std: 0.02297, params: {'learning_rate': 0.05, 'n_estimators': 3000}\n",
      "\n",
      "best_params\n",
      "{'learning_rate': 0.01, 'n_estimators': 1000}\n",
      "\n",
      "best_score\n",
      "0.6387061470047611\n"
     ]
    }
   ],
   "source": [
    "xgb_model = xgb.XGBRegressor(max_depth=3, learning_rate=0.1, n_estimators=100,\\\n",
    "                             silent=False, objective='reg:linear', subsample=0.85,\\\n",
    "                             colsample_bytree=0.8, gamma=0, min_child_weight = 5,\\\n",
    "                             scale_pos_weight=1, seed=27)\n",
    "\n",
    "params3 = {\n",
    " 'learning_rate':[0.01, 0.03, 0.05],\n",
    " 'n_estimators':[100, 1000, 3000],\n",
    "}\n",
    "\n",
    "search3 = ModelParamSearch(xgb_model, params3, X_train, y_train)"
   ]
  },
  {
   "cell_type": "code",
   "execution_count": 55,
   "metadata": {
    "collapsed": false
   },
   "outputs": [
    {
     "name": "stdout",
     "output_type": "stream",
     "text": [
      "\n",
      "grid_scores\n",
      "mean: 0.64027, std: 0.03093, params: {'reg_alpha': 1e-05}\n",
      "mean: 0.63981, std: 0.03060, params: {'reg_alpha': 0.01}\n",
      "mean: 0.63928, std: 0.03134, params: {'reg_alpha': 0.1}\n",
      "mean: 0.63922, std: 0.02877, params: {'reg_alpha': 1}\n",
      "mean: -0.28445, std: 0.07618, params: {'reg_alpha': 100}\n",
      "\n",
      "best_params\n",
      "{'reg_alpha': 1e-05}\n",
      "\n",
      "best_score\n",
      "0.6402732273341691\n"
     ]
    }
   ],
   "source": [
    "xgb_model = xgb.XGBRegressor(max_depth=3, learning_rate=0.1, n_estimators=100,\\\n",
    "                             silent=False, objective='reg:linear', subsample=0.85,\\\n",
    "                             colsample_bytree=0.8, gamma=0, min_child_weight = 5,\\\n",
    "                             scale_pos_weight=1, seed=27)\n",
    "\n",
    "param4 = {\n",
    " 'reg_alpha':[1e-5, 1e-2, 0.1, 1, 100]\n",
    "}\n",
    "\n",
    "search4 = ModelParamSearch(xgb_model, param4, X_train, y_train)"
   ]
  },
  {
   "cell_type": "code",
   "execution_count": 56,
   "metadata": {
    "collapsed": false
   },
   "outputs": [
    {
     "data": {
      "image/png": "[encoded data removed]",
      "text/plain": [
       "<matplotlib.figure.Figure at 0x23594819550>"
      ]
     },
     "metadata": {},
     "output_type": "display_data"
    }
   ],
   "source": [
    "#gamma=0, min_child_weight=1, max_delta_step=0, subsample=1, colsample_bytree=1, colsample_bylevel=1, reg_alpha=0, reg_lambda=1, scale_pos_weight=1, base_score=0.5, seed=0, missing=Nonemax_depth=3, learning_rate=0.1, n_estimators=100, silent=True, objective='reg:linear', booster='gbtree', nthread=-1, gamma=0, min_child_weight=1, max_delta_step=0, subsample=1, colsample_bytree=1, colsample_bylevel=1, reg_alpha=0, reg_lambda=1, scale_pos_weight=1, base_score=0.5, seed=0, missing=None\n",
    "regr = xgb.XGBRegressor(max_depth=3, learning_rate=0.1, n_estimators=100,\\\n",
    "                        silent=False, objective='reg:linear', subsample=0.85,\\\n",
    "                        colsample_bytree=0.7, gamma=0, min_child_weight = 5,\\\n",
    "                        scale_pos_weight=1, seed=27, reg_alpha=1e-05)\n",
    "\n",
    "plot_learning_curve(regr, 'gbdt', X_train, y_train, cv=5)\n",
    "plt.show()"
   ]
  },
  {
   "cell_type": "code",
   "execution_count": 57,
   "metadata": {
    "collapsed": false
   },
   "outputs": [
    {
     "data": {
      "text/plain": [
       "0.59088722316855979"
      ]
     },
     "execution_count": 57,
     "metadata": {},
     "output_type": "execute_result"
    }
   ],
   "source": [
    "regr.fit(X_train, y_train)\n",
    "regr.score(X_test, y_test)"
   ]
  },
  {
   "cell_type": "code",
   "execution_count": 58,
   "metadata": {
    "collapsed": false
   },
   "outputs": [],
   "source": [
    "regr.fit(munged_train_df.values, label_df.values)\n",
    "\n",
    "# Run prediction on training set to get a rough idea of how well it does.\n",
    "# y_pred = regr.predict(munged_train_df.values)\n",
    "# y_test = label_df\n",
    "# print(\"XGBoost score on training set: \", rmse(y_test, y_pred))\n",
    "\n",
    "# Run prediction on the Kaggle test set.\n",
    "y_pred_xgb = regr.predict(munged_test_df.values)"
   ]
  },
  {
   "cell_type": "code",
   "execution_count": null,
   "metadata": {
    "collapsed": true
   },
   "outputs": [],
   "source": []
  },
  {
   "cell_type": "code",
   "execution_count": 41,
   "metadata": {
    "collapsed": false
   },
   "outputs": [],
   "source": [
    "from sklearn.linear_model import Lasso\n",
    "\n",
    "# I found this best alpha through cross-validation.\n",
    "best_alpha = 0.00099\n",
    "\n",
    "regr = Lasso(alpha=best_alpha, max_iter=50000)\n",
    "regr.fit(munged_train_df, label_df)\n",
    "\n",
    "# Run prediction on training set to get a rough idea of how well it does.\n",
    "y_pred = regr.predict(munged_train_df)\n",
    "y_test = label_df\n",
    "#print(\"Lasso score on training set: \", rmse(y_test, y_pred))\n",
    "\n",
    "# Run prediction on the Kaggle test set.\n",
    "y_pred_lasso = regr.predict(munged_test_df)"
   ]
  },
  {
   "cell_type": "code",
   "execution_count": null,
   "metadata": {
    "collapsed": true
   },
   "outputs": [],
   "source": []
  },
  {
   "cell_type": "code",
   "execution_count": 59,
   "metadata": {
    "collapsed": false
   },
   "outputs": [],
   "source": [
    "#y_pred = (y_pred_xgb + y_pred_lasso) / 2\n",
    "y_pred = y_pred_xgb\n",
    "y_pred = np.expm1(y_pred)\n",
    "\n",
    "pred_df = pd.DataFrame(y_pred, index=test_df.index, columns=[\"y\"])\n",
    "pred_df.to_csv('output.csv', header=True, index_label='Id')"
   ]
  },
  {
   "cell_type": "code",
   "execution_count": null,
   "metadata": {
    "collapsed": true
   },
   "outputs": [],
   "source": []
  }
 ],
 "metadata": {
  "anaconda-cloud": {},
  "kernelspec": {
   "display_name": "Python [conda root]",
   "language": "python",
   "name": "conda-root-py"
  },
  "language_info": {
   "codemirror_mode": {
    "name": "ipython",
    "version": 3
   },
   "file_extension": ".py",
   "mimetype": "text/x-python",
   "name": "python",
   "nbconvert_exporter": "python",
   "pygments_lexer": "ipython3",
   "version": "3.5.2"
  }
 },
 "nbformat": 4,
 "nbformat_minor": 1
}
