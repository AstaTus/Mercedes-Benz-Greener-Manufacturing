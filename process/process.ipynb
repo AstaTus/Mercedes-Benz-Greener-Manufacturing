{
 "cells": [
  {
   "cell_type": "code",
   "execution_count": 1,
   "metadata": {
    "collapsed": false
   },
   "outputs": [
    {
     "name": "stderr",
     "output_type": "stream",
     "text": [
      "D:\\DevelopKit\\Anaconda3\\lib\\site-packages\\sklearn\\cross_validation.py:44: DeprecationWarning: This module was deprecated in version 0.18 in favor of the model_selection module into which all the refactored classes and functions are moved. Also note that the interface of the new CV iterators are different from that of this module. This module will be removed in 0.20.\n",
      "  \"This module will be removed in 0.20.\", DeprecationWarning)\n",
      "D:\\DevelopKit\\Anaconda3\\lib\\site-packages\\sklearn\\grid_search.py:43: DeprecationWarning: This module was deprecated in version 0.18 in favor of the model_selection module into which all the refactored classes and functions are moved. This module will be removed in 0.20.\n",
      "  DeprecationWarning)\n"
     ]
    }
   ],
   "source": [
    "import pandas as pd\n",
    "import numpy as np\n",
    "from scipy.stats import skew\n",
    "\n",
    "import matplotlib.pyplot as plt\n",
    "\n",
    "from sklearn.ensemble import GradientBoostingRegressor\n",
    "from sklearn.ensemble import RandomForestRegressor\n",
    "from sklearn.model_selection import train_test_split\n",
    "from sklearn.metrics import classification_report\n",
    "from sklearn.model_selection import validation_curve\n",
    "from sklearn.model_selection import learning_curve\n",
    "from sklearn import metrics\n",
    "from sklearn.metrics import fbeta_score, make_scorer\n",
    "from sklearn.grid_search import GridSearchCV\n",
    "from sklearn.decomposition import TruncatedSVD\n",
    "from sklearn.random_projection import GaussianRandomProjection\n",
    "from sklearn.random_projection import SparseRandomProjection"
   ]
  },
  {
   "cell_type": "code",
   "execution_count": 2,
   "metadata": {
    "collapsed": true
   },
   "outputs": [],
   "source": [
    "train_df = pd.read_csv('../data/original/train.csv', index_col=0)\n",
    "test_df = pd.read_csv('../data/original/test.csv', index_col=0)"
   ]
  },
  {
   "cell_type": "code",
   "execution_count": 8,
   "metadata": {
    "collapsed": false
   },
   "outputs": [
    {
     "data": {
      "text/plain": [
       "(4209, 376)"
      ]
     },
     "execution_count": 8,
     "metadata": {},
     "output_type": "execute_result"
    }
   ],
   "source": [
    "test_df.shape"
   ]
  },
  {
   "cell_type": "code",
   "execution_count": 9,
   "metadata": {
    "collapsed": false
   },
   "outputs": [
    {
     "data": {
      "text/plain": [
       "(4200, 376)"
      ]
     },
     "execution_count": 9,
     "metadata": {},
     "output_type": "execute_result"
    }
   ],
   "source": [
    "train_df.shape"
   ]
  },
  {
   "cell_type": "code",
   "execution_count": 5,
   "metadata": {
    "collapsed": false
   },
   "outputs": [],
   "source": [
    "label_df = pd.DataFrame(train_df['y'])"
   ]
  },
  {
   "cell_type": "code",
   "execution_count": 6,
   "metadata": {
    "collapsed": false
   },
   "outputs": [],
   "source": [
    "#训练集中剔除异常值\n",
    "train_df.drop([681, 2396, 2903, 6273,# y>160\n",
    "              2581, 2584, 2585, 2586,#X4_Trans<2.5\n",
    "              1770], inplace=True)#y>250\n"
   ]
  },
  {
   "cell_type": "code",
   "execution_count": 40,
   "metadata": {
    "collapsed": true
   },
   "outputs": [],
   "source": [
    "label_df.drop([681, 2396, 2903, 6273,# y>160\n",
    "              2581, 2584, 2585, 2586,#X4_Trans<2.5\n",
    "              1770], inplace=True)#y>250"
   ]
  },
  {
   "cell_type": "code",
   "execution_count": 7,
   "metadata": {
    "collapsed": false
   },
   "outputs": [],
   "source": [
    "train_df.drop(['y'], axis=1, inplace=True)"
   ]
  },
  {
   "cell_type": "code",
   "execution_count": 10,
   "metadata": {
    "collapsed": false
   },
   "outputs": [],
   "source": [
    "def munge(df):\n",
    "    all_df = pd.DataFrame(df.values, index=df.index, columns=df.columns, copy=True)\n",
    "    all_df.drop(['X0', 'X1', 'X2', 'X3', 'X4', 'X5', 'X6', 'X8'], axis=1, inplace=True)\n",
    "    \n",
    "    \n",
    "    #删除取值相同的特征\n",
    "    all_df.drop(['X11', 'X93', 'X107', 'X233', 'X235', 'X268', 'X289', 'X290' ,'X293' ,'X297', 'X330' ,'X347'], axis=1, inplace=True)\n",
    "    \n",
    "    #构造新特征\n",
    "    all_df['parts'] = all_df.sum(axis=1)\n",
    "    return all_df"
   ]
  },
  {
   "cell_type": "code",
   "execution_count": 11,
   "metadata": {
    "collapsed": false
   },
   "outputs": [],
   "source": [
    "munged_train_df = munge(train_df)\n",
    "munged_test_df = munge(test_df)"
   ]
  },
  {
   "cell_type": "code",
   "execution_count": null,
   "metadata": {
    "collapsed": true
   },
   "outputs": [],
   "source": []
  },
  {
   "cell_type": "code",
   "execution_count": 14,
   "metadata": {
    "collapsed": false
   },
   "outputs": [
    {
     "name": "stderr",
     "output_type": "stream",
     "text": [
      "D:\\DevelopKit\\Anaconda3\\lib\\site-packages\\sklearn\\preprocessing\\data.py:586: DeprecationWarning: Passing 1d arrays as data is deprecated in 0.17 and will raise ValueError in 0.19. Reshape your data either using X.reshape(-1, 1) if your data has a single feature or X.reshape(1, -1) if it contains a single sample.\n",
      "  warnings.warn(DEPRECATION_MSG_1D, DeprecationWarning)\n",
      "D:\\DevelopKit\\Anaconda3\\lib\\site-packages\\sklearn\\preprocessing\\data.py:649: DeprecationWarning: Passing 1d arrays as data is deprecated in 0.17 and will raise ValueError in 0.19. Reshape your data either using X.reshape(-1, 1) if your data has a single feature or X.reshape(1, -1) if it contains a single sample.\n",
      "  warnings.warn(DEPRECATION_MSG_1D, DeprecationWarning)\n",
      "D:\\DevelopKit\\Anaconda3\\lib\\site-packages\\sklearn\\preprocessing\\data.py:649: DeprecationWarning: Passing 1d arrays as data is deprecated in 0.17 and will raise ValueError in 0.19. Reshape your data either using X.reshape(-1, 1) if your data has a single feature or X.reshape(1, -1) if it contains a single sample.\n",
      "  warnings.warn(DEPRECATION_MSG_1D, DeprecationWarning)\n"
     ]
    }
   ],
   "source": [
    "from sklearn.preprocessing import StandardScaler\n",
    "scaler = StandardScaler()\n",
    "\n",
    "scaler.fit(munged_train_df['parts'])\n",
    "\n",
    "scaled = scaler.transform(munged_train_df['parts'])\n",
    "munged_train_df['parts'] = scaled\n",
    "\n",
    "scaled = scaler.transform(munged_test_df['parts'])\n",
    "munged_test_df['parts'] = scaled"
   ]
  },
  {
   "cell_type": "code",
   "execution_count": 15,
   "metadata": {
    "collapsed": true
   },
   "outputs": [],
   "source": [
    "# Convert categorical features using one-hot encoding.\n",
    "def onehot(onehot_df, df, column_name, fill_na):\n",
    "    onehot_df[column_name] = df[column_name]\n",
    "    if fill_na is not None:\n",
    "        onehot_df[column_name].fillna(fill_na, inplace=True)\n",
    "\n",
    "    dummies = pd.get_dummies(onehot_df[column_name], prefix = column_name)\n",
    "    \n",
    "    onehot_df = onehot_df.join(dummies)\n",
    "    onehot_df = onehot_df.drop([column_name], axis=1)\n",
    "    return onehot_df\n",
    "\n",
    "def munge_onehot(df):\n",
    "    onehot_df = pd.DataFrame(index = df.index)\n",
    "\n",
    "    onehot_df = onehot(onehot_df, df, \"X0\", None)\n",
    "    onehot_df = onehot(onehot_df, df, \"X1\", None)\n",
    "    onehot_df = onehot(onehot_df, df, \"X2\", None)\n",
    "    onehot_df = onehot(onehot_df, df, \"X3\", None)\n",
    "    onehot_df = onehot(onehot_df, df, \"X4\", None)\n",
    "    onehot_df = onehot(onehot_df, df, \"X5\", None)\n",
    "    onehot_df = onehot(onehot_df, df, \"X6\", None)\n",
    "    onehot_df = onehot(onehot_df, df, \"X8\", None)\n",
    "    \n",
    "    return onehot_df"
   ]
  },
  {
   "cell_type": "code",
   "execution_count": 16,
   "metadata": {
    "collapsed": false
   },
   "outputs": [],
   "source": [
    "onehot_df = munge_onehot(train_df)\n",
    "munged_train_df = munged_train_df.join(onehot_df)"
   ]
  },
  {
   "cell_type": "code",
   "execution_count": 17,
   "metadata": {
    "collapsed": true
   },
   "outputs": [],
   "source": [
    "onehot_df = munge_onehot(test_df)\n",
    "munged_test_df = munged_test_df.join(onehot_df)"
   ]
  },
  {
   "cell_type": "code",
   "execution_count": 18,
   "metadata": {
    "collapsed": false
   },
   "outputs": [
    {
     "data": {
      "text/plain": [
       "(4209, 558)"
      ]
     },
     "execution_count": 18,
     "metadata": {},
     "output_type": "execute_result"
    }
   ],
   "source": [
    "munged_test_df.shape"
   ]
  },
  {
   "cell_type": "code",
   "execution_count": 19,
   "metadata": {
    "collapsed": false
   },
   "outputs": [
    {
     "data": {
      "text/plain": [
       "(4200, 549)"
      ]
     },
     "execution_count": 19,
     "metadata": {},
     "output_type": "execute_result"
    }
   ],
   "source": [
    "munged_train_df.shape"
   ]
  },
  {
   "cell_type": "code",
   "execution_count": 21,
   "metadata": {
    "collapsed": false
   },
   "outputs": [],
   "source": [
    "only_test_cols = set(munged_test_df) - set(munged_train_df)"
   ]
  },
  {
   "cell_type": "code",
   "execution_count": 23,
   "metadata": {
    "collapsed": false
   },
   "outputs": [
    {
     "data": {
      "text/plain": [
       "['X0_av',\n",
       " 'X2_u',\n",
       " 'X4_a',\n",
       " 'X0_an',\n",
       " 'X2_ax',\n",
       " 'X2_ab',\n",
       " 'X5_a',\n",
       " 'X0_ae',\n",
       " 'X0_p',\n",
       " 'X0_bb',\n",
       " 'X5_b',\n",
       " 'X0_ag',\n",
       " 'X2_aj',\n",
       " 'X2_ad',\n",
       " 'X5_z',\n",
       " 'X5_t',\n",
       " 'X2_w',\n",
       " 'X4_c',\n",
       " 'X4_b']"
      ]
     },
     "execution_count": 23,
     "metadata": {},
     "output_type": "execute_result"
    }
   ],
   "source": []
  },
  {
   "cell_type": "code",
   "execution_count": 24,
   "metadata": {
    "collapsed": true
   },
   "outputs": [],
   "source": [
    "#删除test中有的  而train中没有的\n",
    "munged_test_df.drop(list(only_test_cols), axis=1, inplace=True)"
   ]
  },
  {
   "cell_type": "code",
   "execution_count": 25,
   "metadata": {
    "collapsed": false
   },
   "outputs": [],
   "source": [
    "only_train_cols = set(munged_train_df) - set(munged_test_df)"
   ]
  },
  {
   "cell_type": "code",
   "execution_count": 26,
   "metadata": {
    "collapsed": true
   },
   "outputs": [],
   "source": [
    "#删除train中有的  而test中没有的\n",
    "munged_train_df.drop(list(only_train_cols), axis=1, inplace=True)"
   ]
  },
  {
   "cell_type": "code",
   "execution_count": 17,
   "metadata": {
    "collapsed": true
   },
   "outputs": [],
   "source": [
    "#删除一些占比非常不平衡的特征"
   ]
  },
  {
   "cell_type": "code",
   "execution_count": 27,
   "metadata": {
    "collapsed": false
   },
   "outputs": [
    {
     "data": {
      "text/plain": [
       "4144"
      ]
     },
     "execution_count": 27,
     "metadata": {},
     "output_type": "execute_result"
    }
   ],
   "source": [
    "munged_train_df['X10'].value_counts()[0]"
   ]
  },
  {
   "cell_type": "code",
   "execution_count": 28,
   "metadata": {
    "collapsed": false
   },
   "outputs": [
    {
     "name": "stdout",
     "output_type": "stream",
     "text": [
      "X15 p1 = 0.999524 p2 = 0.000476\n",
      "X16 p1 = 0.997619 p2 = 0.002381\n",
      "X17 p1 = 0.992381 p2 = 0.007619\n",
      "X18 p1 = 0.992143 p2 = 0.007857\n",
      "X21 p1 = 0.997381 p2 = 0.002619\n",
      "X24 p1 = 0.998095 p2 = 0.001905\n",
      "X26 p1 = 0.995000 p2 = 0.005000\n",
      "X30 p1 = 0.995476 p2 = 0.004524\n",
      "X33 p1 = 0.999762 p2 = 0.000238\n",
      "X34 p1 = 0.994524 p2 = 0.005476\n",
      "X36 p1 = 0.995476 p2 = 0.004524\n",
      "X39 p1 = 0.999762 p2 = 0.000238\n",
      "X40 p1 = 0.999286 p2 = 0.000714\n",
      "X42 p1 = 0.999762 p2 = 0.000238\n",
      "X53 p1 = 0.993095 p2 = 0.006905\n",
      "X55 p1 = 0.994762 p2 = 0.005238\n",
      "X59 p1 = 0.999286 p2 = 0.000714\n",
      "X60 p1 = 0.998571 p2 = 0.001429\n",
      "X62 p1 = 0.994048 p2 = 0.005952\n",
      "X65 p1 = 0.997857 p2 = 0.002143\n",
      "X67 p1 = 0.998095 p2 = 0.001905\n",
      "X74 p1 = 0.000714 p2 = 0.999286\n",
      "X78 p1 = 0.994286 p2 = 0.005714\n",
      "X83 p1 = 0.998810 p2 = 0.001190\n",
      "X86 p1 = 0.998571 p2 = 0.001429\n",
      "X87 p1 = 0.999048 p2 = 0.000952\n",
      "X88 p1 = 0.992857 p2 = 0.007143\n",
      "X89 p1 = 0.999286 p2 = 0.000714\n",
      "X90 p1 = 0.992619 p2 = 0.007381\n",
      "X91 p1 = 0.998333 p2 = 0.001667\n",
      "X92 p1 = 0.999048 p2 = 0.000952\n",
      "X94 p1 = 0.992619 p2 = 0.007381\n",
      "X95 p1 = 0.999762 p2 = 0.000238\n",
      "X97 p1 = 0.995714 p2 = 0.004286\n",
      "X99 p1 = 0.991429 p2 = 0.008571\n",
      "X102 p1 = 0.993095 p2 = 0.006905\n",
      "X104 p1 = 0.998095 p2 = 0.001905\n",
      "X105 p1 = 0.997619 p2 = 0.002381\n",
      "X110 p1 = 0.999048 p2 = 0.000952\n",
      "X112 p1 = 0.997143 p2 = 0.002857\n",
      "X122 p1 = 0.992857 p2 = 0.007143\n",
      "X123 p1 = 0.997381 p2 = 0.002619\n",
      "X124 p1 = 0.999524 p2 = 0.000476\n",
      "X125 p1 = 0.996905 p2 = 0.003095\n",
      "X145 p1 = 0.998571 p2 = 0.001429\n",
      "X153 p1 = 0.999286 p2 = 0.000714\n",
      "X160 p1 = 0.998810 p2 = 0.001190\n",
      "X165 p1 = 0.995476 p2 = 0.004524\n",
      "X167 p1 = 0.999048 p2 = 0.000952\n",
      "X169 p1 = 0.993571 p2 = 0.006429\n",
      "X172 p1 = 0.994048 p2 = 0.005952\n",
      "X173 p1 = 0.990238 p2 = 0.009762\n",
      "X183 p1 = 0.995952 p2 = 0.004048\n",
      "X184 p1 = 0.998571 p2 = 0.001429\n",
      "X190 p1 = 0.999762 p2 = 0.000238\n",
      "X192 p1 = 0.997619 p2 = 0.002381\n",
      "X196 p1 = 0.989762 p2 = 0.010238\n",
      "X199 p1 = 0.997143 p2 = 0.002857\n",
      "X200 p1 = 0.993333 p2 = 0.006667\n",
      "X204 p1 = 0.999762 p2 = 0.000238\n",
      "X205 p1 = 0.000238 p2 = 0.999762\n",
      "X207 p1 = 0.999762 p2 = 0.000238\n",
      "X210 p1 = 0.999762 p2 = 0.000238\n",
      "X212 p1 = 0.994524 p2 = 0.005476\n",
      "X213 p1 = 0.998095 p2 = 0.001905\n",
      "X214 p1 = 0.993095 p2 = 0.006905\n",
      "X216 p1 = 0.994048 p2 = 0.005952\n",
      "X217 p1 = 0.992619 p2 = 0.007381\n",
      "X221 p1 = 0.991905 p2 = 0.008095\n",
      "X227 p1 = 0.996905 p2 = 0.003095\n",
      "X230 p1 = 0.994762 p2 = 0.005238\n",
      "X236 p1 = 0.999762 p2 = 0.000238\n",
      "X237 p1 = 0.993333 p2 = 0.006667\n",
      "X239 p1 = 0.993095 p2 = 0.006905\n",
      "X240 p1 = 0.997143 p2 = 0.002857\n",
      "X242 p1 = 0.992619 p2 = 0.007381\n",
      "X243 p1 = 0.992857 p2 = 0.007143\n",
      "X245 p1 = 0.999286 p2 = 0.000714\n",
      "X248 p1 = 0.998571 p2 = 0.001429\n",
      "X249 p1 = 0.992381 p2 = 0.007619\n",
      "X252 p1 = 0.999286 p2 = 0.000714\n",
      "X253 p1 = 0.998571 p2 = 0.001429\n",
      "X254 p1 = 0.994762 p2 = 0.005238\n",
      "X257 p1 = 0.999762 p2 = 0.000238\n",
      "X258 p1 = 0.997619 p2 = 0.002381\n",
      "X259 p1 = 0.999762 p2 = 0.000238\n",
      "X260 p1 = 0.999762 p2 = 0.000238\n",
      "X262 p1 = 0.998571 p2 = 0.001429\n",
      "X266 p1 = 0.998571 p2 = 0.001429\n",
      "X267 p1 = 0.990952 p2 = 0.009048\n",
      "X269 p1 = 0.999524 p2 = 0.000476\n",
      "X270 p1 = 0.999762 p2 = 0.000238\n",
      "X271 p1 = 0.997857 p2 = 0.002143\n",
      "X274 p1 = 0.990000 p2 = 0.010000\n",
      "X277 p1 = 0.998571 p2 = 0.001429\n",
      "X278 p1 = 0.999524 p2 = 0.000476\n",
      "X280 p1 = 0.999762 p2 = 0.000238\n",
      "X281 p1 = 0.997381 p2 = 0.002619\n",
      "X282 p1 = 0.995952 p2 = 0.004048\n",
      "X288 p1 = 0.999762 p2 = 0.000238\n",
      "X291 p1 = 0.989524 p2 = 0.010476\n",
      "X292 p1 = 0.991190 p2 = 0.008810\n",
      "X295 p1 = 0.999762 p2 = 0.000238\n",
      "X296 p1 = 0.999762 p2 = 0.000238\n",
      "X298 p1 = 0.995476 p2 = 0.004524\n",
      "X299 p1 = 0.995476 p2 = 0.004524\n",
      "X307 p1 = 0.997857 p2 = 0.002143\n",
      "X308 p1 = 0.990476 p2 = 0.009524\n",
      "X309 p1 = 0.992857 p2 = 0.007143\n",
      "X310 p1 = 0.997381 p2 = 0.002619\n",
      "X312 p1 = 0.995714 p2 = 0.004286\n",
      "X317 p1 = 0.992381 p2 = 0.007619\n",
      "X318 p1 = 0.999286 p2 = 0.000714\n",
      "X319 p1 = 0.999524 p2 = 0.000476\n",
      "X320 p1 = 0.992857 p2 = 0.007143\n",
      "X323 p1 = 0.990714 p2 = 0.009286\n",
      "X325 p1 = 0.994286 p2 = 0.005714\n",
      "X332 p1 = 0.999286 p2 = 0.000714\n",
      "X335 p1 = 0.996429 p2 = 0.003571\n",
      "X338 p1 = 0.993095 p2 = 0.006905\n"
     ]
    },
    {
     "ename": "KeyError",
     "evalue": "1",
     "output_type": "error",
     "traceback": [
      "\u001b[0;31m---------------------------------------------------------------------------\u001b[0m",
      "\u001b[0;31mKeyError\u001b[0m                                  Traceback (most recent call last)",
      "\u001b[0;32m<ipython-input-28-bd04bc3d38f9>\u001b[0m in \u001b[0;36m<module>\u001b[0;34m()\u001b[0m\n\u001b[1;32m      3\u001b[0m \u001b[1;32mfor\u001b[0m \u001b[0mc\u001b[0m \u001b[1;32min\u001b[0m \u001b[0mmunged_train_df\u001b[0m\u001b[1;33m.\u001b[0m\u001b[0mdrop\u001b[0m\u001b[1;33m(\u001b[0m\u001b[1;33m[\u001b[0m\u001b[1;34m'parts'\u001b[0m\u001b[1;33m]\u001b[0m\u001b[1;33m,\u001b[0m \u001b[0maxis\u001b[0m\u001b[1;33m=\u001b[0m\u001b[1;36m1\u001b[0m\u001b[1;33m)\u001b[0m\u001b[1;33m.\u001b[0m\u001b[0mcolumns\u001b[0m\u001b[1;33m:\u001b[0m\u001b[1;33m\u001b[0m\u001b[0m\n\u001b[1;32m      4\u001b[0m     \u001b[0ma\u001b[0m \u001b[1;33m=\u001b[0m \u001b[0mmunged_train_df\u001b[0m\u001b[1;33m[\u001b[0m\u001b[0mc\u001b[0m\u001b[1;33m]\u001b[0m\u001b[1;33m.\u001b[0m\u001b[0mvalue_counts\u001b[0m\u001b[1;33m(\u001b[0m\u001b[1;33m)\u001b[0m\u001b[1;33m[\u001b[0m\u001b[1;36m0\u001b[0m\u001b[1;33m]\u001b[0m \u001b[1;33m/\u001b[0m \u001b[0ms\u001b[0m\u001b[1;33m\u001b[0m\u001b[0m\n\u001b[0;32m----> 5\u001b[0;31m     \u001b[0mb\u001b[0m \u001b[1;33m=\u001b[0m \u001b[0mmunged_train_df\u001b[0m\u001b[1;33m[\u001b[0m\u001b[0mc\u001b[0m\u001b[1;33m]\u001b[0m\u001b[1;33m.\u001b[0m\u001b[0mvalue_counts\u001b[0m\u001b[1;33m(\u001b[0m\u001b[1;33m)\u001b[0m\u001b[1;33m[\u001b[0m\u001b[1;36m1\u001b[0m\u001b[1;33m]\u001b[0m \u001b[1;33m/\u001b[0m \u001b[0ms\u001b[0m\u001b[1;33m\u001b[0m\u001b[0m\n\u001b[0m\u001b[1;32m      6\u001b[0m     \u001b[1;32mif\u001b[0m \u001b[1;33m(\u001b[0m\u001b[0ma\u001b[0m \u001b[1;33m<\u001b[0m \u001b[1;36m0.011\u001b[0m \u001b[1;32mor\u001b[0m \u001b[0mb\u001b[0m \u001b[1;33m<\u001b[0m \u001b[1;36m0.011\u001b[0m\u001b[1;33m)\u001b[0m\u001b[1;33m:\u001b[0m\u001b[1;33m\u001b[0m\u001b[0m\n\u001b[1;32m      7\u001b[0m         \u001b[0mprint\u001b[0m\u001b[1;33m(\u001b[0m\u001b[1;34m'%s p1 = %f p2 = %f'\u001b[0m\u001b[1;33m%\u001b[0m\u001b[1;33m(\u001b[0m\u001b[0mc\u001b[0m\u001b[1;33m,\u001b[0m \u001b[0ma\u001b[0m\u001b[1;33m,\u001b[0m \u001b[0mb\u001b[0m\u001b[1;33m)\u001b[0m\u001b[1;33m)\u001b[0m\u001b[1;33m\u001b[0m\u001b[0m\n",
      "\u001b[0;32mD:\\DevelopKit\\Anaconda3\\lib\\site-packages\\pandas\\core\\series.py\u001b[0m in \u001b[0;36m__getitem__\u001b[0;34m(self, key)\u001b[0m\n\u001b[1;32m    599\u001b[0m         \u001b[0mkey\u001b[0m \u001b[1;33m=\u001b[0m \u001b[0mcom\u001b[0m\u001b[1;33m.\u001b[0m\u001b[0m_apply_if_callable\u001b[0m\u001b[1;33m(\u001b[0m\u001b[0mkey\u001b[0m\u001b[1;33m,\u001b[0m \u001b[0mself\u001b[0m\u001b[1;33m)\u001b[0m\u001b[1;33m\u001b[0m\u001b[0m\n\u001b[1;32m    600\u001b[0m         \u001b[1;32mtry\u001b[0m\u001b[1;33m:\u001b[0m\u001b[1;33m\u001b[0m\u001b[0m\n\u001b[0;32m--> 601\u001b[0;31m             \u001b[0mresult\u001b[0m \u001b[1;33m=\u001b[0m \u001b[0mself\u001b[0m\u001b[1;33m.\u001b[0m\u001b[0mindex\u001b[0m\u001b[1;33m.\u001b[0m\u001b[0mget_value\u001b[0m\u001b[1;33m(\u001b[0m\u001b[0mself\u001b[0m\u001b[1;33m,\u001b[0m \u001b[0mkey\u001b[0m\u001b[1;33m)\u001b[0m\u001b[1;33m\u001b[0m\u001b[0m\n\u001b[0m\u001b[1;32m    602\u001b[0m \u001b[1;33m\u001b[0m\u001b[0m\n\u001b[1;32m    603\u001b[0m             \u001b[1;32mif\u001b[0m \u001b[1;32mnot\u001b[0m \u001b[0mis_scalar\u001b[0m\u001b[1;33m(\u001b[0m\u001b[0mresult\u001b[0m\u001b[1;33m)\u001b[0m\u001b[1;33m:\u001b[0m\u001b[1;33m\u001b[0m\u001b[0m\n",
      "\u001b[0;32mD:\\DevelopKit\\Anaconda3\\lib\\site-packages\\pandas\\core\\indexes\\base.py\u001b[0m in \u001b[0;36mget_value\u001b[0;34m(self, series, key)\u001b[0m\n\u001b[1;32m   2426\u001b[0m         \u001b[1;32mtry\u001b[0m\u001b[1;33m:\u001b[0m\u001b[1;33m\u001b[0m\u001b[0m\n\u001b[1;32m   2427\u001b[0m             return self._engine.get_value(s, k,\n\u001b[0;32m-> 2428\u001b[0;31m                                           tz=getattr(series.dtype, 'tz', None))\n\u001b[0m\u001b[1;32m   2429\u001b[0m         \u001b[1;32mexcept\u001b[0m \u001b[0mKeyError\u001b[0m \u001b[1;32mas\u001b[0m \u001b[0me1\u001b[0m\u001b[1;33m:\u001b[0m\u001b[1;33m\u001b[0m\u001b[0m\n\u001b[1;32m   2430\u001b[0m             \u001b[1;32mif\u001b[0m \u001b[0mlen\u001b[0m\u001b[1;33m(\u001b[0m\u001b[0mself\u001b[0m\u001b[1;33m)\u001b[0m \u001b[1;33m>\u001b[0m \u001b[1;36m0\u001b[0m \u001b[1;32mand\u001b[0m \u001b[0mself\u001b[0m\u001b[1;33m.\u001b[0m\u001b[0minferred_type\u001b[0m \u001b[1;32min\u001b[0m \u001b[1;33m[\u001b[0m\u001b[1;34m'integer'\u001b[0m\u001b[1;33m,\u001b[0m \u001b[1;34m'boolean'\u001b[0m\u001b[1;33m]\u001b[0m\u001b[1;33m:\u001b[0m\u001b[1;33m\u001b[0m\u001b[0m\n",
      "\u001b[0;32mpandas\\_libs\\index.pyx\u001b[0m in \u001b[0;36mpandas._libs.index.IndexEngine.get_value (pandas\\_libs\\index.c:4363)\u001b[0;34m()\u001b[0m\n",
      "\u001b[0;32mpandas\\_libs\\index.pyx\u001b[0m in \u001b[0;36mpandas._libs.index.IndexEngine.get_value (pandas\\_libs\\index.c:4046)\u001b[0;34m()\u001b[0m\n",
      "\u001b[0;32mpandas\\_libs\\index.pyx\u001b[0m in \u001b[0;36mpandas._libs.index.IndexEngine.get_loc (pandas\\_libs\\index.c:5085)\u001b[0;34m()\u001b[0m\n",
      "\u001b[0;32mpandas\\_libs\\hashtable_class_helper.pxi\u001b[0m in \u001b[0;36mpandas._libs.hashtable.Int64HashTable.get_item (pandas\\_libs\\hashtable.c:13913)\u001b[0;34m()\u001b[0m\n",
      "\u001b[0;32mpandas\\_libs\\hashtable_class_helper.pxi\u001b[0m in \u001b[0;36mpandas._libs.hashtable.Int64HashTable.get_item (pandas\\_libs\\hashtable.c:13857)\u001b[0;34m()\u001b[0m\n",
      "\u001b[0;31mKeyError\u001b[0m: 1"
     ]
    }
   ],
   "source": [
    "s = munged_train_df.shape[0]\n",
    "drop_names = []\n",
    "for c in munged_train_df.drop(['parts'], axis=1).columns:\n",
    "    a = munged_train_df[c].value_counts()[0] / s\n",
    "    b = munged_train_df[c].value_counts()[1] / s\n",
    "    if (a < 0.011 or b < 0.011):\n",
    "        print('%s p1 = %f p2 = %f'%(c, a, b))\n",
    "        drop_names.append(c)"
   ]
  },
  {
   "cell_type": "code",
   "execution_count": 29,
   "metadata": {
    "collapsed": false
   },
   "outputs": [
    {
     "data": {
      "text/plain": [
       "120"
      ]
     },
     "execution_count": 29,
     "metadata": {},
     "output_type": "execute_result"
    }
   ],
   "source": [
    "len(drop_names)"
   ]
  },
  {
   "cell_type": "code",
   "execution_count": 30,
   "metadata": {
    "collapsed": false
   },
   "outputs": [],
   "source": [
    "munged_train_df.drop(drop_names, axis=1, inplace=True)\n",
    "munged_test_df.drop(drop_names, axis=1, inplace=True)"
   ]
  },
  {
   "cell_type": "code",
   "execution_count": 31,
   "metadata": {
    "collapsed": false
   },
   "outputs": [
    {
     "data": {
      "text/plain": [
       "(4200, 419)"
      ]
     },
     "execution_count": 31,
     "metadata": {},
     "output_type": "execute_result"
    }
   ],
   "source": [
    "munged_train_df.shape\n"
   ]
  },
  {
   "cell_type": "code",
   "execution_count": 32,
   "metadata": {
    "collapsed": false
   },
   "outputs": [
    {
     "data": {
      "text/plain": [
       "(4209, 419)"
      ]
     },
     "execution_count": 32,
     "metadata": {},
     "output_type": "execute_result"
    }
   ],
   "source": [
    "munged_test_df.shape"
   ]
  },
  {
   "cell_type": "code",
   "execution_count": 33,
   "metadata": {
    "collapsed": true
   },
   "outputs": [],
   "source": [
    "from sklearn.decomposition import PCA, FastICA"
   ]
  },
  {
   "cell_type": "code",
   "execution_count": 34,
   "metadata": {
    "collapsed": false
   },
   "outputs": [],
   "source": [
    "#PCA\n",
    "\n",
    "pca_n_comp = 7\n",
    "pca = PCA(n_components=pca_n_comp, random_state=420)\n",
    "pca2_results_train = pca.fit_transform(munged_train_df)\n",
    "pca2_results_test = pca.transform(munged_test_df)"
   ]
  },
  {
   "cell_type": "code",
   "execution_count": 35,
   "metadata": {
    "collapsed": false
   },
   "outputs": [],
   "source": [
    "#ICA\n",
    "\n",
    "ica_n_comp = 10\n",
    "ica = FastICA(n_components=ica_n_comp, random_state=420)\n",
    "ica2_results_train = ica.fit_transform(munged_train_df)\n",
    "ica2_results_test = ica.transform(munged_test_df)"
   ]
  },
  {
   "cell_type": "code",
   "execution_count": 36,
   "metadata": {
    "collapsed": false
   },
   "outputs": [],
   "source": [
    "# GRP\n",
    "\n",
    "grp_n_comp = 6\n",
    "grp = GaussianRandomProjection(n_components=grp_n_comp, eps=0.1, random_state=420)\n",
    "grp_results_train = grp.fit_transform(munged_train_df)\n",
    "grp_results_test = grp.transform(munged_test_df)\n",
    "\n",
    "# SRP\n",
    "\n",
    "srp_n_comp = 5\n",
    "srp = SparseRandomProjection(n_components=srp_n_comp, dense_output=True, random_state=420)\n",
    "srp_results_train = srp.fit_transform(munged_train_df)\n",
    "srp_results_test = srp.transform(munged_test_df)"
   ]
  },
  {
   "cell_type": "code",
   "execution_count": 37,
   "metadata": {
    "collapsed": false
   },
   "outputs": [],
   "source": [
    "# tSVD\n",
    "\n",
    "tsvd_n_comp = 11\n",
    "tsvd = TruncatedSVD(n_components=tsvd_n_comp, random_state=420)\n",
    "tsvd_results_train = tsvd.fit_transform(munged_train_df)\n",
    "tsvd_results_test = tsvd.transform(munged_test_df)"
   ]
  },
  {
   "cell_type": "code",
   "execution_count": 38,
   "metadata": {
    "collapsed": false
   },
   "outputs": [],
   "source": [
    "# Append decomposition components to datasets\n",
    "for i in range(1, pca_n_comp+1):\n",
    "    munged_train_df['pca_' + str(i)] = pca2_results_train[:,i-1]\n",
    "    munged_test_df['pca_' + str(i)] = pca2_results_test[:, i-1]\n",
    "for i in range(1, ica_n_comp+1):\n",
    "    munged_train_df['ica_' + str(i)] = ica2_results_train[:,i-1]\n",
    "    munged_test_df['ica_' + str(i)] = ica2_results_test[:, i-1]\n",
    "for i in range(1, grp_n_comp+1):\n",
    "    munged_train_df['grp_' + str(i)] = grp_results_train[:,i-1]\n",
    "    munged_test_df['grp_' + str(i)] = grp_results_test[:, i-1]\n",
    "for i in range(1, srp_n_comp+1):\n",
    "    munged_train_df['srp_' + str(i)] = srp_results_train[:,i-1]\n",
    "    munged_test_df['srp_' + str(i)] = srp_results_test[:, i-1]\n",
    "for i in range(1, tsvd_n_comp+1):\n",
    "    munged_train_df['tsvd_' + str(i)] = tsvd_results_train[:,i-1]\n",
    "    munged_test_df['tsvd_' + str(i)] = tsvd_results_test[:, i-1]\n"
   ]
  },
  {
   "cell_type": "code",
   "execution_count": null,
   "metadata": {
    "collapsed": true
   },
   "outputs": [],
   "source": []
  },
  {
   "cell_type": "code",
   "execution_count": 41,
   "metadata": {
    "collapsed": false
   },
   "outputs": [],
   "source": [
    "munged_train_df.to_csv('../data/offline/train.csv')\n",
    "munged_test_df.to_csv('../data/offline/test.csv')\n",
    "label_df.to_csv('../data/offline/y_train.csv')"
   ]
  },
  {
   "cell_type": "code",
   "execution_count": null,
   "metadata": {
    "collapsed": true
   },
   "outputs": [],
   "source": []
  },
  {
   "cell_type": "code",
   "execution_count": null,
   "metadata": {
    "collapsed": true
   },
   "outputs": [],
   "source": []
  }
 ],
 "metadata": {
  "anaconda-cloud": {},
  "kernelspec": {
   "display_name": "Python [conda root]",
   "language": "python",
   "name": "conda-root-py"
  },
  "language_info": {
   "codemirror_mode": {
    "name": "ipython",
    "version": 3
   },
   "file_extension": ".py",
   "mimetype": "text/x-python",
   "name": "python",
   "nbconvert_exporter": "python",
   "pygments_lexer": "ipython3",
   "version": "3.5.2"
  }
 },
 "nbformat": 4,
 "nbformat_minor": 1
}
