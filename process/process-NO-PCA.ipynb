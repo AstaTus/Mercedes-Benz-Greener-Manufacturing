{
 "cells": [
  {
   "cell_type": "code",
   "execution_count": 1,
   "metadata": {
    "collapsed": false
   },
   "outputs": [
    {
     "name": "stderr",
     "output_type": "stream",
     "text": [
      "C:\\Program Files\\Anaconda3\\lib\\site-packages\\sklearn\\cross_validation.py:44: DeprecationWarning: This module was deprecated in version 0.18 in favor of the model_selection module into which all the refactored classes and functions are moved. Also note that the interface of the new CV iterators are different from that of this module. This module will be removed in 0.20.\n",
      "  \"This module will be removed in 0.20.\", DeprecationWarning)\n",
      "C:\\Program Files\\Anaconda3\\lib\\site-packages\\sklearn\\grid_search.py:43: DeprecationWarning: This module was deprecated in version 0.18 in favor of the model_selection module into which all the refactored classes and functions are moved. This module will be removed in 0.20.\n",
      "  DeprecationWarning)\n"
     ]
    }
   ],
   "source": [
    "import pandas as pd\n",
    "import numpy as np\n",
    "from scipy.stats import skew\n",
    "\n",
    "import matplotlib.pyplot as plt\n",
    "\n",
    "from sklearn.ensemble import GradientBoostingRegressor\n",
    "from sklearn.ensemble import RandomForestRegressor\n",
    "from sklearn.model_selection import train_test_split\n",
    "from sklearn.metrics import classification_report\n",
    "from sklearn.model_selection import validation_curve\n",
    "from sklearn.model_selection import learning_curve\n",
    "from sklearn import metrics\n",
    "from sklearn.metrics import fbeta_score, make_scorer\n",
    "from sklearn.grid_search import GridSearchCV\n",
    "from sklearn.random_projection import GaussianRandomProjection\n",
    "from sklearn.random_projection import SparseRandomProjection"
   ]
  },
  {
   "cell_type": "code",
   "execution_count": 2,
   "metadata": {
    "collapsed": true
   },
   "outputs": [],
   "source": [
    "train_df = pd.read_csv('../data/original/train.csv', index_col=0)\n",
    "test_df = pd.read_csv('../data/original/test.csv', index_col=0)"
   ]
  },
  {
   "cell_type": "code",
   "execution_count": 4,
   "metadata": {
    "collapsed": false
   },
   "outputs": [],
   "source": [
    "label_df = pd.DataFrame(train_df['y'])\n",
    "train_df.drop(['y'], axis=1, inplace=True)"
   ]
  },
  {
   "cell_type": "code",
   "execution_count": 5,
   "metadata": {
    "collapsed": false
   },
   "outputs": [],
   "source": [
    "def munge(df):\n",
    "    all_df = pd.DataFrame(df.values, index=df.index, columns=df.columns, copy=True)\n",
    "    all_df.drop(['X0', 'X1', 'X2', 'X3', 'X4', 'X5', 'X6', 'X8'], axis=1, inplace=True)\n",
    "    \n",
    "    \n",
    "    #删除取值相同的特征\n",
    "    all_df.drop(['X11', 'X93', 'X107', 'X233', 'X235', 'X268', 'X289', 'X290' ,'X293' ,'X297', 'X330' ,'X347'], axis=1, inplace=True)\n",
    "    \n",
    "    #构造新特征\n",
    "    all_df['parts'] = all_df.sum(axis=1)\n",
    "    return all_df"
   ]
  },
  {
   "cell_type": "code",
   "execution_count": 6,
   "metadata": {
    "collapsed": false
   },
   "outputs": [],
   "source": [
    "munged_train_df = munge(train_df)\n",
    "munged_test_df = munge(test_df)"
   ]
  },
  {
   "cell_type": "code",
   "execution_count": 7,
   "metadata": {
    "collapsed": false
   },
   "outputs": [
    {
     "name": "stderr",
     "output_type": "stream",
     "text": [
      "C:\\Program Files\\Anaconda3\\lib\\site-packages\\sklearn\\preprocessing\\data.py:586: DeprecationWarning: Passing 1d arrays as data is deprecated in 0.17 and will raise ValueError in 0.19. Reshape your data either using X.reshape(-1, 1) if your data has a single feature or X.reshape(1, -1) if it contains a single sample.\n",
      "  warnings.warn(DEPRECATION_MSG_1D, DeprecationWarning)\n",
      "C:\\Program Files\\Anaconda3\\lib\\site-packages\\sklearn\\preprocessing\\data.py:649: DeprecationWarning: Passing 1d arrays as data is deprecated in 0.17 and will raise ValueError in 0.19. Reshape your data either using X.reshape(-1, 1) if your data has a single feature or X.reshape(1, -1) if it contains a single sample.\n",
      "  warnings.warn(DEPRECATION_MSG_1D, DeprecationWarning)\n",
      "C:\\Program Files\\Anaconda3\\lib\\site-packages\\sklearn\\preprocessing\\data.py:649: DeprecationWarning: Passing 1d arrays as data is deprecated in 0.17 and will raise ValueError in 0.19. Reshape your data either using X.reshape(-1, 1) if your data has a single feature or X.reshape(1, -1) if it contains a single sample.\n",
      "  warnings.warn(DEPRECATION_MSG_1D, DeprecationWarning)\n"
     ]
    }
   ],
   "source": [
    "from sklearn.preprocessing import StandardScaler\n",
    "scaler = StandardScaler()\n",
    "\n",
    "scaler.fit(munged_train_df['parts'])\n",
    "\n",
    "scaled = scaler.transform(munged_train_df['parts'])\n",
    "munged_train_df['parts'] = scaled\n",
    "\n",
    "scaled = scaler.transform(munged_test_df['parts'])\n",
    "munged_test_df['parts'] = scaled"
   ]
  },
  {
   "cell_type": "code",
   "execution_count": 8,
   "metadata": {
    "collapsed": true
   },
   "outputs": [],
   "source": [
    "# Convert categorical features using one-hot encoding.\n",
    "def onehot(onehot_df, df, column_name, fill_na):\n",
    "    onehot_df[column_name] = df[column_name]\n",
    "    if fill_na is not None:\n",
    "        onehot_df[column_name].fillna(fill_na, inplace=True)\n",
    "\n",
    "    dummies = pd.get_dummies(onehot_df[column_name], prefix = column_name)\n",
    "    \n",
    "    onehot_df = onehot_df.join(dummies)\n",
    "    onehot_df = onehot_df.drop([column_name], axis=1)\n",
    "    return onehot_df\n",
    "\n",
    "def munge_onehot(df):\n",
    "    onehot_df = pd.DataFrame(index = df.index)\n",
    "\n",
    "    onehot_df = onehot(onehot_df, df, \"X0\", None)\n",
    "    onehot_df = onehot(onehot_df, df, \"X1\", None)\n",
    "    onehot_df = onehot(onehot_df, df, \"X2\", None)\n",
    "    onehot_df = onehot(onehot_df, df, \"X3\", None)\n",
    "    onehot_df = onehot(onehot_df, df, \"X4\", None)\n",
    "    onehot_df = onehot(onehot_df, df, \"X5\", None)\n",
    "    onehot_df = onehot(onehot_df, df, \"X6\", None)\n",
    "    onehot_df = onehot(onehot_df, df, \"X8\", None)\n",
    "    \n",
    "    return onehot_df"
   ]
  },
  {
   "cell_type": "code",
   "execution_count": 9,
   "metadata": {
    "collapsed": false
   },
   "outputs": [],
   "source": [
    "onehot_df = munge_onehot(train_df)\n",
    "munged_train_df = munged_train_df.join(onehot_df)"
   ]
  },
  {
   "cell_type": "code",
   "execution_count": 10,
   "metadata": {
    "collapsed": true
   },
   "outputs": [],
   "source": [
    "onehot_df = munge_onehot(test_df)\n",
    "munged_test_df = munged_test_df.join(onehot_df)"
   ]
  },
  {
   "cell_type": "code",
   "execution_count": 11,
   "metadata": {
    "collapsed": false
   },
   "outputs": [
    {
     "data": {
      "text/plain": [
       "{'X0_ae',\n",
       " 'X0_ag',\n",
       " 'X0_an',\n",
       " 'X0_av',\n",
       " 'X0_bb',\n",
       " 'X0_p',\n",
       " 'X2_ab',\n",
       " 'X2_ad',\n",
       " 'X2_aj',\n",
       " 'X2_ax',\n",
       " 'X2_u',\n",
       " 'X2_w',\n",
       " 'X5_a',\n",
       " 'X5_b',\n",
       " 'X5_t',\n",
       " 'X5_z'}"
      ]
     },
     "execution_count": 11,
     "metadata": {},
     "output_type": "execute_result"
    }
   ],
   "source": [
    "set(munged_test_df) - set(munged_train_df)"
   ]
  },
  {
   "cell_type": "code",
   "execution_count": 12,
   "metadata": {
    "collapsed": true
   },
   "outputs": [],
   "source": [
    "#删除test中有的  而train中没有的\n",
    "munged_test_df.drop(['X0_ae', 'X0_ag', 'X0_an', 'X0_av', 'X0_bb', 'X0_p',\n",
    "                     'X2_ab', 'X2_ad', 'X2_aj', 'X2_ax', 'X2_u', 'X2_w', 'X5_a', 'X5_b', 'X5_t', 'X5_z'], axis=1, inplace=True)"
   ]
  },
  {
   "cell_type": "code",
   "execution_count": 13,
   "metadata": {
    "collapsed": false
   },
   "outputs": [
    {
     "data": {
      "text/plain": [
       "{'X0_aa',\n",
       " 'X0_ab',\n",
       " 'X0_ac',\n",
       " 'X0_q',\n",
       " 'X2_aa',\n",
       " 'X2_ar',\n",
       " 'X2_c',\n",
       " 'X2_l',\n",
       " 'X2_o',\n",
       " 'X5_u'}"
      ]
     },
     "execution_count": 13,
     "metadata": {},
     "output_type": "execute_result"
    }
   ],
   "source": [
    "set(munged_train_df) - set(munged_test_df)"
   ]
  },
  {
   "cell_type": "code",
   "execution_count": 14,
   "metadata": {
    "collapsed": true
   },
   "outputs": [],
   "source": [
    "#删除train中有的  而test中没有的\n",
    "munged_train_df.drop(['X0_aa', 'X0_ab', 'X0_ac', 'X0_q', 'X2_aa', 'X2_ar', 'X2_c', 'X2_l', 'X2_o', 'X5_u'], axis=1, inplace=True)"
   ]
  },
  {
   "cell_type": "code",
   "execution_count": 15,
   "metadata": {
    "collapsed": true
   },
   "outputs": [],
   "source": [
    "#删除一些占比非常不平衡的特征"
   ]
  },
  {
   "cell_type": "code",
   "execution_count": 16,
   "metadata": {
    "collapsed": false
   },
   "outputs": [
    {
     "data": {
      "text/plain": [
       "4153"
      ]
     },
     "execution_count": 16,
     "metadata": {},
     "output_type": "execute_result"
    }
   ],
   "source": [
    "munged_train_df['X10'].value_counts()[0]"
   ]
  },
  {
   "cell_type": "code",
   "execution_count": 17,
   "metadata": {
    "collapsed": false
   },
   "outputs": [
    {
     "name": "stdout",
     "output_type": "stream",
     "text": [
      "X10 p1 = 0.986695 p2 = 0.013305\n",
      "X15 p1 = 0.999525 p2 = 0.000475\n",
      "X16 p1 = 0.997387 p2 = 0.002613\n",
      "X17 p1 = 0.992397 p2 = 0.007603\n",
      "X18 p1 = 0.992160 p2 = 0.007840\n",
      "X21 p1 = 0.997387 p2 = 0.002613\n",
      "X23 p1 = 0.979330 p2 = 0.020670\n",
      "X24 p1 = 0.998099 p2 = 0.001901\n",
      "X26 p1 = 0.995011 p2 = 0.004989\n",
      "X28 p1 = 0.967451 p2 = 0.032549\n",
      "X29 p1 = 0.956997 p2 = 0.043003\n",
      "X30 p1 = 0.995486 p2 = 0.004514\n",
      "X32 p1 = 0.988833 p2 = 0.011167\n",
      "X33 p1 = 0.999762 p2 = 0.000238\n",
      "X34 p1 = 0.994536 p2 = 0.005464\n",
      "X36 p1 = 0.995486 p2 = 0.004514\n",
      "X38 p1 = 0.966738 p2 = 0.033262\n",
      "X39 p1 = 0.999762 p2 = 0.000238\n",
      "X40 p1 = 0.999287 p2 = 0.000713\n",
      "X41 p1 = 0.988596 p2 = 0.011404\n",
      "X42 p1 = 0.999762 p2 = 0.000238\n",
      "X44 p1 = 0.988596 p2 = 0.011404\n",
      "X47 p1 = 0.987170 p2 = 0.012830\n",
      "X48 p1 = 0.977667 p2 = 0.022333\n",
      "X52 p1 = 0.957710 p2 = 0.042290\n",
      "X53 p1 = 0.993110 p2 = 0.006890\n",
      "X54 p1 = 0.956522 p2 = 0.043478\n",
      "X55 p1 = 0.994773 p2 = 0.005227\n",
      "X56 p1 = 0.978855 p2 = 0.021145\n",
      "X57 p1 = 0.986695 p2 = 0.013305\n",
      "X59 p1 = 0.999287 p2 = 0.000713\n",
      "X60 p1 = 0.998574 p2 = 0.001426\n",
      "X61 p1 = 0.046092 p2 = 0.953908\n",
      "X62 p1 = 0.994060 p2 = 0.005940\n",
      "X63 p1 = 0.988596 p2 = 0.011404\n",
      "X65 p1 = 0.997862 p2 = 0.002138\n",
      "X66 p1 = 0.972915 p2 = 0.027085\n",
      "X67 p1 = 0.998099 p2 = 0.001901\n",
      "X69 p1 = 0.970064 p2 = 0.029936\n",
      "X73 p1 = 0.980043 p2 = 0.019957\n",
      "X74 p1 = 0.000713 p2 = 0.999287\n",
      "X75 p1 = 0.963887 p2 = 0.036113\n",
      "X76 p1 = 0.956522 p2 = 0.043478\n",
      "X77 p1 = 0.987408 p2 = 0.012592\n",
      "X78 p1 = 0.994298 p2 = 0.005702\n",
      "X79 p1 = 0.974816 p2 = 0.025184\n",
      "X82 p1 = 0.982894 p2 = 0.017106\n",
      "X83 p1 = 0.998812 p2 = 0.001188\n",
      "X86 p1 = 0.998574 p2 = 0.001426\n",
      "X87 p1 = 0.999050 p2 = 0.000950\n",
      "X88 p1 = 0.992872 p2 = 0.007128\n",
      "X89 p1 = 0.999287 p2 = 0.000713\n",
      "X90 p1 = 0.992635 p2 = 0.007365\n",
      "X91 p1 = 0.998337 p2 = 0.001663\n",
      "X92 p1 = 0.999050 p2 = 0.000950\n",
      "X94 p1 = 0.992635 p2 = 0.007365\n",
      "X95 p1 = 0.999762 p2 = 0.000238\n",
      "X97 p1 = 0.995723 p2 = 0.004277\n",
      "X99 p1 = 0.991447 p2 = 0.008553\n",
      "X102 p1 = 0.993110 p2 = 0.006890\n",
      "X104 p1 = 0.998099 p2 = 0.001901\n",
      "X105 p1 = 0.997624 p2 = 0.002376\n",
      "X106 p1 = 0.986933 p2 = 0.013067\n",
      "X108 p1 = 0.985270 p2 = 0.014730\n",
      "X109 p1 = 0.959610 p2 = 0.040390\n",
      "X110 p1 = 0.999050 p2 = 0.000950\n",
      "X111 p1 = 0.025184 p2 = 0.974816\n",
      "X112 p1 = 0.997149 p2 = 0.002851\n",
      "X113 p1 = 0.977667 p2 = 0.022333\n",
      "X117 p1 = 0.950820 p2 = 0.049180\n",
      "X120 p1 = 0.042290 p2 = 0.957710\n",
      "X122 p1 = 0.992872 p2 = 0.007128\n",
      "X123 p1 = 0.997387 p2 = 0.002613\n",
      "X124 p1 = 0.999525 p2 = 0.000475\n",
      "X125 p1 = 0.996911 p2 = 0.003089\n",
      "X126 p1 = 0.961036 p2 = 0.038964\n",
      "X128 p1 = 0.041578 p2 = 0.958422\n",
      "X130 p1 = 0.958422 p2 = 0.041578\n",
      "X131 p1 = 0.973390 p2 = 0.026610\n",
      "X134 p1 = 0.977667 p2 = 0.022333\n",
      "X135 p1 = 0.972915 p2 = 0.027085\n",
      "X136 p1 = 0.043478 p2 = 0.956522\n",
      "X138 p1 = 0.959135 p2 = 0.040865\n",
      "X140 p1 = 0.959610 p2 = 0.040390\n",
      "X141 p1 = 0.985745 p2 = 0.014255\n",
      "X143 p1 = 0.961749 p2 = 0.038251\n",
      "X145 p1 = 0.998574 p2 = 0.001426\n",
      "X146 p1 = 0.959135 p2 = 0.040865\n",
      "X147 p1 = 0.977667 p2 = 0.022333\n",
      "X148 p1 = 0.955096 p2 = 0.044904\n",
      "X152 p1 = 0.967688 p2 = 0.032312\n",
      "X153 p1 = 0.999287 p2 = 0.000713\n",
      "X159 p1 = 0.986458 p2 = 0.013542\n",
      "X160 p1 = 0.998812 p2 = 0.001188\n",
      "X162 p1 = 0.959135 p2 = 0.040865\n",
      "X165 p1 = 0.995486 p2 = 0.004514\n",
      "X166 p1 = 0.966738 p2 = 0.033262\n",
      "X167 p1 = 0.999050 p2 = 0.000950\n",
      "X169 p1 = 0.993348 p2 = 0.006652\n",
      "X170 p1 = 0.975766 p2 = 0.024234\n",
      "X172 p1 = 0.994060 p2 = 0.005940\n",
      "X173 p1 = 0.990259 p2 = 0.009741\n",
      "X174 p1 = 0.982656 p2 = 0.017344\n",
      "X175 p1 = 0.977667 p2 = 0.022333\n",
      "X176 p1 = 0.982894 p2 = 0.017106\n",
      "X179 p1 = 0.952008 p2 = 0.047992\n",
      "X183 p1 = 0.995961 p2 = 0.004039\n",
      "X184 p1 = 0.998574 p2 = 0.001426\n",
      "X185 p1 = 0.981231 p2 = 0.018769\n",
      "X190 p1 = 0.999762 p2 = 0.000238\n",
      "X192 p1 = 0.997624 p2 = 0.002376\n",
      "X195 p1 = 0.988358 p2 = 0.011642\n",
      "X196 p1 = 0.989784 p2 = 0.010216\n",
      "X197 p1 = 0.967688 p2 = 0.032312\n",
      "X198 p1 = 0.976954 p2 = 0.023046\n",
      "X199 p1 = 0.997149 p2 = 0.002851\n",
      "X200 p1 = 0.993348 p2 = 0.006652\n",
      "X203 p1 = 0.983131 p2 = 0.016869\n",
      "X204 p1 = 0.999762 p2 = 0.000238\n",
      "X205 p1 = 0.000238 p2 = 0.999762\n",
      "X206 p1 = 0.980756 p2 = 0.019244\n",
      "X207 p1 = 0.999762 p2 = 0.000238\n",
      "X210 p1 = 0.999762 p2 = 0.000238\n",
      "X211 p1 = 0.985032 p2 = 0.014968\n",
      "X212 p1 = 0.994536 p2 = 0.005464\n",
      "X213 p1 = 0.998099 p2 = 0.001901\n",
      "X214 p1 = 0.993110 p2 = 0.006890\n",
      "X216 p1 = 0.994060 p2 = 0.005940\n",
      "X217 p1 = 0.992635 p2 = 0.007365\n",
      "X221 p1 = 0.991922 p2 = 0.008078\n",
      "X222 p1 = 0.977667 p2 = 0.022333\n",
      "X226 p1 = 0.967688 p2 = 0.032312\n",
      "X227 p1 = 0.996911 p2 = 0.003089\n",
      "X228 p1 = 0.961036 p2 = 0.038964\n",
      "X229 p1 = 0.039914 p2 = 0.960086\n",
      "X230 p1 = 0.994773 p2 = 0.005227\n",
      "X231 p1 = 0.983844 p2 = 0.016156\n",
      "X232 p1 = 0.956997 p2 = 0.043003\n",
      "X236 p1 = 0.999525 p2 = 0.000475\n",
      "X237 p1 = 0.993348 p2 = 0.006652\n",
      "X239 p1 = 0.993110 p2 = 0.006890\n",
      "X240 p1 = 0.997149 p2 = 0.002851\n",
      "X242 p1 = 0.992635 p2 = 0.007365\n",
      "X243 p1 = 0.992872 p2 = 0.007128\n",
      "X245 p1 = 0.999287 p2 = 0.000713\n",
      "X248 p1 = 0.998574 p2 = 0.001426\n",
      "X249 p1 = 0.992397 p2 = 0.007603\n",
      "X252 p1 = 0.999287 p2 = 0.000713\n",
      "X253 p1 = 0.998574 p2 = 0.001426\n",
      "X254 p1 = 0.994773 p2 = 0.005227\n",
      "X255 p1 = 0.980518 p2 = 0.019482\n",
      "X257 p1 = 0.999762 p2 = 0.000238\n",
      "X258 p1 = 0.997624 p2 = 0.002376\n",
      "X259 p1 = 0.999762 p2 = 0.000238\n",
      "X260 p1 = 0.999762 p2 = 0.000238\n",
      "X262 p1 = 0.998574 p2 = 0.001426\n",
      "X263 p1 = 0.043003 p2 = 0.956997\n",
      "X264 p1 = 0.960561 p2 = 0.039439\n",
      "X266 p1 = 0.998574 p2 = 0.001426\n",
      "X267 p1 = 0.990972 p2 = 0.009028\n",
      "X269 p1 = 0.999525 p2 = 0.000475\n",
      "X270 p1 = 0.999762 p2 = 0.000238\n",
      "X271 p1 = 0.997862 p2 = 0.002138\n",
      "X272 p1 = 0.962461 p2 = 0.037539\n",
      "X274 p1 = 0.990021 p2 = 0.009979\n",
      "X276 p1 = 0.961511 p2 = 0.038489\n",
      "X277 p1 = 0.998574 p2 = 0.001426\n",
      "X278 p1 = 0.999525 p2 = 0.000475\n",
      "X279 p1 = 0.956997 p2 = 0.043003\n",
      "X280 p1 = 0.999762 p2 = 0.000238\n",
      "X281 p1 = 0.997387 p2 = 0.002613\n",
      "X282 p1 = 0.995961 p2 = 0.004039\n",
      "X284 p1 = 0.958898 p2 = 0.041102\n",
      "X287 p1 = 0.984082 p2 = 0.015918\n",
      "X288 p1 = 0.999762 p2 = 0.000238\n",
      "X291 p1 = 0.989546 p2 = 0.010454\n",
      "X292 p1 = 0.990972 p2 = 0.009028\n",
      "X295 p1 = 0.999762 p2 = 0.000238\n",
      "X296 p1 = 0.999762 p2 = 0.000238\n",
      "X298 p1 = 0.995486 p2 = 0.004514\n",
      "X299 p1 = 0.995486 p2 = 0.004514\n",
      "X301 p1 = 0.953196 p2 = 0.046804\n",
      "X302 p1 = 0.988596 p2 = 0.011404\n",
      "X305 p1 = 0.986695 p2 = 0.013305\n",
      "X306 p1 = 0.956284 p2 = 0.043716\n",
      "X307 p1 = 0.997862 p2 = 0.002138\n",
      "X308 p1 = 0.990497 p2 = 0.009503\n",
      "X309 p1 = 0.992872 p2 = 0.007128\n",
      "X310 p1 = 0.997387 p2 = 0.002613\n",
      "X312 p1 = 0.995723 p2 = 0.004277\n",
      "X315 p1 = 0.971252 p2 = 0.028748\n",
      "X317 p1 = 0.992397 p2 = 0.007603\n",
      "X318 p1 = 0.999287 p2 = 0.000713\n",
      "X319 p1 = 0.999525 p2 = 0.000475\n",
      "X320 p1 = 0.992872 p2 = 0.007128\n",
      "X322 p1 = 0.978142 p2 = 0.021858\n",
      "X323 p1 = 0.990734 p2 = 0.009266\n",
      "X325 p1 = 0.994298 p2 = 0.005702\n",
      "X326 p1 = 0.967688 p2 = 0.032312\n",
      "X328 p1 = 0.959848 p2 = 0.040152\n",
      "X332 p1 = 0.999287 p2 = 0.000713\n",
      "X333 p1 = 0.976004 p2 = 0.023996\n",
      "X335 p1 = 0.996436 p2 = 0.003564\n",
      "X338 p1 = 0.993110 p2 = 0.006890\n",
      "X339 p1 = 0.999762 p2 = 0.000238\n",
      "X340 p1 = 0.977667 p2 = 0.022333\n",
      "X341 p1 = 0.991922 p2 = 0.008078\n",
      "X342 p1 = 0.977667 p2 = 0.022333\n",
      "X344 p1 = 0.991447 p2 = 0.008553\n",
      "X345 p1 = 0.977667 p2 = 0.022333\n",
      "X346 p1 = 0.952483 p2 = 0.047517\n",
      "X349 p1 = 0.955096 p2 = 0.044904\n",
      "X353 p1 = 0.997862 p2 = 0.002138\n",
      "X357 p1 = 0.998812 p2 = 0.001188\n",
      "X359 p1 = 0.968163 p2 = 0.031837\n",
      "X361 p1 = 0.033975 p2 = 0.966025\n",
      "X364 p1 = 0.997149 p2 = 0.002851\n",
      "X365 p1 = 0.997149 p2 = 0.002851\n",
      "X366 p1 = 0.998812 p2 = 0.001188\n",
      "X369 p1 = 0.999525 p2 = 0.000475\n",
      "X370 p1 = 0.993348 p2 = 0.006652\n",
      "X371 p1 = 0.985745 p2 = 0.014255\n",
      "X372 p1 = 0.999525 p2 = 0.000475\n",
      "X373 p1 = 0.980756 p2 = 0.019244\n",
      "X378 p1 = 0.979330 p2 = 0.020670\n",
      "X379 p1 = 0.990497 p2 = 0.009503\n",
      "X380 p1 = 0.991922 p2 = 0.008078\n",
      "X382 p1 = 0.992397 p2 = 0.007603\n",
      "X383 p1 = 0.998337 p2 = 0.001663\n",
      "X384 p1 = 0.999525 p2 = 0.000475\n",
      "X385 p1 = 0.998574 p2 = 0.001426\n",
      "X0_a p1 = 0.995011 p2 = 0.004989\n",
      "X0_ad p1 = 0.996674 p2 = 0.003326\n",
      "X0_af p1 = 0.991684 p2 = 0.008316\n",
      "X0_ai p1 = 0.991922 p2 = 0.008078\n",
      "X0_aj p1 = 0.964124 p2 = 0.035876\n",
      "X0_al p1 = 0.984082 p2 = 0.015918\n",
      "X0_am p1 = 0.995723 p2 = 0.004277\n",
      "X0_ao p1 = 0.999050 p2 = 0.000950\n",
      "X0_ap p1 = 0.975529 p2 = 0.024471\n",
      "X0_aq p1 = 0.995723 p2 = 0.004277\n",
      "X0_as p1 = 0.997624 p2 = 0.002376\n",
      "X0_at p1 = 0.994060 p2 = 0.005940\n",
      "X0_au p1 = 0.997387 p2 = 0.002613\n",
      "X0_aw p1 = 0.996199 p2 = 0.003801\n",
      "X0_ax p1 = 0.995486 p2 = 0.004514\n",
      "X0_az p1 = 0.958422 p2 = 0.041578\n",
      "X0_b p1 = 0.997387 p2 = 0.002613\n",
      "X0_ba p1 = 0.993585 p2 = 0.006415\n",
      "X0_bc p1 = 0.998574 p2 = 0.001426\n",
      "X0_c p1 = 0.999287 p2 = 0.000713\n",
      "X0_d p1 = 0.982656 p2 = 0.017344\n",
      "X0_e p1 = 0.992397 p2 = 0.007603\n",
      "X0_g p1 = 0.999762 p2 = 0.000238\n",
      "X0_h p1 = 0.982181 p2 = 0.017819\n",
      "X0_i p1 = 0.995723 p2 = 0.004277\n",
      "X0_j p1 = 0.956997 p2 = 0.043003\n",
      "X0_k p1 = 0.997387 p2 = 0.002613\n",
      "X0_l p1 = 0.996199 p2 = 0.003801\n",
      "X0_m p1 = 0.991922 p2 = 0.008078\n",
      "X0_n p1 = 0.953671 p2 = 0.046329\n",
      "X0_r p1 = 0.997624 p2 = 0.002376\n",
      "X0_s p1 = 0.974816 p2 = 0.025184\n",
      "X0_u p1 = 0.995961 p2 = 0.004039\n",
      "X0_v p1 = 0.991447 p2 = 0.008553\n",
      "X0_w p1 = 0.956759 p2 = 0.043241\n",
      "X1_a p1 = 0.966025 p2 = 0.033975\n",
      "X1_ab p1 = 0.999287 p2 = 0.000713\n",
      "X1_c p1 = 0.971252 p2 = 0.028748\n",
      "X1_d p1 = 0.999287 p2 = 0.000713\n",
      "X1_e p1 = 0.992160 p2 = 0.007840\n",
      "X1_f p1 = 0.994536 p2 = 0.005464\n",
      "X1_g p1 = 0.998574 p2 = 0.001426\n",
      "X1_h p1 = 0.993110 p2 = 0.006890\n",
      "X1_i p1 = 0.951770 p2 = 0.048230\n",
      "X1_j p1 = 0.994773 p2 = 0.005227\n",
      "X1_k p1 = 0.995961 p2 = 0.004039\n",
      "X1_m p1 = 0.992397 p2 = 0.007603\n",
      "X1_n p1 = 0.995486 p2 = 0.004514\n",
      "X1_o p1 = 0.980518 p2 = 0.019482\n",
      "X1_p p1 = 0.997862 p2 = 0.002138\n",
      "X1_q p1 = 0.999287 p2 = 0.000713\n",
      "X1_t p1 = 0.992635 p2 = 0.007365\n",
      "X1_u p1 = 0.991209 p2 = 0.008791\n",
      "X1_w p1 = 0.987646 p2 = 0.012354\n",
      "X1_y p1 = 0.994536 p2 = 0.005464\n",
      "X1_z p1 = 0.989071 p2 = 0.010929\n",
      "X2_a p1 = 0.988833 p2 = 0.011167\n",
      "X2_ac p1 = 0.996911 p2 = 0.003089\n",
      "X2_af p1 = 0.999762 p2 = 0.000238\n",
      "X2_ag p1 = 0.995486 p2 = 0.004514\n",
      "X2_ah p1 = 0.999050 p2 = 0.000950\n",
      "X2_al p1 = 0.998812 p2 = 0.001188\n",
      "X2_am p1 = 0.999762 p2 = 0.000238\n",
      "X2_an p1 = 0.998812 p2 = 0.001188\n",
      "X2_ao p1 = 0.995248 p2 = 0.004752\n",
      "X2_ap p1 = 0.997387 p2 = 0.002613\n",
      "X2_aq p1 = 0.985032 p2 = 0.014968\n",
      "X2_at p1 = 0.998574 p2 = 0.001426\n",
      "X2_au p1 = 0.999287 p2 = 0.000713\n",
      "X2_av p1 = 0.999050 p2 = 0.000950\n",
      "X2_aw p1 = 0.998099 p2 = 0.001901\n",
      "X2_ay p1 = 0.987170 p2 = 0.012830\n",
      "X2_b p1 = 0.995011 p2 = 0.004989\n",
      "X2_d p1 = 0.995723 p2 = 0.004277\n",
      "X2_e p1 = 0.980756 p2 = 0.019244\n",
      "X2_f p1 = 0.979330 p2 = 0.020670\n",
      "X2_g p1 = 0.997149 p2 = 0.002851\n",
      "X2_h p1 = 0.998574 p2 = 0.001426\n",
      "X2_i p1 = 0.994060 p2 = 0.005940\n",
      "X2_j p1 = 0.999762 p2 = 0.000238\n",
      "X2_k p1 = 0.994060 p2 = 0.005940\n",
      "X2_n p1 = 0.967451 p2 = 0.032549\n",
      "X2_p p1 = 0.999050 p2 = 0.000950\n",
      "X2_q p1 = 0.998812 p2 = 0.001188\n",
      "X2_r p1 = 0.963649 p2 = 0.036351\n",
      "X2_s p1 = 0.977667 p2 = 0.022333\n",
      "X2_t p1 = 0.993110 p2 = 0.006890\n",
      "X2_x p1 = 0.997624 p2 = 0.002376\n",
      "X2_y p1 = 0.997387 p2 = 0.002613\n",
      "X2_z p1 = 0.995486 p2 = 0.004514\n",
      "X3_b p1 = 0.986458 p2 = 0.013542\n",
      "X3_e p1 = 0.961273 p2 = 0.038727\n",
      "X4_a p1 = 0.999525 p2 = 0.000475\n",
      "X4_b p1 = 0.999762 p2 = 0.000238\n",
      "X4_c p1 = 0.999762 p2 = 0.000238\n",
      "X4_d p1 = 0.000950 p2 = 0.999050\n",
      "X5_aa p1 = 0.973390 p2 = 0.026610\n",
      "X5_ab p1 = 0.953196 p2 = 0.046804\n",
      "X5_ac p1 = 0.952483 p2 = 0.047517\n",
      "X5_ad p1 = 0.956047 p2 = 0.043953\n",
      "X5_ae p1 = 0.951295 p2 = 0.048705\n",
      "X5_af p1 = 0.955334 p2 = 0.044666\n",
      "X5_ag p1 = 0.951532 p2 = 0.048468\n",
      "X5_ah p1 = 0.976954 p2 = 0.023046\n",
      "X5_c p1 = 0.968876 p2 = 0.031124\n",
      "X5_f p1 = 0.998337 p2 = 0.001663\n",
      "X5_g p1 = 0.999762 p2 = 0.000238\n",
      "X5_h p1 = 0.999762 p2 = 0.000238\n",
      "X5_i p1 = 0.950820 p2 = 0.049180\n",
      "X5_j p1 = 0.970302 p2 = 0.029698\n",
      "X5_k p1 = 0.957947 p2 = 0.042053\n",
      "X5_l p1 = 0.953671 p2 = 0.046329\n",
      "X5_m p1 = 0.950582 p2 = 0.049418\n",
      "X5_o p1 = 0.995248 p2 = 0.004752\n",
      "X5_p p1 = 0.950582 p2 = 0.049418\n",
      "X5_x p1 = 0.999525 p2 = 0.000475\n",
      "X5_y p1 = 0.999762 p2 = 0.000238\n",
      "X6_a p1 = 0.951057 p2 = 0.048943\n",
      "X6_b p1 = 0.993348 p2 = 0.006652\n",
      "X6_c p1 = 0.990972 p2 = 0.009028\n",
      "X6_e p1 = 0.997149 p2 = 0.002851\n",
      "X6_f p1 = 0.995248 p2 = 0.004752\n",
      "X6_h p1 = 0.954859 p2 = 0.045141\n",
      "X6_k p1 = 0.989784 p2 = 0.010216\n",
      "X8_a p1 = 0.950107 p2 = 0.049893\n",
      "X8_b p1 = 0.954859 p2 = 0.045141\n",
      "X8_c p1 = 0.976241 p2 = 0.023759\n",
      "X8_d p1 = 0.975529 p2 = 0.024471\n",
      "X8_g p1 = 0.969114 p2 = 0.030886\n",
      "X8_h p1 = 0.972202 p2 = 0.027798\n",
      "X8_k p1 = 0.958185 p2 = 0.041815\n",
      "X8_l p1 = 0.976004 p2 = 0.023996\n",
      "X8_m p1 = 0.963174 p2 = 0.036826\n",
      "X8_o p1 = 0.961273 p2 = 0.038727\n",
      "X8_p p1 = 0.976241 p2 = 0.023759\n",
      "X8_q p1 = 0.972202 p2 = 0.027798\n",
      "X8_t p1 = 0.971727 p2 = 0.028273\n",
      "X8_u p1 = 0.971727 p2 = 0.028273\n",
      "X8_v p1 = 0.953908 p2 = 0.046092\n",
      "X8_w p1 = 0.953433 p2 = 0.046567\n",
      "X8_x p1 = 0.975053 p2 = 0.024947\n",
      "X8_y p1 = 0.972440 p2 = 0.027560\n"
     ]
    }
   ],
   "source": [
    "s = munged_train_df.shape[0]\n",
    "drop_names = []\n",
    "for c in munged_train_df.drop(['parts'], axis=1).columns:\n",
    "    a = munged_train_df[c].value_counts()[0] / s\n",
    "    b = munged_train_df[c].value_counts()[1] / s\n",
    "    if (a < 0.05 or b < 0.05):\n",
    "        print('%s p1 = %f p2 = %f'%(c, a, b))\n",
    "        drop_names.append(c)"
   ]
  },
  {
   "cell_type": "code",
   "execution_count": 18,
   "metadata": {
    "collapsed": false
   },
   "outputs": [
    {
     "data": {
      "text/plain": [
       "373"
      ]
     },
     "execution_count": 18,
     "metadata": {},
     "output_type": "execute_result"
    }
   ],
   "source": [
    "len(drop_names)"
   ]
  },
  {
   "cell_type": "code",
   "execution_count": 19,
   "metadata": {
    "collapsed": false
   },
   "outputs": [],
   "source": [
    "munged_train_df.drop(drop_names, axis=1, inplace=True)\n",
    "munged_test_df.drop(drop_names, axis=1, inplace=True)"
   ]
  },
  {
   "cell_type": "code",
   "execution_count": 20,
   "metadata": {
    "collapsed": true
   },
   "outputs": [],
   "source": [
    "from sklearn.decomposition import PCA, FastICA"
   ]
  },
  {
   "cell_type": "code",
   "execution_count": 21,
   "metadata": {
    "collapsed": false
   },
   "outputs": [],
   "source": [
    "munged_train_df.to_csv('../data/offline/train.csv')\n",
    "munged_test_df.to_csv('../data/offline/test.csv')\n",
    "label_df.to_csv('../data/offline/y_train.csv')"
   ]
  },
  {
   "cell_type": "code",
   "execution_count": null,
   "metadata": {
    "collapsed": true
   },
   "outputs": [],
   "source": []
  },
  {
   "cell_type": "code",
   "execution_count": null,
   "metadata": {
    "collapsed": true
   },
   "outputs": [],
   "source": []
  }
 ],
 "metadata": {
  "anaconda-cloud": {},
  "kernelspec": {
   "display_name": "Python [conda root]",
   "language": "python",
   "name": "conda-root-py"
  },
  "language_info": {
   "codemirror_mode": {
    "name": "ipython",
    "version": 3
   },
   "file_extension": ".py",
   "mimetype": "text/x-python",
   "name": "python",
   "nbconvert_exporter": "python",
   "pygments_lexer": "ipython3",
   "version": "3.5.2"
  }
 },
 "nbformat": 4,
 "nbformat_minor": 1
}
